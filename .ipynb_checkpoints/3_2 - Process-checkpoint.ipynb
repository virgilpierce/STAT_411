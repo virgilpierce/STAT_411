{
 "cells": [
  {
   "cell_type": "markdown",
   "metadata": {},
   "source": [
    "# The Data Science Process\n",
    "\n",
    "## Professional Ethics\n",
    "\n",
    "Data Science and Machine Learning (and more broadly Computer Science) have great power. The techniques we will learn in this class are leading to algorithms giving computers the ability to make decisions based on a wealth of information. Facial recongition, credit and loan decisions, insurance pricing, are all examples of ways in which the tools we are learning in this class are being used.\n",
    "\n",
    "It is not then surprising that with these tools comes some questions of professional ethics. Today we will discuss a few things to keep in mind. The first step in our Data Science process is to consider the ethical implications of the data collection and question we are setting out on.\n",
    "\n",
    "#### Models Inherit Biases from the Data\n",
    "\n",
    "If your model is built upon data from a system with biases (credit data for example), it is likely your model will inherit those biases. It is not enough to say that the process of building the model does not introduce bias, we also must be aware of whether the data we build that model from has biases. \n",
    "\n",
    "#### Keep in Mind the Consequences of Errors\n",
    "\n",
    "As you build your model keep in mind the consequences of the errors in your model in the event it goes into production. These should guide you in the level of accuracy and the types and proportions of errors you can tolerate. An algorithm estimating the age of a tree from some features versus one being used to determine a likliehood that a prisoner will reoffend if paroled have much difference tolerances of error. \n",
    "\n",
    "#### Research on Human Subjects\n",
    "\n",
    "There are restrictions on how data can be collected and used when the research is being conducted on human subjects. At federally funded institutions, proposals to do research on human subjects must be reviewed by institutional review boards. They are looking for among other things: How the privacy of subjects is being protected, how the risk of harm to subjects is being minimized, and how subjects are informed of their rights. Of particular importance is protecting vulnerable subjects (minors and prisoners for example).\n",
    "\n",
    "This review must be done before data collection can be begin (typically).\n",
    "\n",
    "There are similar reviews that must occur for Research on Animals.\n",
    "\n",
    "#### Commitments Made about Data and Data Analysis\n",
    "\n",
    "In obtaining permission from an Institutional Review Board, or permission from a company or individual owning data you wish to use, you or your company might make some promises about how that data will be used or how it will be protected. For example, in obtaining permission from Twitter to access their API you will be required to promise that you will not seek to obtain information about the political affiliation of an individual user, or that you will not publish content from Twitter without their permission. You need to honor promises that you or your employer have made regarding data and its protection. This is essential to ensuring trust in the profession, and to protecting vulnerable populations and individuals privacy, and it is essential to protecting yourself. \n",
    "\n",
    "#### Follow the Error Control Process\n",
    "\n",
    "It is essential that when you finish the development of your model that you have as good an understanding of the accuracy of your model as you can. For example, the accuracy of your model, and the consequences for error may be one of the ethical issues you have dealt with. However even if your model is realtively innocous, you need to be able to understand its utility and pay off were it to be used in production. \n",
    "\n",
    "It is essnetial in your data science work that you follow a process that will result in an valid esitmate of the accuracy of your model. \n",
    "\n",
    "## Controlling for Error\n",
    "\n",
    "### Error in Regression Problems\n",
    "\n",
    "For today the gathering data process will be something we do here in Python by simmulating some data. Before we dive into an exploratory data analysis and developing a model, we should make a plan for how we will estimate the error of our model. Or even what we mean by the error of our model.\n",
    "\n",
    "Today, because I want us to be sure we understand the sources of error in our analysis we will build the dataset in Python in a way where we actually know the *correct model*. You should be thinking about the House Pricing problem or one of the other regression problems we have talked about.\n",
    "\n",
    "Suppose we have a predictor feature $x$ and a resulting value $y$ that have a linear relationship, however because we cannot possibly account for all of the variation there is some *Irreducible Error*. That is when we build our sample, there is a random variable that comes along with it.\n"
   ]
  },
  {
   "cell_type": "code",
   "execution_count": 2,
   "metadata": {},
   "outputs": [],
   "source": [
    "# Using the usual packages, plus scikitlearns LinearRegression tool; and numpy.random.\n",
    "\n",
    "import pandas as pa\n",
    "import numpy as np\n",
    "import numpy.random as rn\n",
    "import seaborn as sn\n",
    "import matplotlib.pyplot as plt\n",
    "from sklearn.linear_model import LinearRegression"
   ]
  },
  {
   "cell_type": "code",
   "execution_count": 3,
   "metadata": {},
   "outputs": [],
   "source": [
    "# Building a sample with a linear relationship y = 10 x + 7 + E; where E is a random normally \n",
    "# distributed error term with mean 0 and variance 200.\n",
    "\n",
    "x = 500*rn.random_sample(200)\n",
    "y = 10*x + 7 + 200*rn.randn(200)"
   ]
  },
  {
   "cell_type": "code",
   "execution_count": 4,
   "metadata": {},
   "outputs": [],
   "source": [
    "# Furthermore let's suppose there are a couple of data points that have a different E for\n",
    "# some reason \n",
    "\n",
    "xa = np.array([700, 300])\n",
    "ya = np.array([10*700 + 7 - 1500, 10*300 + 7 + 1500])"
   ]
  },
  {
   "cell_type": "code",
   "execution_count": 5,
   "metadata": {},
   "outputs": [
    {
     "data": {
      "text/html": [
       "<div>\n",
       "<style scoped>\n",
       "    .dataframe tbody tr th:only-of-type {\n",
       "        vertical-align: middle;\n",
       "    }\n",
       "\n",
       "    .dataframe tbody tr th {\n",
       "        vertical-align: top;\n",
       "    }\n",
       "\n",
       "    .dataframe thead th {\n",
       "        text-align: right;\n",
       "    }\n",
       "</style>\n",
       "<table border=\"1\" class=\"dataframe\">\n",
       "  <thead>\n",
       "    <tr style=\"text-align: right;\">\n",
       "      <th></th>\n",
       "      <th>x</th>\n",
       "      <th>a</th>\n",
       "      <th>y</th>\n",
       "    </tr>\n",
       "  </thead>\n",
       "  <tbody>\n",
       "    <tr>\n",
       "      <th>197</th>\n",
       "      <td>93.456193</td>\n",
       "      <td>0</td>\n",
       "      <td>739.492473</td>\n",
       "    </tr>\n",
       "    <tr>\n",
       "      <th>198</th>\n",
       "      <td>137.329629</td>\n",
       "      <td>0</td>\n",
       "      <td>1465.558394</td>\n",
       "    </tr>\n",
       "    <tr>\n",
       "      <th>199</th>\n",
       "      <td>173.858266</td>\n",
       "      <td>0</td>\n",
       "      <td>1291.805712</td>\n",
       "    </tr>\n",
       "    <tr>\n",
       "      <th>200</th>\n",
       "      <td>700.000000</td>\n",
       "      <td>1</td>\n",
       "      <td>5507.000000</td>\n",
       "    </tr>\n",
       "    <tr>\n",
       "      <th>201</th>\n",
       "      <td>300.000000</td>\n",
       "      <td>1</td>\n",
       "      <td>4507.000000</td>\n",
       "    </tr>\n",
       "  </tbody>\n",
       "</table>\n",
       "</div>"
      ],
      "text/plain": [
       "              x  a            y\n",
       "197   93.456193  0   739.492473\n",
       "198  137.329629  0  1465.558394\n",
       "199  173.858266  0  1291.805712\n",
       "200  700.000000  1  5507.000000\n",
       "201  300.000000  1  4507.000000"
      ]
     },
     "execution_count": 5,
     "metadata": {},
     "output_type": "execute_result"
    }
   ],
   "source": [
    "# Make a pandas.DataFrame of this data\n",
    "\n",
    "dfx = pa.DataFrame(x, columns=['x'])\n",
    "dfx['a'] = 0\n",
    "dfx['y'] = y\n",
    "dfx2 = pa.DataFrame(xa, columns=['x'])\n",
    "dfx2['a'] = 1\n",
    "dfx2['y'] = ya\n",
    "df = dfx.append(dfx2, ignore_index=True)\n",
    "df.tail()"
   ]
  },
  {
   "cell_type": "code",
   "execution_count": 6,
   "metadata": {},
   "outputs": [
    {
     "data": {
      "image/png": "[encoded data removed]",
      "text/plain": [
       "<Figure size 720x576 with 1 Axes>"
      ]
     },
     "metadata": {
      "needs_background": "light"
     },
     "output_type": "display_data"
    }
   ],
   "source": [
    "plt.figure(figsize=(10, 8))\n",
    "\n",
    "sn.scatterplot(x='x', y='y', hue='a', data=df);"
   ]
  },
  {
   "cell_type": "markdown",
   "metadata": {},
   "source": [
    "Note the presence of a relationship between predictor and result is readily apparent: \n",
    "$$ y = m x + b + E $$\n",
    "The goal of regression is to estimate the true values of the slope and intercept $(m, b)$ of this relationship. So note that there will be two sources of error: \n",
    "\n",
    "- Reduccible Error: This is error that we can eliminate by using a better model for the relationship. It is due in this example to us using a sample.\n",
    "- Irreduccible Error, $E$: This is the underlying error we introduced when we simulated the data. In real data it is due to factors not included in the model. This cannot be removed and our goal is instead to understand this term.\n",
    "\n",
    "### Making Test and Training Sets\n",
    "\n",
    "The first control measure we will make is to divide our data into a *test set* and a *training set*. We will build our model from the training set with the goal of making it perform as well on that as we can. We will then apply it to the test set to determine how well we did. This partitioning method will protect us from overfitting (as we get to more complicated examples we will see examples where overfitting is likely and a big concern). \n",
    "\n",
    "What is *overfitting*?  Overfitting is when the model we have built was based on the sample of the data we were given and was led astray from the true relationship. This leads to models that will perform well on their training data but poorly when applied to new data. For linear relationships and linear models, overfitting is not a big problem, but for nonlinear and higher dimensional relations it becomes more likely.\n"
   ]
  },
  {
   "cell_type": "code",
   "execution_count": 7,
   "metadata": {},
   "outputs": [],
   "source": [
    "# First convert the predictor and result variables into numpy.arrays suitable for applying in \n",
    "# scikitlearn functions (recall we did this last class)\n",
    "\n",
    "# We will keep the 'a' flag identifying our special points\n",
    "\n",
    "X = np.array(df[['x', 'a']])\n",
    "y = np.array(df['y'])"
   ]
  },
  {
   "cell_type": "code",
   "execution_count": 8,
   "metadata": {},
   "outputs": [],
   "source": [
    "# We shuffle the data using a random permutation\n",
    "\n",
    "n = X.shape[0]\n",
    "test = int(0.20*n)            # We will use a test set made up of 20% of the data from our sample\n",
    "perm = rn.permutation(n)   \n",
    "X = X[perm]\n",
    "y = y[perm]\n",
    "X_test = X[:test]       # Then create the test\n",
    "y_test = y[:test]\n",
    "X_train = X[test:]     # and train sets\n",
    "y_train = y[test:]"
   ]
  },
  {
   "cell_type": "code",
   "execution_count": 9,
   "metadata": {},
   "outputs": [
    {
     "data": {
      "text/plain": [
       "{0.0}"
      ]
     },
     "execution_count": 9,
     "metadata": {},
     "output_type": "execute_result"
    }
   ],
   "source": [
    "# Make sure the a=1 points are in X_train\n",
    "\n",
    "set(X_test[:, 1])"
   ]
  },
  {
   "cell_type": "markdown",
   "metadata": {},
   "source": [
    "### Regression Error\n",
    "\n",
    "Let us take an estimate for the slope and intercept, choosen mostly at random."
   ]
  },
  {
   "cell_type": "code",
   "execution_count": 10,
   "metadata": {},
   "outputs": [],
   "source": [
    "m, b = 9, 0"
   ]
  },
  {
   "cell_type": "markdown",
   "metadata": {},
   "source": [
    "We then use this to estimate $$\\hat{y} = m x + b$$"
   ]
  },
  {
   "cell_type": "code",
   "execution_count": 11,
   "metadata": {},
   "outputs": [
    {
     "data": {
      "image/png": "[encoded data removed]",
      "text/plain": [
       "<Figure size 720x576 with 1 Axes>"
      ]
     },
     "metadata": {
      "needs_background": "light"
     },
     "output_type": "display_data"
    }
   ],
   "source": [
    "plt.figure(figsize=(10, 8))\n",
    "\n",
    "plt.plot(X_train[X_train[:, 1]==0, 0], y_train[X_train[:, 1]==0], 'b.')\n",
    "plt.plot(X_train[X_train[:, 1]==1, 0], y_train[X_train[:, 1]==1], 'r.')\n",
    "x = np.linspace(0, 800, 10)\n",
    "yhat = m*x + b\n",
    "plt.plot(x, yhat, 'g-');"
   ]
  },
  {
   "cell_type": "markdown",
   "metadata": {},
   "source": [
    "We need a measurement of the error between our estimates $\\hat{y}$ and the actual training data. We will then choose $m$ and $b$ so that this error is minmized. There are then two tricks: \n",
    "\n",
    "- There are different choices of error that may make sense.\n",
    "- Once we have choosen one we need to choose the parameters that minimize it (or at least estimate them)\n",
    "\n",
    "A common choice of the error is sum of the square residual errors of the predicted $\\hat{y}$ from the sample values $y_i$ in the training set. We will learn in a future class how to compute the linear regression minimizing this choice of error. This gives the *Explained Variance* of the training set by the model.\n"
   ]
  },
  {
   "cell_type": "code",
   "execution_count": 12,
   "metadata": {},
   "outputs": [
    {
     "data": {
      "text/plain": [
       "24965362.620606966"
      ]
     },
     "execution_count": 12,
     "metadata": {},
     "output_type": "execute_result"
    }
   ],
   "source": [
    "yhat = m*X_train[:, 0]+b\n",
    "EV = sum( (yhat - y_train)**2 )\n",
    "EV"
   ]
  },
  {
   "cell_type": "markdown",
   "metadata": {},
   "source": [
    "The scikitlearn LinearRegression function will determine the model that minimizes this error."
   ]
  },
  {
   "cell_type": "code",
   "execution_count": 13,
   "metadata": {},
   "outputs": [],
   "source": [
    "reg = LinearRegression().fit(X_train[:, 0].reshape(-1, 1), y_train)"
   ]
  },
  {
   "cell_type": "code",
   "execution_count": 14,
   "metadata": {},
   "outputs": [
    {
     "data": {
      "text/plain": [
       "(61.69720209033267, 9.856936408687572)"
      ]
     },
     "execution_count": 14,
     "metadata": {},
     "output_type": "execute_result"
    }
   ],
   "source": [
    "b, m = reg.intercept_, *reg.coef_\n",
    "b, m"
   ]
  },
  {
   "cell_type": "code",
   "execution_count": 15,
   "metadata": {},
   "outputs": [
    {
     "data": {
      "image/png": "[encoded data removed]",
      "text/plain": [
       "<Figure size 720x576 with 1 Axes>"
      ]
     },
     "metadata": {
      "needs_background": "light"
     },
     "output_type": "display_data"
    }
   ],
   "source": [
    "plt.figure(figsize=(10, 8))\n",
    "\n",
    "plt.plot(X_train[X_train[:, 1]==0, 0], y_train[X_train[:, 1]==0], 'b.')\n",
    "plt.plot(X_train[X_train[:, 1]==1, 0], y_train[X_train[:, 1]==1], 'r.')\n",
    "x = np.linspace(0, 800, 10)\n",
    "yhat = m*x + b\n",
    "plt.plot(x, yhat, 'g-');"
   ]
  },
  {
   "cell_type": "code",
   "execution_count": 16,
   "metadata": {},
   "outputs": [
    {
     "data": {
      "text/plain": [
       "10689716.908191856"
      ]
     },
     "execution_count": 16,
     "metadata": {},
     "output_type": "execute_result"
    }
   ],
   "source": [
    "# Explained Variance using these values:\n",
    "\n",
    "yhat = m*X_train[:, 0]+b\n",
    "EV = sum( (yhat - y_train)**2 )\n",
    "EV"
   ]
  },
  {
   "cell_type": "markdown",
   "metadata": {},
   "source": [
    "Note: We missed the true relationship, particularly the intercept. Why?"
   ]
  },
  {
   "cell_type": "markdown",
   "metadata": {},
   "source": [
    "Of course this total error (*Explained Variance*) is not a great measure of how good our model was, as obviously it depends on the magnitudes and variations of the sample $y_i$. \n",
    "\n",
    "The *Total Variance* is given by the sum of the squares of the difference from the predicted values and the mean of the training data. "
   ]
  },
  {
   "cell_type": "code",
   "execution_count": 17,
   "metadata": {},
   "outputs": [
    {
     "data": {
      "text/plain": [
       "353568799.27190757"
      ]
     },
     "execution_count": 17,
     "metadata": {},
     "output_type": "execute_result"
    }
   ],
   "source": [
    "y_mean = np.mean(y_train)\n",
    "TV = sum( (yhat - y_mean)**2 )\n",
    "TV"
   ]
  },
  {
   "cell_type": "markdown",
   "metadata": {},
   "source": [
    "If the regression line correctly explains the variations of the data, i.e. if our model correctly accounts for all of the errors relative to the extent to which the $y_i$ vary anyway, then the ratio of *Explained Variance* to *Total Variance* will be small; $R^2$ is defined to be 1 minus this ratio. Notice though that if the Total Variance is large compared to the Explained Variance this will also result in an $R^2$ that is near 1. "
   ]
  },
  {
   "cell_type": "code",
   "execution_count": 18,
   "metadata": {},
   "outputs": [
    {
     "data": {
      "text/plain": [
       "0.9697662323988858"
      ]
     },
     "execution_count": 18,
     "metadata": {},
     "output_type": "execute_result"
    }
   ],
   "source": [
    "R2 = 1 - EV/TV\n",
    "R2"
   ]
  },
  {
   "cell_type": "markdown",
   "metadata": {},
   "source": [
    "Note each time we run the cells above for this computation we will get slightly different values of $m$, $b$, and $R^2$. This is because the sample and the division into training and testing sets is different each time."
   ]
  },
  {
   "cell_type": "markdown",
   "metadata": {},
   "source": [
    "### Checking the Influence of Individual Points\n",
    "\n",
    "Note that we have, or suspect we have, some points that do not fit the same pattern as the rest of the data. An important question is to consider the impact that these points have on the model we have computed. We do that by computing the linear regression with each point removed. Normally we would not know what points do not fit with the others (though we may have suspicions) so the best practice is to go through all of them.\n"
   ]
  },
  {
   "cell_type": "code",
   "execution_count": 50,
   "metadata": {},
   "outputs": [],
   "source": [
    "n = X_train.shape[0]\n",
    "lin_reg = [0 for k in range(n)]\n",
    "R2p = [0 for k in range(n)]\n",
    "for k in range(n):\n",
    "    Xtemp = np.append(X_train[:k], X_train[k+1:], axis=0)\n",
    "    ytemp = np.append(y_train[:k], y_train[k+1:], axis=0)\n",
    "    lin_reg[k] = LinearRegression().fit(Xtemp[:, 0].reshape(-1, 1), ytemp)\n",
    "    kEV = sum( (lin_reg[k].predict(X_train[:, 0].reshape(-1, 1)) - y_train)**2 ) \n",
    "    R2p[k] = 1 - kEV / TV"
   ]
  },
  {
   "cell_type": "code",
   "execution_count": 58,
   "metadata": {},
   "outputs": [
    {
     "data": {
      "image/png": "[encoded data removed]",
      "text/plain": [
       "<Figure size 432x288 with 1 Axes>"
      ]
     },
     "metadata": {
      "needs_background": "light"
     },
     "output_type": "display_data"
    }
   ],
   "source": [
    "plt.plot(range(n), R2p);  # Plot the sizes of the R2s"
   ]
  },
  {
   "cell_type": "code",
   "execution_count": 51,
   "metadata": {},
   "outputs": [
    {
     "data": {
      "text/plain": [
       "(0.969327229748359, 0.9697662323988858)"
      ]
     },
     "execution_count": 51,
     "metadata": {},
     "output_type": "execute_result"
    }
   ],
   "source": [
    "min(R2p), R2    # Compare the values of R2"
   ]
  },
  {
   "cell_type": "code",
   "execution_count": 56,
   "metadata": {},
   "outputs": [
    {
     "data": {
      "text/plain": [
       "94"
      ]
     },
     "execution_count": 56,
     "metadata": {},
     "output_type": "execute_result"
    }
   ],
   "source": [
    "R2p.index(min(R2p)) # Note the location of the minimum"
   ]
  },
  {
   "cell_type": "code",
   "execution_count": 57,
   "metadata": {},
   "outputs": [
    {
     "data": {
      "text/plain": [
       "array([700.,   1.])"
      ]
     },
     "execution_count": 57,
     "metadata": {},
     "output_type": "execute_result"
    }
   ],
   "source": [
    "X_train[94, :] # And we see that the off-pattern value at x=700 gives the minimum R2"
   ]
  },
  {
   "cell_type": "code",
   "execution_count": 59,
   "metadata": {},
   "outputs": [
    {
     "data": {
      "text/plain": [
       "55"
      ]
     },
     "execution_count": 59,
     "metadata": {},
     "output_type": "execute_result"
    }
   ],
   "source": [
    "# Locate the second minimum\n",
    "\n",
    "R2p[:94].index(min(R2p[:94]))"
   ]
  },
  {
   "cell_type": "code",
   "execution_count": 60,
   "metadata": {},
   "outputs": [
    {
     "data": {
      "text/plain": [
       "array([300.,   1.])"
      ]
     },
     "execution_count": 60,
     "metadata": {},
     "output_type": "execute_result"
    }
   ],
   "source": [
    "X_train[55, :] # And we see that the second off-pattern point gives the second smallest R2"
   ]
  },
  {
   "cell_type": "markdown",
   "metadata": {},
   "source": []
  }
 ],
 "metadata": {
  "kernelspec": {
   "display_name": "Python 3",
   "language": "python",
   "name": "python3"
  },
  "language_info": {
   "codemirror_mode": {
    "name": "ipython",
    "version": 3
   },
   "file_extension": ".py",
   "mimetype": "text/x-python",
   "name": "python",
   "nbconvert_exporter": "python",
   "pygments_lexer": "ipython3",
   "version": "3.7.3"
  }
 },
 "nbformat": 4,
 "nbformat_minor": 4
}

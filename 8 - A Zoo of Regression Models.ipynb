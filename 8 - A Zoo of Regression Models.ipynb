{
 "cells": [
  {
   "cell_type": "markdown",
   "metadata": {},
   "source": [
    "# Ridge and Lasso Regression\n",
    "\n",
    "Today we are going to explore two more Linear Regression methods. Next class we will explore additional classification methods: *Linear Discriminant Analysis*, *Support Vector Machines*\n",
    "\n",
    "It is worth pausing though and pointing out that we will not have time in this class to go over every method. It is worth reading through the documentation on the scikitlearn help page to see the complete lists of methods for which we have algorithms. The documentation includes a discussion of the mathematical underpinnings of the methods as well as some advice on what problems or types of issues they are meant to work best on.\n",
    "\n",
    "[scikitlearn documentation](https://scikit-learn.org/stable/)\n",
    "\n",
    "To review: \n",
    "\n",
    "**Advantages of Linear Regression**: \n",
    "- Fast model to train, \n",
    "- founded on mathematical principles from basic courses (*Linear Algebra and Calculus*), \n",
    "- easy model to interpret (the coeffecients tell us the precise effect of the features)\n",
    "- Rigid model (less chance of overfitting)\n",
    "- Adding additional features improves the $R^2$ for the training data\n",
    "\n",
    "**Disadvantages of Linear Regression**:\n",
    "- Assumes linear relationships (can be mitigated in some cases by transforming features to new features)\n",
    "- Requires lots of features if they are categorical\n",
    "- Rigid model (will not respond to nonlinearity)\n",
    "- Adding additional features may not improve the $R^2$ for the testing data\n",
    "\n",
    "**A new disadvantage**:\n",
    "- Interpretation becomes hard if the number of features used is very large. \n",
    "- Adding additional features makes the model found more complicated\n",
    "\n",
    "Meaning the algorithm finds the best linear model for the result from the predictors which will mean that it has a tendency to use all of the features and assign a non-zero coefficient to them. This is problematic because:\n",
    "\n",
    "1. It makes interpretation difficult because the model developed incorporates every feature;\n",
    "2. It also makes the model dependent on less important features and might therefore introduce overfitting depending on the training data.\n",
    "\n",
    "Overall the principal is that given two linear models for our data with comparable errors on the testing data, we would prefer the one that has more coefficients that are zero or near zero. There is nothing in our Linear Regression method that encourages coefficients to not get too large.\n",
    "\n",
    "We will develop two new models below, based on the principle of linear regression, but with an adjustment that will result in encouraging them to find models with small or zero coefficients. We will see that both models outperform *Linear Regression* at least in the test case and provided we choose the parameters carefully.\n",
    "\n",
    "And that last sentence is the real description of what we are doing, we are introducing a parameter to the model that will give us some tuning or adjustment we can make to encourage the model to perform better, similar to the $k$ in $k$-*Nearest Neighbors*. Note that *Linear Regression* had no such thing.\n",
    "\n",
    "## House Pricing Data\n",
    "\n",
    "The difference between *Linear Regression* and *Ridge or LASSO Regression* becomes apparent when the number of features is large. Hence we will work with the House Pricing Data we have seen before, and we need to do some preliminary work to convert a number of categorical features into numerical ones. I stopped before I was completely done but you can get the idea."
   ]
  },
  {
   "cell_type": "code",
   "execution_count": 157,
   "metadata": {},
   "outputs": [],
   "source": [
    "import pandas as pa\n",
    "import numpy as np\n",
    "import matplotlib.pyplot as plt"
   ]
  },
  {
   "cell_type": "code",
   "execution_count": 158,
   "metadata": {},
   "outputs": [
    {
     "data": {
      "text/html": [
       "<div>\n",
       "<style scoped>\n",
       "    .dataframe tbody tr th:only-of-type {\n",
       "        vertical-align: middle;\n",
       "    }\n",
       "\n",
       "    .dataframe tbody tr th {\n",
       "        vertical-align: top;\n",
       "    }\n",
       "\n",
       "    .dataframe thead th {\n",
       "        text-align: right;\n",
       "    }\n",
       "</style>\n",
       "<table border=\"1\" class=\"dataframe\">\n",
       "  <thead>\n",
       "    <tr style=\"text-align: right;\">\n",
       "      <th></th>\n",
       "      <th>Id</th>\n",
       "      <th>MSSubClass</th>\n",
       "      <th>MSZoning</th>\n",
       "      <th>LotFrontage</th>\n",
       "      <th>LotArea</th>\n",
       "      <th>Street</th>\n",
       "      <th>Alley</th>\n",
       "      <th>LotShape</th>\n",
       "      <th>LandContour</th>\n",
       "      <th>Utilities</th>\n",
       "      <th>...</th>\n",
       "      <th>PoolArea</th>\n",
       "      <th>PoolQC</th>\n",
       "      <th>Fence</th>\n",
       "      <th>MiscFeature</th>\n",
       "      <th>MiscVal</th>\n",
       "      <th>MoSold</th>\n",
       "      <th>YrSold</th>\n",
       "      <th>SaleType</th>\n",
       "      <th>SaleCondition</th>\n",
       "      <th>SalePrice</th>\n",
       "    </tr>\n",
       "  </thead>\n",
       "  <tbody>\n",
       "    <tr>\n",
       "      <td>0</td>\n",
       "      <td>1</td>\n",
       "      <td>60</td>\n",
       "      <td>RL</td>\n",
       "      <td>65.0</td>\n",
       "      <td>8450</td>\n",
       "      <td>Pave</td>\n",
       "      <td>NaN</td>\n",
       "      <td>Reg</td>\n",
       "      <td>Lvl</td>\n",
       "      <td>AllPub</td>\n",
       "      <td>...</td>\n",
       "      <td>0</td>\n",
       "      <td>NaN</td>\n",
       "      <td>NaN</td>\n",
       "      <td>NaN</td>\n",
       "      <td>0</td>\n",
       "      <td>2</td>\n",
       "      <td>2008</td>\n",
       "      <td>WD</td>\n",
       "      <td>Normal</td>\n",
       "      <td>208500</td>\n",
       "    </tr>\n",
       "    <tr>\n",
       "      <td>1</td>\n",
       "      <td>2</td>\n",
       "      <td>20</td>\n",
       "      <td>RL</td>\n",
       "      <td>80.0</td>\n",
       "      <td>9600</td>\n",
       "      <td>Pave</td>\n",
       "      <td>NaN</td>\n",
       "      <td>Reg</td>\n",
       "      <td>Lvl</td>\n",
       "      <td>AllPub</td>\n",
       "      <td>...</td>\n",
       "      <td>0</td>\n",
       "      <td>NaN</td>\n",
       "      <td>NaN</td>\n",
       "      <td>NaN</td>\n",
       "      <td>0</td>\n",
       "      <td>5</td>\n",
       "      <td>2007</td>\n",
       "      <td>WD</td>\n",
       "      <td>Normal</td>\n",
       "      <td>181500</td>\n",
       "    </tr>\n",
       "    <tr>\n",
       "      <td>2</td>\n",
       "      <td>3</td>\n",
       "      <td>60</td>\n",
       "      <td>RL</td>\n",
       "      <td>68.0</td>\n",
       "      <td>11250</td>\n",
       "      <td>Pave</td>\n",
       "      <td>NaN</td>\n",
       "      <td>IR1</td>\n",
       "      <td>Lvl</td>\n",
       "      <td>AllPub</td>\n",
       "      <td>...</td>\n",
       "      <td>0</td>\n",
       "      <td>NaN</td>\n",
       "      <td>NaN</td>\n",
       "      <td>NaN</td>\n",
       "      <td>0</td>\n",
       "      <td>9</td>\n",
       "      <td>2008</td>\n",
       "      <td>WD</td>\n",
       "      <td>Normal</td>\n",
       "      <td>223500</td>\n",
       "    </tr>\n",
       "    <tr>\n",
       "      <td>3</td>\n",
       "      <td>4</td>\n",
       "      <td>70</td>\n",
       "      <td>RL</td>\n",
       "      <td>60.0</td>\n",
       "      <td>9550</td>\n",
       "      <td>Pave</td>\n",
       "      <td>NaN</td>\n",
       "      <td>IR1</td>\n",
       "      <td>Lvl</td>\n",
       "      <td>AllPub</td>\n",
       "      <td>...</td>\n",
       "      <td>0</td>\n",
       "      <td>NaN</td>\n",
       "      <td>NaN</td>\n",
       "      <td>NaN</td>\n",
       "      <td>0</td>\n",
       "      <td>2</td>\n",
       "      <td>2006</td>\n",
       "      <td>WD</td>\n",
       "      <td>Abnorml</td>\n",
       "      <td>140000</td>\n",
       "    </tr>\n",
       "    <tr>\n",
       "      <td>4</td>\n",
       "      <td>5</td>\n",
       "      <td>60</td>\n",
       "      <td>RL</td>\n",
       "      <td>84.0</td>\n",
       "      <td>14260</td>\n",
       "      <td>Pave</td>\n",
       "      <td>NaN</td>\n",
       "      <td>IR1</td>\n",
       "      <td>Lvl</td>\n",
       "      <td>AllPub</td>\n",
       "      <td>...</td>\n",
       "      <td>0</td>\n",
       "      <td>NaN</td>\n",
       "      <td>NaN</td>\n",
       "      <td>NaN</td>\n",
       "      <td>0</td>\n",
       "      <td>12</td>\n",
       "      <td>2008</td>\n",
       "      <td>WD</td>\n",
       "      <td>Normal</td>\n",
       "      <td>250000</td>\n",
       "    </tr>\n",
       "  </tbody>\n",
       "</table>\n",
       "<p>5 rows × 81 columns</p>\n",
       "</div>"
      ],
      "text/plain": [
       "   Id  MSSubClass MSZoning  LotFrontage  LotArea Street Alley LotShape  \\\n",
       "0   1          60       RL         65.0     8450   Pave   NaN      Reg   \n",
       "1   2          20       RL         80.0     9600   Pave   NaN      Reg   \n",
       "2   3          60       RL         68.0    11250   Pave   NaN      IR1   \n",
       "3   4          70       RL         60.0     9550   Pave   NaN      IR1   \n",
       "4   5          60       RL         84.0    14260   Pave   NaN      IR1   \n",
       "\n",
       "  LandContour Utilities  ... PoolArea PoolQC Fence MiscFeature MiscVal MoSold  \\\n",
       "0         Lvl    AllPub  ...        0    NaN   NaN         NaN       0      2   \n",
       "1         Lvl    AllPub  ...        0    NaN   NaN         NaN       0      5   \n",
       "2         Lvl    AllPub  ...        0    NaN   NaN         NaN       0      9   \n",
       "3         Lvl    AllPub  ...        0    NaN   NaN         NaN       0      2   \n",
       "4         Lvl    AllPub  ...        0    NaN   NaN         NaN       0     12   \n",
       "\n",
       "  YrSold  SaleType  SaleCondition  SalePrice  \n",
       "0   2008        WD         Normal     208500  \n",
       "1   2007        WD         Normal     181500  \n",
       "2   2008        WD         Normal     223500  \n",
       "3   2006        WD        Abnorml     140000  \n",
       "4   2008        WD         Normal     250000  \n",
       "\n",
       "[5 rows x 81 columns]"
      ]
     },
     "execution_count": 158,
     "metadata": {},
     "output_type": "execute_result"
    }
   ],
   "source": [
    "# Consider the following dataset about homes that sold in a city in Iowa\n",
    "\n",
    "hd = pa.read_csv('Data Sets/house-prices/train.csv')\n",
    "\n",
    "hd.head()"
   ]
  },
  {
   "cell_type": "code",
   "execution_count": 159,
   "metadata": {},
   "outputs": [],
   "source": [
    "def onehot(df, feature):\n",
    "    '''A function to do one-hot-encoding of a feature from a dataframe. df = dataframe'''\n",
    "\n",
    "    v = list(set(df[feature])) # Make an iterable of the unique values for the feature\n",
    "    \n",
    "    for c in df.index: # cycle through the samples\n",
    "        t = df.loc[c, feature]\n",
    "        \n",
    "        for test in v:\n",
    "            if pa.isna(test):  # nan values are sort of a problem and have to be handled separately\n",
    "                if pa.isna(t):\n",
    "                    df.loc[c, '{}_nan'.format(feature)] = 1\n",
    "                else:\n",
    "                    df.loc[c, '{}_nan'.format(feature)] = 0\n",
    "            else:\n",
    "                if t == test:\n",
    "                    df.loc[c, '{}_{}'.format(feature, test)] = 1  # Makes a new feature with name feature_value\n",
    "                                                              # and codes it as a 1 if that was the value\n",
    "                else:\n",
    "                    df.loc[c, '{}_{}'.format(feature, test)] = 0  # and 0 otherwise\n",
    "            \n",
    "    return df.drop(feature, axis=1) # returns a dataframe with the encoded feature removed"
   ]
  },
  {
   "cell_type": "code",
   "execution_count": 160,
   "metadata": {},
   "outputs": [
    {
     "data": {
      "text/plain": [
       "{0, 1}"
      ]
     },
     "execution_count": 160,
     "metadata": {},
     "output_type": "execute_result"
    }
   ],
   "source": [
    "# We can recode it using a dictionary and .map()\n",
    "Street_dict = {'Grvl':0, 'Pave':1, 0:0, 1:1}  \n",
    "# Note we include the trivial coding of the new values as otherwise if we run this twice\n",
    "# it produces NaN values for the Street feature.\n",
    "hd.Street = hd.Street.map(Street_dict)\n",
    "set(hd.Street)"
   ]
  },
  {
   "cell_type": "code",
   "execution_count": 161,
   "metadata": {},
   "outputs": [
    {
     "data": {
      "text/html": [
       "<div>\n",
       "<style scoped>\n",
       "    .dataframe tbody tr th:only-of-type {\n",
       "        vertical-align: middle;\n",
       "    }\n",
       "\n",
       "    .dataframe tbody tr th {\n",
       "        vertical-align: top;\n",
       "    }\n",
       "\n",
       "    .dataframe thead th {\n",
       "        text-align: right;\n",
       "    }\n",
       "</style>\n",
       "<table border=\"1\" class=\"dataframe\">\n",
       "  <thead>\n",
       "    <tr style=\"text-align: right;\">\n",
       "      <th></th>\n",
       "      <th>Id</th>\n",
       "      <th>MSSubClass</th>\n",
       "      <th>MSZoning</th>\n",
       "      <th>LotFrontage</th>\n",
       "      <th>LotArea</th>\n",
       "      <th>Street</th>\n",
       "      <th>Utilities</th>\n",
       "      <th>LotConfig</th>\n",
       "      <th>LandSlope</th>\n",
       "      <th>Neighborhood</th>\n",
       "      <th>...</th>\n",
       "      <th>ExterQual_TA</th>\n",
       "      <th>ExterQual_Fa</th>\n",
       "      <th>LotShape_IR3</th>\n",
       "      <th>LotShape_IR1</th>\n",
       "      <th>LotShape_Reg</th>\n",
       "      <th>LotShape_IR2</th>\n",
       "      <th>LandContour_Lvl</th>\n",
       "      <th>LandContour_Low</th>\n",
       "      <th>LandContour_Bnk</th>\n",
       "      <th>LandContour_HLS</th>\n",
       "    </tr>\n",
       "  </thead>\n",
       "  <tbody>\n",
       "    <tr>\n",
       "      <td>0</td>\n",
       "      <td>1</td>\n",
       "      <td>60</td>\n",
       "      <td>RL</td>\n",
       "      <td>65.0</td>\n",
       "      <td>8450</td>\n",
       "      <td>1</td>\n",
       "      <td>AllPub</td>\n",
       "      <td>Inside</td>\n",
       "      <td>Gtl</td>\n",
       "      <td>CollgCr</td>\n",
       "      <td>...</td>\n",
       "      <td>0.0</td>\n",
       "      <td>0.0</td>\n",
       "      <td>0.0</td>\n",
       "      <td>0.0</td>\n",
       "      <td>1.0</td>\n",
       "      <td>0.0</td>\n",
       "      <td>1.0</td>\n",
       "      <td>0.0</td>\n",
       "      <td>0.0</td>\n",
       "      <td>0.0</td>\n",
       "    </tr>\n",
       "    <tr>\n",
       "      <td>1</td>\n",
       "      <td>2</td>\n",
       "      <td>20</td>\n",
       "      <td>RL</td>\n",
       "      <td>80.0</td>\n",
       "      <td>9600</td>\n",
       "      <td>1</td>\n",
       "      <td>AllPub</td>\n",
       "      <td>FR2</td>\n",
       "      <td>Gtl</td>\n",
       "      <td>Veenker</td>\n",
       "      <td>...</td>\n",
       "      <td>1.0</td>\n",
       "      <td>0.0</td>\n",
       "      <td>0.0</td>\n",
       "      <td>0.0</td>\n",
       "      <td>1.0</td>\n",
       "      <td>0.0</td>\n",
       "      <td>1.0</td>\n",
       "      <td>0.0</td>\n",
       "      <td>0.0</td>\n",
       "      <td>0.0</td>\n",
       "    </tr>\n",
       "    <tr>\n",
       "      <td>2</td>\n",
       "      <td>3</td>\n",
       "      <td>60</td>\n",
       "      <td>RL</td>\n",
       "      <td>68.0</td>\n",
       "      <td>11250</td>\n",
       "      <td>1</td>\n",
       "      <td>AllPub</td>\n",
       "      <td>Inside</td>\n",
       "      <td>Gtl</td>\n",
       "      <td>CollgCr</td>\n",
       "      <td>...</td>\n",
       "      <td>0.0</td>\n",
       "      <td>0.0</td>\n",
       "      <td>0.0</td>\n",
       "      <td>1.0</td>\n",
       "      <td>0.0</td>\n",
       "      <td>0.0</td>\n",
       "      <td>1.0</td>\n",
       "      <td>0.0</td>\n",
       "      <td>0.0</td>\n",
       "      <td>0.0</td>\n",
       "    </tr>\n",
       "    <tr>\n",
       "      <td>3</td>\n",
       "      <td>4</td>\n",
       "      <td>70</td>\n",
       "      <td>RL</td>\n",
       "      <td>60.0</td>\n",
       "      <td>9550</td>\n",
       "      <td>1</td>\n",
       "      <td>AllPub</td>\n",
       "      <td>Corner</td>\n",
       "      <td>Gtl</td>\n",
       "      <td>Crawfor</td>\n",
       "      <td>...</td>\n",
       "      <td>1.0</td>\n",
       "      <td>0.0</td>\n",
       "      <td>0.0</td>\n",
       "      <td>1.0</td>\n",
       "      <td>0.0</td>\n",
       "      <td>0.0</td>\n",
       "      <td>1.0</td>\n",
       "      <td>0.0</td>\n",
       "      <td>0.0</td>\n",
       "      <td>0.0</td>\n",
       "    </tr>\n",
       "    <tr>\n",
       "      <td>4</td>\n",
       "      <td>5</td>\n",
       "      <td>60</td>\n",
       "      <td>RL</td>\n",
       "      <td>84.0</td>\n",
       "      <td>14260</td>\n",
       "      <td>1</td>\n",
       "      <td>AllPub</td>\n",
       "      <td>FR2</td>\n",
       "      <td>Gtl</td>\n",
       "      <td>NoRidge</td>\n",
       "      <td>...</td>\n",
       "      <td>0.0</td>\n",
       "      <td>0.0</td>\n",
       "      <td>0.0</td>\n",
       "      <td>1.0</td>\n",
       "      <td>0.0</td>\n",
       "      <td>0.0</td>\n",
       "      <td>1.0</td>\n",
       "      <td>0.0</td>\n",
       "      <td>0.0</td>\n",
       "      <td>0.0</td>\n",
       "    </tr>\n",
       "  </tbody>\n",
       "</table>\n",
       "<p>5 rows × 92 columns</p>\n",
       "</div>"
      ],
      "text/plain": [
       "   Id  MSSubClass MSZoning  LotFrontage  LotArea  Street Utilities LotConfig  \\\n",
       "0   1          60       RL         65.0     8450       1    AllPub    Inside   \n",
       "1   2          20       RL         80.0     9600       1    AllPub       FR2   \n",
       "2   3          60       RL         68.0    11250       1    AllPub    Inside   \n",
       "3   4          70       RL         60.0     9550       1    AllPub    Corner   \n",
       "4   5          60       RL         84.0    14260       1    AllPub       FR2   \n",
       "\n",
       "  LandSlope Neighborhood  ... ExterQual_TA ExterQual_Fa LotShape_IR3  \\\n",
       "0       Gtl      CollgCr  ...          0.0          0.0          0.0   \n",
       "1       Gtl      Veenker  ...          1.0          0.0          0.0   \n",
       "2       Gtl      CollgCr  ...          0.0          0.0          0.0   \n",
       "3       Gtl      Crawfor  ...          1.0          0.0          0.0   \n",
       "4       Gtl      NoRidge  ...          0.0          0.0          0.0   \n",
       "\n",
       "  LotShape_IR1  LotShape_Reg  LotShape_IR2  LandContour_Lvl  LandContour_Low  \\\n",
       "0          0.0           1.0           0.0              1.0              0.0   \n",
       "1          0.0           1.0           0.0              1.0              0.0   \n",
       "2          1.0           0.0           0.0              1.0              0.0   \n",
       "3          1.0           0.0           0.0              1.0              0.0   \n",
       "4          1.0           0.0           0.0              1.0              0.0   \n",
       "\n",
       "  LandContour_Bnk LandContour_HLS  \n",
       "0             0.0             0.0  \n",
       "1             0.0             0.0  \n",
       "2             0.0             0.0  \n",
       "3             0.0             0.0  \n",
       "4             0.0             0.0  \n",
       "\n",
       "[5 rows x 92 columns]"
      ]
     },
     "execution_count": 161,
     "metadata": {},
     "output_type": "execute_result"
    }
   ],
   "source": [
    "hd2 = onehot(hd, 'Alley')\n",
    "hd3 = onehot(onehot(onehot(hd2, 'ExterQual'), 'LotShape'), 'LandContour')\n",
    "hd3.head()"
   ]
  },
  {
   "cell_type": "code",
   "execution_count": 162,
   "metadata": {},
   "outputs": [
    {
     "data": {
      "text/html": [
       "<div>\n",
       "<style scoped>\n",
       "    .dataframe tbody tr th:only-of-type {\n",
       "        vertical-align: middle;\n",
       "    }\n",
       "\n",
       "    .dataframe tbody tr th {\n",
       "        vertical-align: top;\n",
       "    }\n",
       "\n",
       "    .dataframe thead th {\n",
       "        text-align: right;\n",
       "    }\n",
       "</style>\n",
       "<table border=\"1\" class=\"dataframe\">\n",
       "  <thead>\n",
       "    <tr style=\"text-align: right;\">\n",
       "      <th></th>\n",
       "      <th>Id</th>\n",
       "      <th>MSSubClass</th>\n",
       "      <th>MSZoning</th>\n",
       "      <th>LotFrontage</th>\n",
       "      <th>LotArea</th>\n",
       "      <th>Street</th>\n",
       "      <th>Utilities</th>\n",
       "      <th>LotConfig</th>\n",
       "      <th>LandSlope</th>\n",
       "      <th>Neighborhood</th>\n",
       "      <th>...</th>\n",
       "      <th>ExterQual_TA</th>\n",
       "      <th>ExterQual_Fa</th>\n",
       "      <th>LotShape_IR3</th>\n",
       "      <th>LotShape_IR1</th>\n",
       "      <th>LotShape_Reg</th>\n",
       "      <th>LotShape_IR2</th>\n",
       "      <th>LandContour_Lvl</th>\n",
       "      <th>LandContour_Low</th>\n",
       "      <th>LandContour_Bnk</th>\n",
       "      <th>LandContour_HLS</th>\n",
       "    </tr>\n",
       "  </thead>\n",
       "  <tbody>\n",
       "    <tr>\n",
       "      <td>0</td>\n",
       "      <td>1</td>\n",
       "      <td>60</td>\n",
       "      <td>RL</td>\n",
       "      <td>65.0</td>\n",
       "      <td>8450</td>\n",
       "      <td>1</td>\n",
       "      <td>1</td>\n",
       "      <td>Inside</td>\n",
       "      <td>Gtl</td>\n",
       "      <td>CollgCr</td>\n",
       "      <td>...</td>\n",
       "      <td>0.0</td>\n",
       "      <td>0.0</td>\n",
       "      <td>0.0</td>\n",
       "      <td>0.0</td>\n",
       "      <td>1.0</td>\n",
       "      <td>0.0</td>\n",
       "      <td>1.0</td>\n",
       "      <td>0.0</td>\n",
       "      <td>0.0</td>\n",
       "      <td>0.0</td>\n",
       "    </tr>\n",
       "    <tr>\n",
       "      <td>1</td>\n",
       "      <td>2</td>\n",
       "      <td>20</td>\n",
       "      <td>RL</td>\n",
       "      <td>80.0</td>\n",
       "      <td>9600</td>\n",
       "      <td>1</td>\n",
       "      <td>1</td>\n",
       "      <td>FR2</td>\n",
       "      <td>Gtl</td>\n",
       "      <td>Veenker</td>\n",
       "      <td>...</td>\n",
       "      <td>1.0</td>\n",
       "      <td>0.0</td>\n",
       "      <td>0.0</td>\n",
       "      <td>0.0</td>\n",
       "      <td>1.0</td>\n",
       "      <td>0.0</td>\n",
       "      <td>1.0</td>\n",
       "      <td>0.0</td>\n",
       "      <td>0.0</td>\n",
       "      <td>0.0</td>\n",
       "    </tr>\n",
       "    <tr>\n",
       "      <td>2</td>\n",
       "      <td>3</td>\n",
       "      <td>60</td>\n",
       "      <td>RL</td>\n",
       "      <td>68.0</td>\n",
       "      <td>11250</td>\n",
       "      <td>1</td>\n",
       "      <td>1</td>\n",
       "      <td>Inside</td>\n",
       "      <td>Gtl</td>\n",
       "      <td>CollgCr</td>\n",
       "      <td>...</td>\n",
       "      <td>0.0</td>\n",
       "      <td>0.0</td>\n",
       "      <td>0.0</td>\n",
       "      <td>1.0</td>\n",
       "      <td>0.0</td>\n",
       "      <td>0.0</td>\n",
       "      <td>1.0</td>\n",
       "      <td>0.0</td>\n",
       "      <td>0.0</td>\n",
       "      <td>0.0</td>\n",
       "    </tr>\n",
       "    <tr>\n",
       "      <td>3</td>\n",
       "      <td>4</td>\n",
       "      <td>70</td>\n",
       "      <td>RL</td>\n",
       "      <td>60.0</td>\n",
       "      <td>9550</td>\n",
       "      <td>1</td>\n",
       "      <td>1</td>\n",
       "      <td>Corner</td>\n",
       "      <td>Gtl</td>\n",
       "      <td>Crawfor</td>\n",
       "      <td>...</td>\n",
       "      <td>1.0</td>\n",
       "      <td>0.0</td>\n",
       "      <td>0.0</td>\n",
       "      <td>1.0</td>\n",
       "      <td>0.0</td>\n",
       "      <td>0.0</td>\n",
       "      <td>1.0</td>\n",
       "      <td>0.0</td>\n",
       "      <td>0.0</td>\n",
       "      <td>0.0</td>\n",
       "    </tr>\n",
       "    <tr>\n",
       "      <td>4</td>\n",
       "      <td>5</td>\n",
       "      <td>60</td>\n",
       "      <td>RL</td>\n",
       "      <td>84.0</td>\n",
       "      <td>14260</td>\n",
       "      <td>1</td>\n",
       "      <td>1</td>\n",
       "      <td>FR2</td>\n",
       "      <td>Gtl</td>\n",
       "      <td>NoRidge</td>\n",
       "      <td>...</td>\n",
       "      <td>0.0</td>\n",
       "      <td>0.0</td>\n",
       "      <td>0.0</td>\n",
       "      <td>1.0</td>\n",
       "      <td>0.0</td>\n",
       "      <td>0.0</td>\n",
       "      <td>1.0</td>\n",
       "      <td>0.0</td>\n",
       "      <td>0.0</td>\n",
       "      <td>0.0</td>\n",
       "    </tr>\n",
       "  </tbody>\n",
       "</table>\n",
       "<p>5 rows × 92 columns</p>\n",
       "</div>"
      ],
      "text/plain": [
       "   Id  MSSubClass MSZoning  LotFrontage  LotArea  Street  Utilities LotConfig  \\\n",
       "0   1          60       RL         65.0     8450       1          1    Inside   \n",
       "1   2          20       RL         80.0     9600       1          1       FR2   \n",
       "2   3          60       RL         68.0    11250       1          1    Inside   \n",
       "3   4          70       RL         60.0     9550       1          1    Corner   \n",
       "4   5          60       RL         84.0    14260       1          1       FR2   \n",
       "\n",
       "  LandSlope Neighborhood  ... ExterQual_TA ExterQual_Fa LotShape_IR3  \\\n",
       "0       Gtl      CollgCr  ...          0.0          0.0          0.0   \n",
       "1       Gtl      Veenker  ...          1.0          0.0          0.0   \n",
       "2       Gtl      CollgCr  ...          0.0          0.0          0.0   \n",
       "3       Gtl      Crawfor  ...          1.0          0.0          0.0   \n",
       "4       Gtl      NoRidge  ...          0.0          0.0          0.0   \n",
       "\n",
       "  LotShape_IR1  LotShape_Reg  LotShape_IR2  LandContour_Lvl  LandContour_Low  \\\n",
       "0          0.0           1.0           0.0              1.0              0.0   \n",
       "1          0.0           1.0           0.0              1.0              0.0   \n",
       "2          1.0           0.0           0.0              1.0              0.0   \n",
       "3          1.0           0.0           0.0              1.0              0.0   \n",
       "4          1.0           0.0           0.0              1.0              0.0   \n",
       "\n",
       "  LandContour_Bnk LandContour_HLS  \n",
       "0             0.0             0.0  \n",
       "1             0.0             0.0  \n",
       "2             0.0             0.0  \n",
       "3             0.0             0.0  \n",
       "4             0.0             0.0  \n",
       "\n",
       "[5 rows x 92 columns]"
      ]
     },
     "execution_count": 162,
     "metadata": {},
     "output_type": "execute_result"
    }
   ],
   "source": [
    "Utilities_dict = {'AllPub':1, 'NoSeWa':0, 1:1, 0:0}\n",
    "hd3.Utilities = hd3.Utilities.map(Utilities_dict)\n",
    "hd3.head()"
   ]
  },
  {
   "cell_type": "code",
   "execution_count": 163,
   "metadata": {},
   "outputs": [
    {
     "data": {
      "text/html": [
       "<div>\n",
       "<style scoped>\n",
       "    .dataframe tbody tr th:only-of-type {\n",
       "        vertical-align: middle;\n",
       "    }\n",
       "\n",
       "    .dataframe tbody tr th {\n",
       "        vertical-align: top;\n",
       "    }\n",
       "\n",
       "    .dataframe thead th {\n",
       "        text-align: right;\n",
       "    }\n",
       "</style>\n",
       "<table border=\"1\" class=\"dataframe\">\n",
       "  <thead>\n",
       "    <tr style=\"text-align: right;\">\n",
       "      <th></th>\n",
       "      <th>Id</th>\n",
       "      <th>MSSubClass</th>\n",
       "      <th>LotFrontage</th>\n",
       "      <th>LotArea</th>\n",
       "      <th>Street</th>\n",
       "      <th>Utilities</th>\n",
       "      <th>Condition1</th>\n",
       "      <th>Condition2</th>\n",
       "      <th>BldgType</th>\n",
       "      <th>HouseStyle</th>\n",
       "      <th>...</th>\n",
       "      <th>Neighborhood_Mitchel</th>\n",
       "      <th>Neighborhood_StoneBr</th>\n",
       "      <th>Neighborhood_SawyerW</th>\n",
       "      <th>Neighborhood_MeadowV</th>\n",
       "      <th>Neighborhood_CollgCr</th>\n",
       "      <th>MSZoning_C (all)</th>\n",
       "      <th>MSZoning_RH</th>\n",
       "      <th>MSZoning_RL</th>\n",
       "      <th>MSZoning_FV</th>\n",
       "      <th>MSZoning_RM</th>\n",
       "    </tr>\n",
       "  </thead>\n",
       "  <tbody>\n",
       "    <tr>\n",
       "      <td>0</td>\n",
       "      <td>1</td>\n",
       "      <td>60</td>\n",
       "      <td>65.0</td>\n",
       "      <td>8450</td>\n",
       "      <td>1</td>\n",
       "      <td>1</td>\n",
       "      <td>Norm</td>\n",
       "      <td>Norm</td>\n",
       "      <td>1Fam</td>\n",
       "      <td>2Story</td>\n",
       "      <td>...</td>\n",
       "      <td>0.0</td>\n",
       "      <td>0.0</td>\n",
       "      <td>0.0</td>\n",
       "      <td>0.0</td>\n",
       "      <td>1.0</td>\n",
       "      <td>0.0</td>\n",
       "      <td>0.0</td>\n",
       "      <td>1.0</td>\n",
       "      <td>0.0</td>\n",
       "      <td>0.0</td>\n",
       "    </tr>\n",
       "    <tr>\n",
       "      <td>1</td>\n",
       "      <td>2</td>\n",
       "      <td>20</td>\n",
       "      <td>80.0</td>\n",
       "      <td>9600</td>\n",
       "      <td>1</td>\n",
       "      <td>1</td>\n",
       "      <td>Feedr</td>\n",
       "      <td>Norm</td>\n",
       "      <td>1Fam</td>\n",
       "      <td>1Story</td>\n",
       "      <td>...</td>\n",
       "      <td>0.0</td>\n",
       "      <td>0.0</td>\n",
       "      <td>0.0</td>\n",
       "      <td>0.0</td>\n",
       "      <td>0.0</td>\n",
       "      <td>0.0</td>\n",
       "      <td>0.0</td>\n",
       "      <td>1.0</td>\n",
       "      <td>0.0</td>\n",
       "      <td>0.0</td>\n",
       "    </tr>\n",
       "    <tr>\n",
       "      <td>2</td>\n",
       "      <td>3</td>\n",
       "      <td>60</td>\n",
       "      <td>68.0</td>\n",
       "      <td>11250</td>\n",
       "      <td>1</td>\n",
       "      <td>1</td>\n",
       "      <td>Norm</td>\n",
       "      <td>Norm</td>\n",
       "      <td>1Fam</td>\n",
       "      <td>2Story</td>\n",
       "      <td>...</td>\n",
       "      <td>0.0</td>\n",
       "      <td>0.0</td>\n",
       "      <td>0.0</td>\n",
       "      <td>0.0</td>\n",
       "      <td>1.0</td>\n",
       "      <td>0.0</td>\n",
       "      <td>0.0</td>\n",
       "      <td>1.0</td>\n",
       "      <td>0.0</td>\n",
       "      <td>0.0</td>\n",
       "    </tr>\n",
       "    <tr>\n",
       "      <td>3</td>\n",
       "      <td>4</td>\n",
       "      <td>70</td>\n",
       "      <td>60.0</td>\n",
       "      <td>9550</td>\n",
       "      <td>1</td>\n",
       "      <td>1</td>\n",
       "      <td>Norm</td>\n",
       "      <td>Norm</td>\n",
       "      <td>1Fam</td>\n",
       "      <td>2Story</td>\n",
       "      <td>...</td>\n",
       "      <td>0.0</td>\n",
       "      <td>0.0</td>\n",
       "      <td>0.0</td>\n",
       "      <td>0.0</td>\n",
       "      <td>0.0</td>\n",
       "      <td>0.0</td>\n",
       "      <td>0.0</td>\n",
       "      <td>1.0</td>\n",
       "      <td>0.0</td>\n",
       "      <td>0.0</td>\n",
       "    </tr>\n",
       "    <tr>\n",
       "      <td>4</td>\n",
       "      <td>5</td>\n",
       "      <td>60</td>\n",
       "      <td>84.0</td>\n",
       "      <td>14260</td>\n",
       "      <td>1</td>\n",
       "      <td>1</td>\n",
       "      <td>Norm</td>\n",
       "      <td>Norm</td>\n",
       "      <td>1Fam</td>\n",
       "      <td>2Story</td>\n",
       "      <td>...</td>\n",
       "      <td>0.0</td>\n",
       "      <td>0.0</td>\n",
       "      <td>0.0</td>\n",
       "      <td>0.0</td>\n",
       "      <td>0.0</td>\n",
       "      <td>0.0</td>\n",
       "      <td>0.0</td>\n",
       "      <td>1.0</td>\n",
       "      <td>0.0</td>\n",
       "      <td>0.0</td>\n",
       "    </tr>\n",
       "  </tbody>\n",
       "</table>\n",
       "<p>5 rows × 126 columns</p>\n",
       "</div>"
      ],
      "text/plain": [
       "   Id  MSSubClass  LotFrontage  LotArea  Street  Utilities Condition1  \\\n",
       "0   1          60         65.0     8450       1          1       Norm   \n",
       "1   2          20         80.0     9600       1          1      Feedr   \n",
       "2   3          60         68.0    11250       1          1       Norm   \n",
       "3   4          70         60.0     9550       1          1       Norm   \n",
       "4   5          60         84.0    14260       1          1       Norm   \n",
       "\n",
       "  Condition2 BldgType HouseStyle  ...  Neighborhood_Mitchel  \\\n",
       "0       Norm     1Fam     2Story  ...                   0.0   \n",
       "1       Norm     1Fam     1Story  ...                   0.0   \n",
       "2       Norm     1Fam     2Story  ...                   0.0   \n",
       "3       Norm     1Fam     2Story  ...                   0.0   \n",
       "4       Norm     1Fam     2Story  ...                   0.0   \n",
       "\n",
       "   Neighborhood_StoneBr  Neighborhood_SawyerW  Neighborhood_MeadowV  \\\n",
       "0                   0.0                   0.0                   0.0   \n",
       "1                   0.0                   0.0                   0.0   \n",
       "2                   0.0                   0.0                   0.0   \n",
       "3                   0.0                   0.0                   0.0   \n",
       "4                   0.0                   0.0                   0.0   \n",
       "\n",
       "  Neighborhood_CollgCr MSZoning_C (all) MSZoning_RH MSZoning_RL MSZoning_FV  \\\n",
       "0                  1.0              0.0         0.0         1.0         0.0   \n",
       "1                  0.0              0.0         0.0         1.0         0.0   \n",
       "2                  1.0              0.0         0.0         1.0         0.0   \n",
       "3                  0.0              0.0         0.0         1.0         0.0   \n",
       "4                  0.0              0.0         0.0         1.0         0.0   \n",
       "\n",
       "   MSZoning_RM  \n",
       "0          0.0  \n",
       "1          0.0  \n",
       "2          0.0  \n",
       "3          0.0  \n",
       "4          0.0  \n",
       "\n",
       "[5 rows x 126 columns]"
      ]
     },
     "execution_count": 163,
     "metadata": {},
     "output_type": "execute_result"
    }
   ],
   "source": [
    "hd4 = onehot(onehot(onehot(onehot(hd3, 'LotConfig'), 'LandSlope'), 'Neighborhood'), 'MSZoning')\n",
    "hd4.head()"
   ]
  },
  {
   "cell_type": "code",
   "execution_count": 164,
   "metadata": {},
   "outputs": [],
   "source": [
    "def condition(df, feature1, feature2):\n",
    "    \n",
    "    #This is onehot encoding but for features that represent the same things \n",
    "    # - i.e. where a sample could have two values identified.\n",
    "    \n",
    "    v = set(list(set(df[feature1])) + list(set(df[feature2])))  # Build a list of the possible outputs\n",
    "    \n",
    "    for c in df.index: # cycle through the samples\n",
    "        t1 = df.loc[c, feature1]\n",
    "        t2 = df.loc[c, feature2]\n",
    "        \n",
    "        for test in v:\n",
    "            if (t1==test) or (t2==test):\n",
    "                df.loc[c, '{}_{}'.format(feature1, test)] = 1  # Makes a new feature with name feature_value\n",
    "                                                            # and codes it as a 1 if that was the value\n",
    "            else:\n",
    "                df.loc[c, '{}_{}'.format(feature1, test)] = 0  # and 0 otherwise\n",
    "            \n",
    "    return df.drop([feature1, feature2], axis=1) # returns a dataframe with the encoded feature removed"
   ]
  },
  {
   "cell_type": "code",
   "execution_count": 165,
   "metadata": {},
   "outputs": [
    {
     "data": {
      "text/html": [
       "<div>\n",
       "<style scoped>\n",
       "    .dataframe tbody tr th:only-of-type {\n",
       "        vertical-align: middle;\n",
       "    }\n",
       "\n",
       "    .dataframe tbody tr th {\n",
       "        vertical-align: top;\n",
       "    }\n",
       "\n",
       "    .dataframe thead th {\n",
       "        text-align: right;\n",
       "    }\n",
       "</style>\n",
       "<table border=\"1\" class=\"dataframe\">\n",
       "  <thead>\n",
       "    <tr style=\"text-align: right;\">\n",
       "      <th></th>\n",
       "      <th>Id</th>\n",
       "      <th>MSSubClass</th>\n",
       "      <th>LotFrontage</th>\n",
       "      <th>LotArea</th>\n",
       "      <th>Street</th>\n",
       "      <th>Utilities</th>\n",
       "      <th>BldgType</th>\n",
       "      <th>HouseStyle</th>\n",
       "      <th>OverallQual</th>\n",
       "      <th>OverallCond</th>\n",
       "      <th>...</th>\n",
       "      <th>MSZoning_RM</th>\n",
       "      <th>Condition1_RRNe</th>\n",
       "      <th>Condition1_RRAe</th>\n",
       "      <th>Condition1_PosN</th>\n",
       "      <th>Condition1_Feedr</th>\n",
       "      <th>Condition1_Artery</th>\n",
       "      <th>Condition1_PosA</th>\n",
       "      <th>Condition1_RRAn</th>\n",
       "      <th>Condition1_RRNn</th>\n",
       "      <th>Condition1_Norm</th>\n",
       "    </tr>\n",
       "  </thead>\n",
       "  <tbody>\n",
       "    <tr>\n",
       "      <td>0</td>\n",
       "      <td>1</td>\n",
       "      <td>60</td>\n",
       "      <td>65.0</td>\n",
       "      <td>8450</td>\n",
       "      <td>1</td>\n",
       "      <td>1</td>\n",
       "      <td>1Fam</td>\n",
       "      <td>2Story</td>\n",
       "      <td>7</td>\n",
       "      <td>5</td>\n",
       "      <td>...</td>\n",
       "      <td>0.0</td>\n",
       "      <td>0.0</td>\n",
       "      <td>0.0</td>\n",
       "      <td>0.0</td>\n",
       "      <td>0.0</td>\n",
       "      <td>0.0</td>\n",
       "      <td>0.0</td>\n",
       "      <td>0.0</td>\n",
       "      <td>0.0</td>\n",
       "      <td>1.0</td>\n",
       "    </tr>\n",
       "    <tr>\n",
       "      <td>1</td>\n",
       "      <td>2</td>\n",
       "      <td>20</td>\n",
       "      <td>80.0</td>\n",
       "      <td>9600</td>\n",
       "      <td>1</td>\n",
       "      <td>1</td>\n",
       "      <td>1Fam</td>\n",
       "      <td>1Story</td>\n",
       "      <td>6</td>\n",
       "      <td>8</td>\n",
       "      <td>...</td>\n",
       "      <td>0.0</td>\n",
       "      <td>0.0</td>\n",
       "      <td>0.0</td>\n",
       "      <td>0.0</td>\n",
       "      <td>1.0</td>\n",
       "      <td>0.0</td>\n",
       "      <td>0.0</td>\n",
       "      <td>0.0</td>\n",
       "      <td>0.0</td>\n",
       "      <td>1.0</td>\n",
       "    </tr>\n",
       "    <tr>\n",
       "      <td>2</td>\n",
       "      <td>3</td>\n",
       "      <td>60</td>\n",
       "      <td>68.0</td>\n",
       "      <td>11250</td>\n",
       "      <td>1</td>\n",
       "      <td>1</td>\n",
       "      <td>1Fam</td>\n",
       "      <td>2Story</td>\n",
       "      <td>7</td>\n",
       "      <td>5</td>\n",
       "      <td>...</td>\n",
       "      <td>0.0</td>\n",
       "      <td>0.0</td>\n",
       "      <td>0.0</td>\n",
       "      <td>0.0</td>\n",
       "      <td>0.0</td>\n",
       "      <td>0.0</td>\n",
       "      <td>0.0</td>\n",
       "      <td>0.0</td>\n",
       "      <td>0.0</td>\n",
       "      <td>1.0</td>\n",
       "    </tr>\n",
       "    <tr>\n",
       "      <td>3</td>\n",
       "      <td>4</td>\n",
       "      <td>70</td>\n",
       "      <td>60.0</td>\n",
       "      <td>9550</td>\n",
       "      <td>1</td>\n",
       "      <td>1</td>\n",
       "      <td>1Fam</td>\n",
       "      <td>2Story</td>\n",
       "      <td>7</td>\n",
       "      <td>5</td>\n",
       "      <td>...</td>\n",
       "      <td>0.0</td>\n",
       "      <td>0.0</td>\n",
       "      <td>0.0</td>\n",
       "      <td>0.0</td>\n",
       "      <td>0.0</td>\n",
       "      <td>0.0</td>\n",
       "      <td>0.0</td>\n",
       "      <td>0.0</td>\n",
       "      <td>0.0</td>\n",
       "      <td>1.0</td>\n",
       "    </tr>\n",
       "    <tr>\n",
       "      <td>4</td>\n",
       "      <td>5</td>\n",
       "      <td>60</td>\n",
       "      <td>84.0</td>\n",
       "      <td>14260</td>\n",
       "      <td>1</td>\n",
       "      <td>1</td>\n",
       "      <td>1Fam</td>\n",
       "      <td>2Story</td>\n",
       "      <td>8</td>\n",
       "      <td>5</td>\n",
       "      <td>...</td>\n",
       "      <td>0.0</td>\n",
       "      <td>0.0</td>\n",
       "      <td>0.0</td>\n",
       "      <td>0.0</td>\n",
       "      <td>0.0</td>\n",
       "      <td>0.0</td>\n",
       "      <td>0.0</td>\n",
       "      <td>0.0</td>\n",
       "      <td>0.0</td>\n",
       "      <td>1.0</td>\n",
       "    </tr>\n",
       "  </tbody>\n",
       "</table>\n",
       "<p>5 rows × 133 columns</p>\n",
       "</div>"
      ],
      "text/plain": [
       "   Id  MSSubClass  LotFrontage  LotArea  Street  Utilities BldgType  \\\n",
       "0   1          60         65.0     8450       1          1     1Fam   \n",
       "1   2          20         80.0     9600       1          1     1Fam   \n",
       "2   3          60         68.0    11250       1          1     1Fam   \n",
       "3   4          70         60.0     9550       1          1     1Fam   \n",
       "4   5          60         84.0    14260       1          1     1Fam   \n",
       "\n",
       "  HouseStyle  OverallQual  OverallCond  ...  MSZoning_RM  Condition1_RRNe  \\\n",
       "0     2Story            7            5  ...          0.0              0.0   \n",
       "1     1Story            6            8  ...          0.0              0.0   \n",
       "2     2Story            7            5  ...          0.0              0.0   \n",
       "3     2Story            7            5  ...          0.0              0.0   \n",
       "4     2Story            8            5  ...          0.0              0.0   \n",
       "\n",
       "  Condition1_RRAe Condition1_PosN Condition1_Feedr Condition1_Artery  \\\n",
       "0             0.0             0.0              0.0               0.0   \n",
       "1             0.0             0.0              1.0               0.0   \n",
       "2             0.0             0.0              0.0               0.0   \n",
       "3             0.0             0.0              0.0               0.0   \n",
       "4             0.0             0.0              0.0               0.0   \n",
       "\n",
       "  Condition1_PosA  Condition1_RRAn Condition1_RRNn Condition1_Norm  \n",
       "0             0.0              0.0             0.0             1.0  \n",
       "1             0.0              0.0             0.0             1.0  \n",
       "2             0.0              0.0             0.0             1.0  \n",
       "3             0.0              0.0             0.0             1.0  \n",
       "4             0.0              0.0             0.0             1.0  \n",
       "\n",
       "[5 rows x 133 columns]"
      ]
     },
     "execution_count": 165,
     "metadata": {},
     "output_type": "execute_result"
    }
   ],
   "source": [
    "hd5 = condition(hd4, 'Condition1', 'Condition2')\n",
    "hd5.head()"
   ]
  },
  {
   "cell_type": "code",
   "execution_count": 166,
   "metadata": {},
   "outputs": [
    {
     "data": {
      "text/html": [
       "<div>\n",
       "<style scoped>\n",
       "    .dataframe tbody tr th:only-of-type {\n",
       "        vertical-align: middle;\n",
       "    }\n",
       "\n",
       "    .dataframe tbody tr th {\n",
       "        vertical-align: top;\n",
       "    }\n",
       "\n",
       "    .dataframe thead th {\n",
       "        text-align: right;\n",
       "    }\n",
       "</style>\n",
       "<table border=\"1\" class=\"dataframe\">\n",
       "  <thead>\n",
       "    <tr style=\"text-align: right;\">\n",
       "      <th></th>\n",
       "      <th>YearRemodAdd</th>\n",
       "      <th>Exterior1st</th>\n",
       "      <th>Exterior2nd</th>\n",
       "      <th>MasVnrType</th>\n",
       "      <th>MasVnrArea</th>\n",
       "      <th>ExterCond</th>\n",
       "      <th>Foundation</th>\n",
       "      <th>BsmtQual</th>\n",
       "      <th>BsmtCond</th>\n",
       "      <th>BsmtExposure</th>\n",
       "      <th>...</th>\n",
       "      <th>RoofStyle_Shed</th>\n",
       "      <th>RoofStyle_Mansard</th>\n",
       "      <th>RoofMatl_CompShg</th>\n",
       "      <th>RoofMatl_Membran</th>\n",
       "      <th>RoofMatl_Roll</th>\n",
       "      <th>RoofMatl_ClyTile</th>\n",
       "      <th>RoofMatl_Tar&amp;Grv</th>\n",
       "      <th>RoofMatl_Metal</th>\n",
       "      <th>RoofMatl_WdShake</th>\n",
       "      <th>RoofMatl_WdShngl</th>\n",
       "    </tr>\n",
       "  </thead>\n",
       "  <tbody>\n",
       "    <tr>\n",
       "      <td>0</td>\n",
       "      <td>2003</td>\n",
       "      <td>VinylSd</td>\n",
       "      <td>VinylSd</td>\n",
       "      <td>BrkFace</td>\n",
       "      <td>196.0</td>\n",
       "      <td>TA</td>\n",
       "      <td>PConc</td>\n",
       "      <td>Gd</td>\n",
       "      <td>TA</td>\n",
       "      <td>No</td>\n",
       "      <td>...</td>\n",
       "      <td>0.0</td>\n",
       "      <td>0.0</td>\n",
       "      <td>1.0</td>\n",
       "      <td>0.0</td>\n",
       "      <td>0.0</td>\n",
       "      <td>0.0</td>\n",
       "      <td>0.0</td>\n",
       "      <td>0.0</td>\n",
       "      <td>0.0</td>\n",
       "      <td>0.0</td>\n",
       "    </tr>\n",
       "    <tr>\n",
       "      <td>1</td>\n",
       "      <td>1976</td>\n",
       "      <td>MetalSd</td>\n",
       "      <td>MetalSd</td>\n",
       "      <td>None</td>\n",
       "      <td>0.0</td>\n",
       "      <td>TA</td>\n",
       "      <td>CBlock</td>\n",
       "      <td>Gd</td>\n",
       "      <td>TA</td>\n",
       "      <td>Gd</td>\n",
       "      <td>...</td>\n",
       "      <td>0.0</td>\n",
       "      <td>0.0</td>\n",
       "      <td>1.0</td>\n",
       "      <td>0.0</td>\n",
       "      <td>0.0</td>\n",
       "      <td>0.0</td>\n",
       "      <td>0.0</td>\n",
       "      <td>0.0</td>\n",
       "      <td>0.0</td>\n",
       "      <td>0.0</td>\n",
       "    </tr>\n",
       "    <tr>\n",
       "      <td>2</td>\n",
       "      <td>2002</td>\n",
       "      <td>VinylSd</td>\n",
       "      <td>VinylSd</td>\n",
       "      <td>BrkFace</td>\n",
       "      <td>162.0</td>\n",
       "      <td>TA</td>\n",
       "      <td>PConc</td>\n",
       "      <td>Gd</td>\n",
       "      <td>TA</td>\n",
       "      <td>Mn</td>\n",
       "      <td>...</td>\n",
       "      <td>0.0</td>\n",
       "      <td>0.0</td>\n",
       "      <td>1.0</td>\n",
       "      <td>0.0</td>\n",
       "      <td>0.0</td>\n",
       "      <td>0.0</td>\n",
       "      <td>0.0</td>\n",
       "      <td>0.0</td>\n",
       "      <td>0.0</td>\n",
       "      <td>0.0</td>\n",
       "    </tr>\n",
       "    <tr>\n",
       "      <td>3</td>\n",
       "      <td>1970</td>\n",
       "      <td>Wd Sdng</td>\n",
       "      <td>Wd Shng</td>\n",
       "      <td>None</td>\n",
       "      <td>0.0</td>\n",
       "      <td>TA</td>\n",
       "      <td>BrkTil</td>\n",
       "      <td>TA</td>\n",
       "      <td>Gd</td>\n",
       "      <td>No</td>\n",
       "      <td>...</td>\n",
       "      <td>0.0</td>\n",
       "      <td>0.0</td>\n",
       "      <td>1.0</td>\n",
       "      <td>0.0</td>\n",
       "      <td>0.0</td>\n",
       "      <td>0.0</td>\n",
       "      <td>0.0</td>\n",
       "      <td>0.0</td>\n",
       "      <td>0.0</td>\n",
       "      <td>0.0</td>\n",
       "    </tr>\n",
       "    <tr>\n",
       "      <td>4</td>\n",
       "      <td>2000</td>\n",
       "      <td>VinylSd</td>\n",
       "      <td>VinylSd</td>\n",
       "      <td>BrkFace</td>\n",
       "      <td>350.0</td>\n",
       "      <td>TA</td>\n",
       "      <td>PConc</td>\n",
       "      <td>Gd</td>\n",
       "      <td>TA</td>\n",
       "      <td>Av</td>\n",
       "      <td>...</td>\n",
       "      <td>0.0</td>\n",
       "      <td>0.0</td>\n",
       "      <td>1.0</td>\n",
       "      <td>0.0</td>\n",
       "      <td>0.0</td>\n",
       "      <td>0.0</td>\n",
       "      <td>0.0</td>\n",
       "      <td>0.0</td>\n",
       "      <td>0.0</td>\n",
       "      <td>0.0</td>\n",
       "    </tr>\n",
       "  </tbody>\n",
       "</table>\n",
       "<p>5 rows × 147 columns</p>\n",
       "</div>"
      ],
      "text/plain": [
       "   YearRemodAdd Exterior1st Exterior2nd MasVnrType  MasVnrArea ExterCond  \\\n",
       "0          2003     VinylSd     VinylSd    BrkFace       196.0        TA   \n",
       "1          1976     MetalSd     MetalSd       None         0.0        TA   \n",
       "2          2002     VinylSd     VinylSd    BrkFace       162.0        TA   \n",
       "3          1970     Wd Sdng     Wd Shng       None         0.0        TA   \n",
       "4          2000     VinylSd     VinylSd    BrkFace       350.0        TA   \n",
       "\n",
       "  Foundation BsmtQual BsmtCond BsmtExposure  ... RoofStyle_Shed  \\\n",
       "0      PConc       Gd       TA           No  ...            0.0   \n",
       "1     CBlock       Gd       TA           Gd  ...            0.0   \n",
       "2      PConc       Gd       TA           Mn  ...            0.0   \n",
       "3     BrkTil       TA       Gd           No  ...            0.0   \n",
       "4      PConc       Gd       TA           Av  ...            0.0   \n",
       "\n",
       "   RoofStyle_Mansard RoofMatl_CompShg  RoofMatl_Membran  RoofMatl_Roll  \\\n",
       "0                0.0              1.0               0.0            0.0   \n",
       "1                0.0              1.0               0.0            0.0   \n",
       "2                0.0              1.0               0.0            0.0   \n",
       "3                0.0              1.0               0.0            0.0   \n",
       "4                0.0              1.0               0.0            0.0   \n",
       "\n",
       "   RoofMatl_ClyTile RoofMatl_Tar&Grv RoofMatl_Metal RoofMatl_WdShake  \\\n",
       "0               0.0              0.0            0.0              0.0   \n",
       "1               0.0              0.0            0.0              0.0   \n",
       "2               0.0              0.0            0.0              0.0   \n",
       "3               0.0              0.0            0.0              0.0   \n",
       "4               0.0              0.0            0.0              0.0   \n",
       "\n",
       "  RoofMatl_WdShngl  \n",
       "0              0.0  \n",
       "1              0.0  \n",
       "2              0.0  \n",
       "3              0.0  \n",
       "4              0.0  \n",
       "\n",
       "[5 rows x 147 columns]"
      ]
     },
     "execution_count": 166,
     "metadata": {},
     "output_type": "execute_result"
    }
   ],
   "source": [
    "hd6 = onehot(onehot(onehot(onehot(hd5, 'BldgType'), 'HouseStyle'), 'RoofStyle'), 'RoofMatl')\n",
    "hd6.iloc[:5, 9:]"
   ]
  },
  {
   "cell_type": "code",
   "execution_count": 167,
   "metadata": {},
   "outputs": [
    {
     "data": {
      "text/plain": [
       "Index(['MSSubClass', 'LotFrontage', 'LotArea', 'Street', 'Utilities',\n",
       "       'OverallQual', 'OverallCond', 'YearBuilt', 'YearRemodAdd', 'MasVnrArea',\n",
       "       ...\n",
       "       'RoofStyle_Shed', 'RoofStyle_Mansard', 'RoofMatl_CompShg',\n",
       "       'RoofMatl_Membran', 'RoofMatl_Roll', 'RoofMatl_ClyTile',\n",
       "       'RoofMatl_Tar&Grv', 'RoofMatl_Metal', 'RoofMatl_WdShake',\n",
       "       'RoofMatl_WdShngl'],\n",
       "      dtype='object', length=128)"
      ]
     },
     "execution_count": 167,
     "metadata": {},
     "output_type": "execute_result"
    }
   ],
   "source": [
    "# Probably enough, lets make a list of all of the features that are not 'object'\n",
    "# (i.e. that are numerical)\n",
    "\n",
    "keep = hd6.columns[hd6.dtypes!='object'][1:]\n",
    "keep"
   ]
  },
  {
   "cell_type": "markdown",
   "metadata": {},
   "source": [
    "So we have 128 features. That is a lot, and should be enough to illustrate the difference between *Linear Regression* and the new methods."
   ]
  },
  {
   "cell_type": "code",
   "execution_count": 168,
   "metadata": {},
   "outputs": [
    {
     "name": "stdout",
     "output_type": "stream",
     "text": [
      "LotFrontage\n",
      "MasVnrArea\n",
      "GarageYrBlt\n"
     ]
    }
   ],
   "source": [
    "# Check for NaN\n",
    "\n",
    "for v in keep:\n",
    "    if sum(np.isnan(hd6[v]))!=0:\n",
    "        print(v)"
   ]
  },
  {
   "cell_type": "code",
   "execution_count": 169,
   "metadata": {},
   "outputs": [],
   "source": [
    "# MasVnrArea and GarageYrBlt that are NaN probably mean 0 (i.e. no Garage and no Masonry)\n",
    "\n",
    "for k in hd6.index:\n",
    "    if np.isnan(hd6.loc[k, 'MasVnrArea']):\n",
    "        hd6.loc[k, 'MasVnrArea']=0\n",
    "    if np.isnan(hd6.loc[k, 'GarageYrBlt']):\n",
    "        hd6.loc[k, 'GarageYrBlt']=0\n"
   ]
  },
  {
   "cell_type": "markdown",
   "metadata": {},
   "source": [
    "### Linear Regression"
   ]
  },
  {
   "cell_type": "code",
   "execution_count": 170,
   "metadata": {},
   "outputs": [
    {
     "data": {
      "text/html": [
       "<div>\n",
       "<style scoped>\n",
       "    .dataframe tbody tr th:only-of-type {\n",
       "        vertical-align: middle;\n",
       "    }\n",
       "\n",
       "    .dataframe tbody tr th {\n",
       "        vertical-align: top;\n",
       "    }\n",
       "\n",
       "    .dataframe thead th {\n",
       "        text-align: right;\n",
       "    }\n",
       "</style>\n",
       "<table border=\"1\" class=\"dataframe\">\n",
       "  <thead>\n",
       "    <tr style=\"text-align: right;\">\n",
       "      <th></th>\n",
       "      <th>MSSubClass</th>\n",
       "      <th>LotArea</th>\n",
       "      <th>Street</th>\n",
       "      <th>Utilities</th>\n",
       "      <th>OverallQual</th>\n",
       "      <th>OverallCond</th>\n",
       "      <th>YearBuilt</th>\n",
       "      <th>YearRemodAdd</th>\n",
       "      <th>MasVnrArea</th>\n",
       "      <th>BsmtFinSF1</th>\n",
       "      <th>...</th>\n",
       "      <th>RoofStyle_Shed</th>\n",
       "      <th>RoofStyle_Mansard</th>\n",
       "      <th>RoofMatl_CompShg</th>\n",
       "      <th>RoofMatl_Membran</th>\n",
       "      <th>RoofMatl_Roll</th>\n",
       "      <th>RoofMatl_ClyTile</th>\n",
       "      <th>RoofMatl_Tar&amp;Grv</th>\n",
       "      <th>RoofMatl_Metal</th>\n",
       "      <th>RoofMatl_WdShake</th>\n",
       "      <th>RoofMatl_WdShngl</th>\n",
       "    </tr>\n",
       "  </thead>\n",
       "  <tbody>\n",
       "    <tr>\n",
       "      <td>0</td>\n",
       "      <td>60</td>\n",
       "      <td>8450</td>\n",
       "      <td>1</td>\n",
       "      <td>1</td>\n",
       "      <td>7</td>\n",
       "      <td>5</td>\n",
       "      <td>2003</td>\n",
       "      <td>2003</td>\n",
       "      <td>196.0</td>\n",
       "      <td>706</td>\n",
       "      <td>...</td>\n",
       "      <td>0.0</td>\n",
       "      <td>0.0</td>\n",
       "      <td>1.0</td>\n",
       "      <td>0.0</td>\n",
       "      <td>0.0</td>\n",
       "      <td>0.0</td>\n",
       "      <td>0.0</td>\n",
       "      <td>0.0</td>\n",
       "      <td>0.0</td>\n",
       "      <td>0.0</td>\n",
       "    </tr>\n",
       "    <tr>\n",
       "      <td>1</td>\n",
       "      <td>20</td>\n",
       "      <td>9600</td>\n",
       "      <td>1</td>\n",
       "      <td>1</td>\n",
       "      <td>6</td>\n",
       "      <td>8</td>\n",
       "      <td>1976</td>\n",
       "      <td>1976</td>\n",
       "      <td>0.0</td>\n",
       "      <td>978</td>\n",
       "      <td>...</td>\n",
       "      <td>0.0</td>\n",
       "      <td>0.0</td>\n",
       "      <td>1.0</td>\n",
       "      <td>0.0</td>\n",
       "      <td>0.0</td>\n",
       "      <td>0.0</td>\n",
       "      <td>0.0</td>\n",
       "      <td>0.0</td>\n",
       "      <td>0.0</td>\n",
       "      <td>0.0</td>\n",
       "    </tr>\n",
       "    <tr>\n",
       "      <td>2</td>\n",
       "      <td>60</td>\n",
       "      <td>11250</td>\n",
       "      <td>1</td>\n",
       "      <td>1</td>\n",
       "      <td>7</td>\n",
       "      <td>5</td>\n",
       "      <td>2001</td>\n",
       "      <td>2002</td>\n",
       "      <td>162.0</td>\n",
       "      <td>486</td>\n",
       "      <td>...</td>\n",
       "      <td>0.0</td>\n",
       "      <td>0.0</td>\n",
       "      <td>1.0</td>\n",
       "      <td>0.0</td>\n",
       "      <td>0.0</td>\n",
       "      <td>0.0</td>\n",
       "      <td>0.0</td>\n",
       "      <td>0.0</td>\n",
       "      <td>0.0</td>\n",
       "      <td>0.0</td>\n",
       "    </tr>\n",
       "    <tr>\n",
       "      <td>3</td>\n",
       "      <td>70</td>\n",
       "      <td>9550</td>\n",
       "      <td>1</td>\n",
       "      <td>1</td>\n",
       "      <td>7</td>\n",
       "      <td>5</td>\n",
       "      <td>1915</td>\n",
       "      <td>1970</td>\n",
       "      <td>0.0</td>\n",
       "      <td>216</td>\n",
       "      <td>...</td>\n",
       "      <td>0.0</td>\n",
       "      <td>0.0</td>\n",
       "      <td>1.0</td>\n",
       "      <td>0.0</td>\n",
       "      <td>0.0</td>\n",
       "      <td>0.0</td>\n",
       "      <td>0.0</td>\n",
       "      <td>0.0</td>\n",
       "      <td>0.0</td>\n",
       "      <td>0.0</td>\n",
       "    </tr>\n",
       "    <tr>\n",
       "      <td>4</td>\n",
       "      <td>60</td>\n",
       "      <td>14260</td>\n",
       "      <td>1</td>\n",
       "      <td>1</td>\n",
       "      <td>8</td>\n",
       "      <td>5</td>\n",
       "      <td>2000</td>\n",
       "      <td>2000</td>\n",
       "      <td>350.0</td>\n",
       "      <td>655</td>\n",
       "      <td>...</td>\n",
       "      <td>0.0</td>\n",
       "      <td>0.0</td>\n",
       "      <td>1.0</td>\n",
       "      <td>0.0</td>\n",
       "      <td>0.0</td>\n",
       "      <td>0.0</td>\n",
       "      <td>0.0</td>\n",
       "      <td>0.0</td>\n",
       "      <td>0.0</td>\n",
       "      <td>0.0</td>\n",
       "    </tr>\n",
       "  </tbody>\n",
       "</table>\n",
       "<p>5 rows × 127 columns</p>\n",
       "</div>"
      ],
      "text/plain": [
       "   MSSubClass  LotArea  Street  Utilities  OverallQual  OverallCond  \\\n",
       "0          60     8450       1          1            7            5   \n",
       "1          20     9600       1          1            6            8   \n",
       "2          60    11250       1          1            7            5   \n",
       "3          70     9550       1          1            7            5   \n",
       "4          60    14260       1          1            8            5   \n",
       "\n",
       "   YearBuilt  YearRemodAdd  MasVnrArea  BsmtFinSF1  ...  RoofStyle_Shed  \\\n",
       "0       2003          2003       196.0         706  ...             0.0   \n",
       "1       1976          1976         0.0         978  ...             0.0   \n",
       "2       2001          2002       162.0         486  ...             0.0   \n",
       "3       1915          1970         0.0         216  ...             0.0   \n",
       "4       2000          2000       350.0         655  ...             0.0   \n",
       "\n",
       "   RoofStyle_Mansard  RoofMatl_CompShg  RoofMatl_Membran  RoofMatl_Roll  \\\n",
       "0                0.0               1.0               0.0            0.0   \n",
       "1                0.0               1.0               0.0            0.0   \n",
       "2                0.0               1.0               0.0            0.0   \n",
       "3                0.0               1.0               0.0            0.0   \n",
       "4                0.0               1.0               0.0            0.0   \n",
       "\n",
       "   RoofMatl_ClyTile  RoofMatl_Tar&Grv  RoofMatl_Metal  RoofMatl_WdShake  \\\n",
       "0               0.0               0.0             0.0               0.0   \n",
       "1               0.0               0.0             0.0               0.0   \n",
       "2               0.0               0.0             0.0               0.0   \n",
       "3               0.0               0.0             0.0               0.0   \n",
       "4               0.0               0.0             0.0               0.0   \n",
       "\n",
       "   RoofMatl_WdShngl  \n",
       "0               0.0  \n",
       "1               0.0  \n",
       "2               0.0  \n",
       "3               0.0  \n",
       "4               0.0  \n",
       "\n",
       "[5 rows x 127 columns]"
      ]
     },
     "execution_count": 170,
     "metadata": {},
     "output_type": "execute_result"
    }
   ],
   "source": [
    "keep = list(hd6.columns[hd6.dtypes!='object'][1:])\n",
    "keep.remove('LotFrontage')   # There are some NaNs in LotFrontage. We could try to fill them in with a regression.\n",
    "                             # Or we might check with a content expert and see if they should be 0\n",
    "hd7 = hd6.loc[:, keep]\n",
    "hd7.head()"
   ]
  },
  {
   "cell_type": "markdown",
   "metadata": {},
   "source": [
    "Okay so there is our data frame. We start by seeing how *Linear Regression* does."
   ]
  },
  {
   "cell_type": "code",
   "execution_count": 171,
   "metadata": {},
   "outputs": [],
   "source": [
    "# Convert them to Numpy Arrays X for predictors and y for result\n",
    "\n",
    "keep.remove('SalePrice')\n",
    "X = np.array(hd7.loc[:, keep])\n",
    "y = np.array(hd7.loc[:, 'SalePrice'])"
   ]
  },
  {
   "cell_type": "code",
   "execution_count": 172,
   "metadata": {},
   "outputs": [],
   "source": [
    "import numpy.random as rn\n",
    "from sklearn.linear_model import LinearRegression"
   ]
  },
  {
   "cell_type": "code",
   "execution_count": 197,
   "metadata": {},
   "outputs": [],
   "source": [
    "# We shuffle the data using a random permutation\n",
    "\n",
    "n = X.shape[0]\n",
    "test = int(0.20*n)            # We will use a test set made up of 20% of the data from our sample\n",
    "perm = rn.permutation(n)   \n",
    "X = X[perm]\n",
    "y = y[perm]\n",
    "X_test = X[:test]       # Then create the test\n",
    "y_test = y[:test]\n",
    "X_train = X[test:]     # and train sets\n",
    "y_train = y[test:]"
   ]
  },
  {
   "cell_type": "code",
   "execution_count": 198,
   "metadata": {},
   "outputs": [
    {
     "name": "stdout",
     "output_type": "stream",
     "text": [
      "Training R2: 0.9054345997225262\n",
      "Testing R2: 0.827383244663398\n"
     ]
    }
   ],
   "source": [
    "reg = LinearRegression().fit(X_train, y_train)\n",
    "print('Training R2: {}'.format(reg.score(X_train, y_train)))\n",
    "print('Testing R2: {}'.format(reg.score(X_test, y_test)))"
   ]
  },
  {
   "cell_type": "markdown",
   "metadata": {},
   "source": [
    "Reasonably good on the training data, not so good on the testing data (again we really should do some cross validation or bootstrapping to fully explore it).  However, lets check a few things to see how the model is making its prediction, i.e. what our interpretation is."
   ]
  },
  {
   "cell_type": "code",
   "execution_count": 230,
   "metadata": {},
   "outputs": [
    {
     "data": {
      "image/png": "[encoded data removed]",
      "text/plain": [
       "<Figure size 432x288 with 1 Axes>"
      ]
     },
     "metadata": {
      "needs_background": "light"
     },
     "output_type": "display_data"
    }
   ],
   "source": [
    "plt.plot(reg.coef_);\n",
    "plt.savefig('12.1.png')"
   ]
  },
  {
   "cell_type": "markdown",
   "metadata": {},
   "source": [
    "One feature stands out as particularly important."
   ]
  },
  {
   "cell_type": "code",
   "execution_count": 200,
   "metadata": {},
   "outputs": [
    {
     "data": {
      "text/plain": [
       "'RoofMatl_ClyTile'"
      ]
     },
     "execution_count": 200,
     "metadata": {},
     "output_type": "execute_result"
    }
   ],
   "source": [
    "# numpy.argmin() returns the index of the minimum value\n",
    "keep[reg.coef_.argmin()] \n",
    "# It's position in keep is then the name of that feature"
   ]
  },
  {
   "cell_type": "code",
   "execution_count": 201,
   "metadata": {},
   "outputs": [
    {
     "data": {
      "text/plain": [
       "'RoofMatl_WdShngl'"
      ]
     },
     "execution_count": 201,
     "metadata": {},
     "output_type": "execute_result"
    }
   ],
   "source": [
    "keep[reg.coef_.argmax()]"
   ]
  },
  {
   "cell_type": "markdown",
   "metadata": {},
   "source": [
    "*side remark*: I would not have predicted that Wood Shingle was the most important positive feature.\n",
    "\n",
    "We also can check the size of the smallest absolute coefficient and the largest absolute coefficient:\n"
   ]
  },
  {
   "cell_type": "code",
   "execution_count": 202,
   "metadata": {},
   "outputs": [
    {
     "data": {
      "text/plain": [
       "(0.0, 529309.0018963504)"
      ]
     },
     "execution_count": 202,
     "metadata": {},
     "output_type": "execute_result"
    }
   ],
   "source": [
    "min(abs(reg.coef_)), max(abs(reg.coef_))"
   ]
  },
  {
   "cell_type": "markdown",
   "metadata": {},
   "source": [
    "Wel some coefficients were zero, we can ask for how many they were actually zero:"
   ]
  },
  {
   "cell_type": "code",
   "execution_count": 203,
   "metadata": {},
   "outputs": [
    {
     "data": {
      "text/plain": [
       "2"
      ]
     },
     "execution_count": 203,
     "metadata": {},
     "output_type": "execute_result"
    }
   ],
   "source": [
    "sum( abs(reg.coef_)==0.0 )"
   ]
  },
  {
   "cell_type": "markdown",
   "metadata": {},
   "source": [
    "Not many. And how many were small, say within 1 of zero (which compared to the largest coefficient is small):"
   ]
  },
  {
   "cell_type": "code",
   "execution_count": 204,
   "metadata": {},
   "outputs": [
    {
     "data": {
      "text/plain": [
       "6"
      ]
     },
     "execution_count": 204,
     "metadata": {},
     "output_type": "execute_result"
    }
   ],
   "source": [
    "sum( abs(reg.coef_)<1)"
   ]
  },
  {
   "cell_type": "markdown",
   "metadata": {},
   "source": [
    "### Ridge Regression\n",
    "\n",
    "Recall that *Linear Regression* seeks to minimize the sum of square residuals between the data $(x_i, y_i)$ and the linear prediction $\\hat{y}_i = m_0 x_{i0} + m_1 x_{i1} + \\dots m_{p-1} x_{i, p-1} + b$:\n",
    "\n",
    "$$ E(m, b) = \\sum_{i=0}^{n-1} (y_i - \\hat{y}_i)^2 $$\n",
    "\n",
    "From this formulation, there is no penalty for the algorithm choosing coefficients $m_j$ that are big.\n",
    "What we would like to do is introduce a penalty to $E(m, b)$ for choosing coefficients $m_j$ that are too big. Ridge Regression using the simple idea of introduce a penalty that is a sum of the squares of the $m_j$:\n",
    "\n",
    "$$ E_{\\alpha}(m, b) = \\sum_{i=0}^{n-1} (y_i - \\hat{y}_i)^2 + \\alpha \\sum_{j=0}^{p-1} m_j^2 $$\n",
    "\n",
    "First note that $\\alpha > 0$ is a parameter that needs to be choosen. **Question**: How will we choose it? \n",
    "\n",
    "Then the effect of the $\\alpha$ term is to increase $E$ if the choices for $m_j$ are large, i.e. it is a penalty for a Linear Model that uses larger coefficients. $\\alpha$ effectively chooses how strong that penalty is.\n",
    "\n",
    "*Note*: We choose the term $m_j^2$ so that it is differentiable with respect $m_j$ and thus the problem is still ammenable to our Calculus 1 approach to linear regression."
   ]
  },
  {
   "cell_type": "code",
   "execution_count": 205,
   "metadata": {},
   "outputs": [],
   "source": [
    "from sklearn.linear_model import Ridge"
   ]
  },
  {
   "cell_type": "code",
   "execution_count": 206,
   "metadata": {},
   "outputs": [
    {
     "name": "stdout",
     "output_type": "stream",
     "text": [
      "Training R2: 0.8945252671230364\n",
      "Testing R2: 0.8478669227705219\n"
     ]
    }
   ],
   "source": [
    "ridge_reg = Ridge(alpha=1).fit(X_train, y_train)\n",
    "print('Training R2: {}'.format(ridge_reg.score(X_train, y_train)))\n",
    "print('Testing R2: {}'.format(ridge_reg.score(X_test, y_test)))"
   ]
  },
  {
   "cell_type": "markdown",
   "metadata": {},
   "source": [
    "Reasonably good performance on the training data, somewhat less good on the testing data. The model does outperform *Linear Regression*. If you are following along with this discussion in Jupyter, you should try different values of $\\alpha$ to see how the model responds. In production what we would really want to set up is a *Cross Validation* or *Bootstrap Procedure* to compare different choices of $\\alpha$ across a range of testing and training sets."
   ]
  },
  {
   "cell_type": "code",
   "execution_count": 231,
   "metadata": {},
   "outputs": [
    {
     "name": "stdout",
     "output_type": "stream",
     "text": [
      "Training R2: 0.8592062290180964\n",
      "Testing R2: 0.8539740519116447\n"
     ]
    }
   ],
   "source": [
    "ridge_reg = Ridge(alpha=30).fit(X_train, y_train)\n",
    "print('Training R2: {}'.format(ridge_reg.score(X_train, y_train)))\n",
    "print('Testing R2: {}'.format(ridge_reg.score(X_test, y_test)))"
   ]
  },
  {
   "cell_type": "markdown",
   "metadata": {},
   "source": [
    "Check the size of the coefficients."
   ]
  },
  {
   "cell_type": "code",
   "execution_count": 232,
   "metadata": {},
   "outputs": [
    {
     "data": {
      "image/png": "[encoded data removed]",
      "text/plain": [
       "<Figure size 432x288 with 1 Axes>"
      ]
     },
     "metadata": {
      "needs_background": "light"
     },
     "output_type": "display_data"
    }
   ],
   "source": [
    "plt.plot(ridge_reg.coef_);\n",
    "plt.savefig('12.2.png')"
   ]
  },
  {
   "cell_type": "code",
   "execution_count": 212,
   "metadata": {},
   "outputs": [
    {
     "data": {
      "text/plain": [
       "'Neighborhood_NridgHt'"
      ]
     },
     "execution_count": 212,
     "metadata": {},
     "output_type": "execute_result"
    }
   ],
   "source": [
    "# numpy.argmin() returns the index of the maximum value\n",
    "keep[ridge_reg.coef_.argmax()] \n",
    "# It's position in keep is then the name of that feature"
   ]
  },
  {
   "cell_type": "markdown",
   "metadata": {},
   "source": [
    "Interestingly this model (if you have choosen a large $\\alpha$) gives a different feature as the most important.\n",
    "\n",
    "The largest absolute coefficient from the Ridge model is much smaller than that from the Linear Regression model."
   ]
  },
  {
   "cell_type": "code",
   "execution_count": 213,
   "metadata": {},
   "outputs": [
    {
     "data": {
      "text/plain": [
       "(0.0, 24738.435068752682)"
      ]
     },
     "execution_count": 213,
     "metadata": {},
     "output_type": "execute_result"
    }
   ],
   "source": [
    "min(abs(ridge_reg.coef_)), max(abs(ridge_reg.coef_))"
   ]
  },
  {
   "cell_type": "code",
   "execution_count": 214,
   "metadata": {},
   "outputs": [
    {
     "data": {
      "text/plain": [
       "356349170311.3535"
      ]
     },
     "execution_count": 214,
     "metadata": {},
     "output_type": "execute_result"
    }
   ],
   "source": [
    "sum(reg.coef_**2) - sum(ridge_reg.coef_**2)"
   ]
  },
  {
   "cell_type": "markdown",
   "metadata": {},
   "source": [
    "However not many coefficients are exactly 0 (again the result will vary as your testing and training sets change). And indeed about the same number of coefficients are small for this model."
   ]
  },
  {
   "cell_type": "code",
   "execution_count": 215,
   "metadata": {},
   "outputs": [
    {
     "data": {
      "text/plain": [
       "3"
      ]
     },
     "execution_count": 215,
     "metadata": {},
     "output_type": "execute_result"
    }
   ],
   "source": [
    "sum(abs(ridge_reg.coef_)==0.0)"
   ]
  },
  {
   "cell_type": "code",
   "execution_count": 216,
   "metadata": {},
   "outputs": [
    {
     "data": {
      "text/plain": [
       "6"
      ]
     },
     "execution_count": 216,
     "metadata": {},
     "output_type": "execute_result"
    }
   ],
   "source": [
    "sum(abs(ridge_reg.coef_)<1)"
   ]
  },
  {
   "cell_type": "markdown",
   "metadata": {},
   "source": [
    "### Lasso Regression\n",
    "\n",
    "So *Ridge Regression* did some of what we wanted. It produced a Linear Model that had overall smaller coefficients, and in the process that model while it did worse on the training data (which it had to, remember that *Linear Regression* chooses the model that will do the best out of any linear function at predicting the training data) it performed better on the testing data (though keeping in mind we really should test that statement more carefully). The model was also tuneable, we could choose an $\\alpha$ that produced a blance between training and testing $R^2$ values (though again we are skipping the bootstrapping step).\n",
    "\n",
    "However it still (in most cases I've run) produced a model with quite a few coefficients that were non-zero. We would prefer models where as many coefficients are zero while still performing well because we expect it will produce a model that is easier to interpret.\n",
    "\n",
    "The idea with *Lasso Regression* is to introduce a new objective function that will include a different penalty that responds faster to small values of the coefficients, thus encouraging them to go to zero. \n",
    "We will choose a model that is not differentiable in the $m_j$ coefficients, and thus it will need to use a different solution method than our Calculus 1 approach to *Linear and Ridge Regression*. Define the new objective function:\n",
    "\n",
    "$$ E_{\\alpha}(m, b) = \\frac{1}{2n} \\sum_{i=0}^{n-1} (y_i - \\hat{y}_i)^2 + \\alpha \\sum_{j=0}^{p-1} | m_j | $$\n",
    "\n",
    "Note that because we are dividing the first term by the number of samples this also puts more pressure on the penalty term. This objective function cannot be minimized by solving it exactly using Calculus 1 techniques. Instead what the algorithm does is search for a solution by choosing values of $m_j$ and $b$ that improve on the current value, a form of gradient descent. This is therefore our first example of a model that does not give an exact result from a given training set."
   ]
  },
  {
   "cell_type": "code",
   "execution_count": 217,
   "metadata": {},
   "outputs": [],
   "source": [
    "from sklearn.linear_model import Lasso"
   ]
  },
  {
   "cell_type": "code",
   "execution_count": 218,
   "metadata": {},
   "outputs": [
    {
     "name": "stdout",
     "output_type": "stream",
     "text": [
      "Training R2: 0.9053703923972203\n",
      "Testing R2: 0.8429099334384119\n"
     ]
    }
   ],
   "source": [
    "lasso_reg = Lasso(alpha=5).fit(X_train, y_train)\n",
    "print('Training R2: {}'.format(lasso_reg.score(X_train, y_train)))\n",
    "print('Testing R2: {}'.format(lasso_reg.score(X_test, y_test)))"
   ]
  },
  {
   "cell_type": "markdown",
   "metadata": {},
   "source": [
    "Because the algorithm is using an approximation method to arrive at the model, if your $\\alpha$ is too small you will get a warning that the solution did not converge in the maximum number of iterations. You should either increase $\\alpha$ until you do not see this error, or increase the maximum number of iterations by adding that parameter to the call of the model.\n",
    "\n",
    "Note the model performed well on the training data, but underperformed *Ridge Regression* on the testing data (for this choice of $\\alpha$). However you know what needs to be done, we need to search for a better choice of $\\alpha$. "
   ]
  },
  {
   "cell_type": "code",
   "execution_count": 224,
   "metadata": {},
   "outputs": [
    {
     "name": "stdout",
     "output_type": "stream",
     "text": [
      "Training R2: 0.8563912506891203\n",
      "Testing R2: 0.8518055277873428\n"
     ]
    }
   ],
   "source": [
    "lasso_reg = Lasso(alpha=325).fit(X_train, y_train)\n",
    "print('Training R2: {}'.format(lasso_reg.score(X_train, y_train)))\n",
    "print('Testing R2: {}'.format(lasso_reg.score(X_test, y_test)))"
   ]
  },
  {
   "cell_type": "code",
   "execution_count": 233,
   "metadata": {},
   "outputs": [
    {
     "data": {
      "image/png": "[encoded data removed]",
      "text/plain": [
       "<Figure size 432x288 with 1 Axes>"
      ]
     },
     "metadata": {
      "needs_background": "light"
     },
     "output_type": "display_data"
    }
   ],
   "source": [
    "plt.plot(lasso_reg.coef_);\n",
    "plt.savefig('12.3.png')"
   ]
  },
  {
   "cell_type": "code",
   "execution_count": 226,
   "metadata": {},
   "outputs": [
    {
     "data": {
      "text/plain": [
       "(0.0, 53467.392667787)"
      ]
     },
     "execution_count": 226,
     "metadata": {},
     "output_type": "execute_result"
    }
   ],
   "source": [
    "min(abs(lasso_reg.coef_)), max(abs(lasso_reg.coef_))"
   ]
  },
  {
   "cell_type": "markdown",
   "metadata": {},
   "source": [
    "The coefficients are small, and many of them are 0 compared with the *Linear and Ridge Regression* models. Note that the performance of the model on the test set is comparable with those models. "
   ]
  },
  {
   "cell_type": "code",
   "execution_count": 227,
   "metadata": {},
   "outputs": [
    {
     "data": {
      "text/plain": [
       "70"
      ]
     },
     "execution_count": 227,
     "metadata": {},
     "output_type": "execute_result"
    }
   ],
   "source": [
    "sum(abs(lasso_reg.coef_)==0.0)"
   ]
  },
  {
   "cell_type": "code",
   "execution_count": 228,
   "metadata": {},
   "outputs": [
    {
     "data": {
      "text/plain": [
       "73"
      ]
     },
     "execution_count": 228,
     "metadata": {},
     "output_type": "execute_result"
    }
   ],
   "source": [
    "sum(abs(lasso_reg.coef_)<1)"
   ]
  },
  {
   "cell_type": "code",
   "execution_count": null,
   "metadata": {},
   "outputs": [],
   "source": []
  }
 ],
 "metadata": {
  "kernelspec": {
   "display_name": "Python 3",
   "language": "python",
   "name": "python3"
  },
  "language_info": {
   "codemirror_mode": {
    "name": "ipython",
    "version": 3
   },
   "file_extension": ".py",
   "mimetype": "text/x-python",
   "name": "python",
   "nbconvert_exporter": "python",
   "pygments_lexer": "ipython3",
   "version": "3.7.4"
  }
 },
 "nbformat": 4,
 "nbformat_minor": 4
}

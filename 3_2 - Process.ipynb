{
 "cells": [
  {
   "cell_type": "markdown",
   "metadata": {},
   "source": [
    "# The Data Science Process\n",
    "\n",
    "## Professional Ethics\n",
    "\n",
    "Data Science and Machine Learning (and more broadly Computer Science) have great power. The techniques we will learn in this class are leading to algorithms giving computers the ability to make decisions based on a wealth of information. Facial recongition, credit and loan decisions, insurance pricing, are all examples of ways in which the tools we are learning in this class are being used.\n",
    "\n",
    "It is not then surprising that with these tools comes some questions of professional ethics. Today we will discuss a few things to keep in mind. The first step in our Data Science process is to consider the ethical implications of the data collection and question we are setting out on.\n",
    "\n",
    "#### Models Inherit Biases from the Data\n",
    "\n",
    "If your model is built upon data from a system with biases (credit data for example), it is likely your model will inherit those biases. It is not enough to say that the process of building the model does not introduce bias, we also must be aware of whether the data we build that model from has biases. \n",
    "\n",
    "#### Keep in Mind the Consequences of Errors\n",
    "\n",
    "As you build your model keep in mind the consequences of the errors in your model in the event it goes into production. These should guide you in the level of accuracy and the types and proportions of errors you can tolerate. An algorithm estimating the age of a tree from some features versus one being used to determine a likliehood that a prisoner will reoffend if paroled have different tolerances of error. \n",
    "\n",
    "#### Research on Human Subjects\n",
    "\n",
    "There are restrictions on how data can be collected and used when the research is being conducted on human subjects. At federally funded institutions, proposals to do research on human subjects must be reviewed by institutional review boards. They are looking for among other things: How the privacy of subjects is being protected, how the risk of harm to subjects is being minimized, and how subjects are informed of their rights. Of particular importance is protecting vulnerable subjects (minors and prisoners for example).\n",
    "\n",
    "This review must be done before data collection can be begin (typically).\n",
    "\n",
    "There are similar reviews that must occur for Research on Animals.\n",
    "\n",
    "#### Commitments Made about Data and Data Analysis\n",
    "\n",
    "In obtaining permission from an Institutional Review Board, or permission from a company or individual owning data you wish to use, you or your company might make some promises about how that data will be used or how it will be protected. For example, in obtaining permission from Twitter to access their API you will be required to promise that you will not seek to obtain information about the political affiliation of an individual user, or that you will not publish content from Twitter without their permission. You need to honor promises that you or your employer have made regarding data and its protection. This is essential to ensuring trust in the profession, and to protecting vulnerable populations and individuals' privacy, and it is essential to protecting yourself. \n",
    "\n",
    "#### Follow the Error Control Process\n",
    "\n",
    "It is essential that when you finish the development of your model that you have as good an understanding of the accuracy of your model as you can. For example, the accuracy of your model, and the consequences for error may be one of the ethical issues you have dealt with. However even if your model is realtively innocous, you need to be able to understand its utility and pay off were it to be used in production. \n",
    "\n",
    "It is essnetial in your data science work that you follow a process that will result in an valid esitmate of the accuracy of your model. \n",
    "\n",
    "## Controlling for Error\n",
    "\n",
    "### Error in Regression Problems\n",
    "\n",
    "For today the gathering data process will be something we do here in Python by simmulating some data. Before we dive into an exploratory data analysis and developing a model, we should make a plan for how we will estimate the error of our model. Or even what we mean by the error of our model.\n",
    "\n",
    "Today, because I want us to be sure we understand the sources of error in our analysis we will build the dataset in Python in a way where we actually know the *correct model*. You should be thinking about the House Pricing problem or one of the other regression problems we have talked about.\n",
    "\n",
    "Suppose we have a predictor feature $x$ and a resulting value $y$ that have a linear relationship, however because we cannot possibly account for all of the variation there is some *Irreducible Error*. That is when we build our sample, there is a random variable that comes along with it.\n"
   ]
  },
  {
   "cell_type": "code",
   "execution_count": 25,
   "metadata": {},
   "outputs": [],
   "source": [
    "# Using the usual packages, plus scikitlearns LinearRegression tool; and numpy.random.\n",
    "\n",
    "import pandas as pa\n",
    "import numpy as np\n",
    "import numpy.random as rn\n",
    "import seaborn as sn\n",
    "import matplotlib.pyplot as plt\n",
    "from sklearn.linear_model import LinearRegression"
   ]
  },
  {
   "cell_type": "code",
   "execution_count": 26,
   "metadata": {},
   "outputs": [],
   "source": [
    "# Building a sample with a linear relationship y = 10 x + 7 + E; where E is a random normally \n",
    "# distributed error term with mean 0 and variance 200.\n",
    "\n",
    "x = 500*rn.random_sample(20)\n",
    "y = 10*x + 7 + 200*rn.randn(20)"
   ]
  },
  {
   "cell_type": "code",
   "execution_count": 27,
   "metadata": {},
   "outputs": [],
   "source": [
    "# Furthermore let's suppose there are a couple of data points that have a different E for\n",
    "# some reason \n",
    "\n",
    "xa = np.array([700, 300])\n",
    "ya = np.array([10*700 + 7 - 1500, 10*300 + 7 + 1500])"
   ]
  },
  {
   "cell_type": "code",
   "execution_count": 28,
   "metadata": {},
   "outputs": [
    {
     "data": {
      "text/html": [
       "<div>\n",
       "<style scoped>\n",
       "    .dataframe tbody tr th:only-of-type {\n",
       "        vertical-align: middle;\n",
       "    }\n",
       "\n",
       "    .dataframe tbody tr th {\n",
       "        vertical-align: top;\n",
       "    }\n",
       "\n",
       "    .dataframe thead th {\n",
       "        text-align: right;\n",
       "    }\n",
       "</style>\n",
       "<table border=\"1\" class=\"dataframe\">\n",
       "  <thead>\n",
       "    <tr style=\"text-align: right;\">\n",
       "      <th></th>\n",
       "      <th>x</th>\n",
       "      <th>a</th>\n",
       "      <th>y</th>\n",
       "    </tr>\n",
       "  </thead>\n",
       "  <tbody>\n",
       "    <tr>\n",
       "      <th>17</th>\n",
       "      <td>108.683674</td>\n",
       "      <td>0</td>\n",
       "      <td>989.437450</td>\n",
       "    </tr>\n",
       "    <tr>\n",
       "      <th>18</th>\n",
       "      <td>61.198707</td>\n",
       "      <td>0</td>\n",
       "      <td>741.419297</td>\n",
       "    </tr>\n",
       "    <tr>\n",
       "      <th>19</th>\n",
       "      <td>146.837749</td>\n",
       "      <td>0</td>\n",
       "      <td>1823.030939</td>\n",
       "    </tr>\n",
       "    <tr>\n",
       "      <th>20</th>\n",
       "      <td>700.000000</td>\n",
       "      <td>1</td>\n",
       "      <td>5507.000000</td>\n",
       "    </tr>\n",
       "    <tr>\n",
       "      <th>21</th>\n",
       "      <td>300.000000</td>\n",
       "      <td>1</td>\n",
       "      <td>4507.000000</td>\n",
       "    </tr>\n",
       "  </tbody>\n",
       "</table>\n",
       "</div>"
      ],
      "text/plain": [
       "             x  a            y\n",
       "17  108.683674  0   989.437450\n",
       "18   61.198707  0   741.419297\n",
       "19  146.837749  0  1823.030939\n",
       "20  700.000000  1  5507.000000\n",
       "21  300.000000  1  4507.000000"
      ]
     },
     "execution_count": 28,
     "metadata": {},
     "output_type": "execute_result"
    }
   ],
   "source": [
    "# Make a pandas.DataFrame of this data\n",
    "\n",
    "dfx = pa.DataFrame(x, columns=['x'])\n",
    "dfx['a'] = 0\n",
    "dfx['y'] = y\n",
    "dfx2 = pa.DataFrame(xa, columns=['x'])\n",
    "dfx2['a'] = 1\n",
    "dfx2['y'] = ya\n",
    "df = dfx.append(dfx2, ignore_index=True)\n",
    "df.tail()"
   ]
  },
  {
   "cell_type": "code",
   "execution_count": 29,
   "metadata": {},
   "outputs": [
    {
     "data": {
      "image/png": "[encoded data removed]",
      "text/plain": [
       "<Figure size 720x576 with 1 Axes>"
      ]
     },
     "metadata": {
      "needs_background": "light"
     },
     "output_type": "display_data"
    }
   ],
   "source": [
    "plt.figure(figsize=(10, 8))\n",
    "\n",
    "sn.scatterplot(x='x', y='y', hue='a', data=df);"
   ]
  },
  {
   "cell_type": "markdown",
   "metadata": {},
   "source": [
    "Note the presence of a relationship between predictor and result is readily apparent: \n",
    "$$ y = m x + b + E $$\n",
    "The goal of regression is to estimate the true values of the slope and intercept $(m, b)$ of this relationship. So note that there will be two sources of error: \n",
    "\n",
    "- Reduccible Error: This is error that we can eliminate by using a better model for the relationship. It is due in this example to us using a sample.\n",
    "- Irreduccible Error, $E$: This is the underlying error we introduced when we simulated the data. In real data it is due to factors not included in the model. This cannot be removed and our goal is instead to understand this term.\n",
    "\n",
    "### Making Test and Training Sets\n",
    "\n",
    "The first control measure we will make is to divide our data into a *test set* and a *training set*. We will build our model from the training set with the goal of making it perform as well on that as we can. We will then apply it to the test set to determine how well we did. This partitioning method will protect us from overfitting (as we get to more complicated examples we will see examples where overfitting is likely and a big concern). \n",
    "\n",
    "What is *overfitting*?  Overfitting is when the model we have built was based on the sample of the data we were given and was led astray from the true relationship. This leads to models that will perform well on their training data but poorly when applied to new data. For linear relationships and linear models in small dimensions, overfitting is not a big problem, but for nonlinear and higher dimensional relations it becomes more likely.\n"
   ]
  },
  {
   "cell_type": "code",
   "execution_count": 30,
   "metadata": {},
   "outputs": [],
   "source": [
    "# First convert the predictor and result variables into numpy.arrays suitable for applying in \n",
    "# scikitlearn functions (recall we did this last class)\n",
    "\n",
    "# We will keep the 'a' flag identifying our special points\n",
    "\n",
    "X = np.array(df[['x', 'a']])\n",
    "y = np.array(df['y'])"
   ]
  },
  {
   "cell_type": "code",
   "execution_count": 31,
   "metadata": {},
   "outputs": [],
   "source": [
    "# We shuffle the data using a random permutation\n",
    "\n",
    "n = X.shape[0]\n",
    "test = int(0.20*n)            # We will use a test set made up of 20% of the data from our sample\n",
    "perm = rn.permutation(n)   \n",
    "X = X[perm]\n",
    "y = y[perm]\n",
    "X_test = X[:test]       # Then create the test\n",
    "y_test = y[:test]\n",
    "X_train = X[test:]     # and train sets\n",
    "y_train = y[test:]"
   ]
  },
  {
   "cell_type": "code",
   "execution_count": 32,
   "metadata": {},
   "outputs": [
    {
     "data": {
      "text/plain": [
       "{0.0}"
      ]
     },
     "execution_count": 32,
     "metadata": {},
     "output_type": "execute_result"
    }
   ],
   "source": [
    "# Make sure the a=1 points are in X_train\n",
    "\n",
    "set(X_test[:, 1])"
   ]
  },
  {
   "cell_type": "markdown",
   "metadata": {},
   "source": [
    "### Regression Error\n",
    "\n",
    "Let us take an estimate for the slope and intercept, choosen mostly at random."
   ]
  },
  {
   "cell_type": "code",
   "execution_count": 33,
   "metadata": {},
   "outputs": [],
   "source": [
    "m, b = 9, 0"
   ]
  },
  {
   "cell_type": "markdown",
   "metadata": {},
   "source": [
    "We then use this to estimate $$\\hat{y} = m x + b$$"
   ]
  },
  {
   "cell_type": "code",
   "execution_count": 34,
   "metadata": {},
   "outputs": [
    {
     "data": {
      "image/png": "[encoded data removed]",
      "text/plain": [
       "<Figure size 720x576 with 1 Axes>"
      ]
     },
     "metadata": {
      "needs_background": "light"
     },
     "output_type": "display_data"
    }
   ],
   "source": [
    "plt.figure(figsize=(10, 8))\n",
    "\n",
    "plt.plot(X_train[X_train[:, 1]==0, 0], y_train[X_train[:, 1]==0], 'b.')\n",
    "plt.plot(X_train[X_train[:, 1]==1, 0], y_train[X_train[:, 1]==1], 'r.')\n",
    "x = np.linspace(0, 800, 10)\n",
    "yhat = m*x + b\n",
    "plt.plot(x, yhat, 'g-');"
   ]
  },
  {
   "cell_type": "markdown",
   "metadata": {},
   "source": [
    "We need a measurement of the error between our estimates $\\hat{y}$ and the actual training data. We will then choose $m$ and $b$ so that this error is minmized. There are then two tricks: \n",
    "\n",
    "- There are different choices of error that may make sense.\n",
    "- Once we have choosen one we need to choose the parameters that minimize it (or at least estimate them)\n",
    "\n",
    "A common choice of the error is sum of the square residual errors of the predicted $\\hat{y}$ from the sample values $y_i$ in the training set. We will learn in a future class how to compute the linear regression minimizing this choice of error. This gives the *Residual Sum of Squares* of the training set by the model.\n"
   ]
  },
  {
   "cell_type": "code",
   "execution_count": 35,
   "metadata": {},
   "outputs": [
    {
     "data": {
      "text/plain": [
       "8207109.435120909"
      ]
     },
     "execution_count": 35,
     "metadata": {},
     "output_type": "execute_result"
    }
   ],
   "source": [
    "yhat = m*X_train[:, 0]+b\n",
    "RSS = sum( (yhat - y_train)**2 )\n",
    "RSS"
   ]
  },
  {
   "cell_type": "markdown",
   "metadata": {},
   "source": [
    "The scikitlearn LinearRegression function will determine the model that minimizes this error."
   ]
  },
  {
   "cell_type": "code",
   "execution_count": 36,
   "metadata": {},
   "outputs": [],
   "source": [
    "reg = LinearRegression().fit(X_train[:, 0].reshape(-1, 1), y_train)"
   ]
  },
  {
   "cell_type": "code",
   "execution_count": 37,
   "metadata": {},
   "outputs": [
    {
     "data": {
      "text/plain": [
       "(373.9306544724518, 9.17828156068088)"
      ]
     },
     "execution_count": 37,
     "metadata": {},
     "output_type": "execute_result"
    }
   ],
   "source": [
    "b, m = reg.intercept_, *reg.coef_\n",
    "b, m"
   ]
  },
  {
   "cell_type": "code",
   "execution_count": 38,
   "metadata": {},
   "outputs": [
    {
     "data": {
      "image/png": "[encoded data removed]",
      "text/plain": [
       "<Figure size 720x576 with 1 Axes>"
      ]
     },
     "metadata": {
      "needs_background": "light"
     },
     "output_type": "display_data"
    }
   ],
   "source": [
    "plt.figure(figsize=(10, 8))\n",
    "\n",
    "plt.plot(X_train[X_train[:, 1]==0, 0], y_train[X_train[:, 1]==0], 'b.')\n",
    "plt.plot(X_train[X_train[:, 1]==1, 0], y_train[X_train[:, 1]==1], 'r.')\n",
    "x = np.linspace(0, 800, 10)\n",
    "yhat = m*x + b\n",
    "plt.plot(x, yhat, 'g-');"
   ]
  },
  {
   "cell_type": "code",
   "execution_count": 39,
   "metadata": {},
   "outputs": [
    {
     "data": {
      "text/plain": [
       "4905192.934809971"
      ]
     },
     "execution_count": 39,
     "metadata": {},
     "output_type": "execute_result"
    }
   ],
   "source": [
    "# Residual Sum of Squares using these values:\n",
    "\n",
    "yhat = m*X_train[:, 0]+b\n",
    "RSS = sum( (yhat - y_train)**2 )\n",
    "RSS"
   ]
  },
  {
   "cell_type": "markdown",
   "metadata": {},
   "source": [
    "Note: We missed the true relationship, particularly the intercept. Why?"
   ]
  },
  {
   "cell_type": "markdown",
   "metadata": {},
   "source": [
    "Of course this total error (*Residual Sum of Squares*) is not a great measure of how good our model was, as obviously it depends on the magnitudes and variations of the sample $y_i$. \n",
    "\n",
    "The *Total Variance* is given by the sum of the squares of the differences of the training data and the mean of the training data. "
   ]
  },
  {
   "cell_type": "code",
   "execution_count": 40,
   "metadata": {},
   "outputs": [
    {
     "data": {
      "text/plain": [
       "55282772.45345752"
      ]
     },
     "execution_count": 40,
     "metadata": {},
     "output_type": "execute_result"
    }
   ],
   "source": [
    "y_mean = np.mean(y_train)\n",
    "TV = sum( (y_train - y_mean)**2 )\n",
    "TV"
   ]
  },
  {
   "cell_type": "markdown",
   "metadata": {},
   "source": [
    "If the regression line correctly explains the variations of the data, i.e. if our model correctly accounts for all of the errors relative to the extent to which the $y_i$ vary anyway, then the ratio of *Residual Sum of Squares* to *Total Variance* will be small; $R^2$ is defined to be 1 minus this ratio. Notice though that if the Total Variance is large compared to the Residual Sum of Squares this will also result in an $R^2$ that is near 1. "
   ]
  },
  {
   "cell_type": "code",
   "execution_count": 41,
   "metadata": {},
   "outputs": [
    {
     "data": {
      "text/plain": [
       "0.9112708585854726"
      ]
     },
     "execution_count": 41,
     "metadata": {},
     "output_type": "execute_result"
    }
   ],
   "source": [
    "R2 = 1 - RSS/TV\n",
    "R2"
   ]
  },
  {
   "cell_type": "markdown",
   "metadata": {},
   "source": [
    "Note each time we run the cells above, with the dataset fixed, for this computation we will get slightly different values of $m$, $b$, and $R^2$. This is because the division into training and testing sets is different each time."
   ]
  },
  {
   "cell_type": "markdown",
   "metadata": {},
   "source": [
    "### Checking the Influence of Individual Points\n",
    "\n",
    "Note that we have, or suspect we have, some samples that do not fit the same pattern as the rest of the data. An important question is to consider the impact that these samples have on the model we have computed. We do that by computing the linear regression with each point removed. Normally we would not know what points do not fit with the others (though we may have suspicions) so the best practice is to go through all of them.\n"
   ]
  },
  {
   "cell_type": "code",
   "execution_count": 42,
   "metadata": {},
   "outputs": [],
   "source": [
    "n = X_train.shape[0]\n",
    "lin_reg = [0 for k in range(n)]\n",
    "R2p = [0 for k in range(n)]\n",
    "for k in range(n):\n",
    "    Xtemp = np.append(X_train[:k], X_train[k+1:], axis=0)\n",
    "    ytemp = np.append(y_train[:k], y_train[k+1:], axis=0)\n",
    "    lin_reg[k] = LinearRegression().fit(Xtemp[:, 0].reshape(-1, 1), ytemp)\n",
    "    kRSS = sum( (lin_reg[k].predict(X_train[:, 0].reshape(-1, 1)) - y_train)**2 ) \n",
    "    R2p[k] = 1 - kRSS / TV"
   ]
  },
  {
   "cell_type": "code",
   "execution_count": 43,
   "metadata": {},
   "outputs": [
    {
     "data": {
      "image/png": "[encoded data removed]",
      "text/plain": [
       "<Figure size 432x288 with 1 Axes>"
      ]
     },
     "metadata": {
      "needs_background": "light"
     },
     "output_type": "display_data"
    }
   ],
   "source": [
    "plt.plot(range(n), R2p);  # Plot the sizes of the R2s"
   ]
  },
  {
   "cell_type": "code",
   "execution_count": 44,
   "metadata": {},
   "outputs": [
    {
     "data": {
      "text/plain": [
       "(0.8896445205037986, 0.9112708585854726)"
      ]
     },
     "execution_count": 44,
     "metadata": {},
     "output_type": "execute_result"
    }
   ],
   "source": [
    "min(R2p), R2    # Compare the values of R2"
   ]
  },
  {
   "cell_type": "code",
   "execution_count": 45,
   "metadata": {},
   "outputs": [
    {
     "data": {
      "text/plain": [
       "array([700.,   1.])"
      ]
     },
     "execution_count": 45,
     "metadata": {},
     "output_type": "execute_result"
    }
   ],
   "source": [
    "m1 = R2p.index(min(R2p)) # Note the location of the minimum\n",
    "X_train[m1, :] \n",
    "\n",
    "# And we see that the off-pattern value at x=700 gives the minimum R2"
   ]
  },
  {
   "cell_type": "markdown",
   "metadata": {},
   "source": [
    "This indicates that this sample has a disproportionate impact on our model. That should make us supicious that there is overfitting being caused by it.\n",
    "\n",
    "The coefficients without the first one are given below."
   ]
  },
  {
   "cell_type": "code",
   "execution_count": 46,
   "metadata": {},
   "outputs": [
    {
     "data": {
      "text/plain": [
       "(96.57926372876864, 10.4660106709977)"
      ]
     },
     "execution_count": 46,
     "metadata": {},
     "output_type": "execute_result"
    }
   ],
   "source": [
    "b2, m2 = lin_reg[m1].intercept_, *lin_reg[m1].coef_\n",
    "b2, m2"
   ]
  },
  {
   "cell_type": "markdown",
   "metadata": {},
   "source": [
    "Points with much different $y$ values from other $y$ values with similar $x$ values (*outliers*), or points with much different $x$ values from the mean of the $x$ values (*high leverage samples*) have the potnetial to impact the model disproportinately like both of these. It is tempting to treat them differently (i.e. to accept the model computed without them). However we must proceed with caution. These samples may be the result of some error in the data collection, however they may also be valid samples.\n",
    "\n",
    "Should we include them or not?  A model that has been greatly swayed by a high leverage point may not perform as well on the test data because it has been overfit to these samples. However these high leverage and outlier samples may also be indicative of a pattern in the data. The thing that should give us pause is what happened with the water samples in Flint, MI.\n",
    "\n",
    "### Using the Test Set\n",
    "\n",
    "Of course we prepared for this by sequestering some of our data from the training (development) of our model. We can now use this data to check how accurate our model is on data it has not seen. We will run the test on the model computed with all of the training points $(b, m)$, and on the model computed without the outlier point $(b_2, m_2)$. What erorr expression should we use? We have the ready made one given by the *Residual Sum of Squares* and $R^2$. \n"
   ]
  },
  {
   "cell_type": "code",
   "execution_count": 47,
   "metadata": {},
   "outputs": [
    {
     "data": {
      "text/plain": [
       "'Residual Sum of Squares for Train and Test: 4905193, 150617'"
      ]
     },
     "execution_count": 47,
     "metadata": {},
     "output_type": "execute_result"
    }
   ],
   "source": [
    "# Residual Sum of Squares of the Training and Testing Sets\n",
    "\n",
    "yhat_train = m*X_train[:, 0] + b\n",
    "RSS_train = sum( (yhat_train - y_train)**2)\n",
    "\n",
    "yhat_test = m*X_test[:, 0] + b\n",
    "RSS_test = sum( (yhat_test - y_test)**2)\n",
    "\n",
    "'Residual Sum of Squares for Train and Test: {:.0f}, {:.0f}'.format(RSS_train, RSS_test)"
   ]
  },
  {
   "cell_type": "markdown",
   "metadata": {},
   "source": [
    "Note right away this shows why *Residual Sum of Squares* is problematic - because the sample sizes are different between testing and training sets these numbers are incomparable."
   ]
  },
  {
   "cell_type": "code",
   "execution_count": 48,
   "metadata": {},
   "outputs": [
    {
     "data": {
      "text/plain": [
       "'R2 for Train and Test: 0.9112708585854726, 0.9860486358890489'"
      ]
     },
     "execution_count": 48,
     "metadata": {},
     "output_type": "execute_result"
    }
   ],
   "source": [
    "# Compute R2 of the Training and Testing Sets\n",
    "\n",
    "y_train_mean = np.mean(y_train)\n",
    "TV_train = sum( (y_train - y_train_mean)**2)\n",
    "R2_train = 1 - RSS_train / TV_train\n",
    "\n",
    "y_test_mean = np.mean(y_test)\n",
    "TV_test = sum( (y_test - y_test_mean)**2)\n",
    "R2_test = 1 - RSS_test / TV_test\n",
    "\n",
    "'R2 for Train and Test: {}, {}'.format(R2_train, R2_test)"
   ]
  },
  {
   "cell_type": "markdown",
   "metadata": {},
   "source": [
    "Now lets do the same computation for the second regression expression and see if there is a difference:"
   ]
  },
  {
   "cell_type": "code",
   "execution_count": 49,
   "metadata": {},
   "outputs": [
    {
     "data": {
      "text/plain": [
       "'R2 for Train and Test (model 2): 0.8896445205037986, 0.9986614771230267'"
      ]
     },
     "execution_count": 49,
     "metadata": {},
     "output_type": "execute_result"
    }
   ],
   "source": [
    "yhat_train = m2*X_train[:, 0] + b2\n",
    "RSS_train = sum( (yhat_train - y_train)**2)\n",
    "\n",
    "yhat_test = m2*X_test[:, 0] + b2\n",
    "RSS_test = sum( (yhat_test - y_test)**2) \n",
    "\n",
    "y_train_mean = np.mean(y_train)\n",
    "TV_train = sum( (y_train - y_train_mean)**2)\n",
    "R2_train_2 = 1 - RSS_train / TV_train\n",
    "\n",
    "y_test_mean = np.mean(y_test)\n",
    "TV_test = sum( (y_test - y_test_mean)**2)\n",
    "R2_test_2 = 1 - RSS_test / TV_test\n",
    "\n",
    "'R2 for Train and Test (model 2): {}, {}'.format(R2_train_2, R2_test_2)"
   ]
  },
  {
   "cell_type": "markdown",
   "metadata": {},
   "source": [
    "### Understanding Training and Testing Error\n",
    "\n",
    "So remember our model has been choosen, under the restriction of being a linear model, to minimize the training error (giving us the $R^2$ closest to 1). It has never seen the testing data. So we typically expect the testing error to be worse than the training error. Note that the model did better on the testing data without the high impact point. If you increase the size of the sample following the pattern, this difference will decrease.\n",
    "\n",
    "## Error in Categorization Problems\n",
    "\n",
    "Consider a categorization problem, this dataset is a collection of data related to study of chronic kidney disease (from the UCI archive). \n"
   ]
  },
  {
   "cell_type": "code",
   "execution_count": 50,
   "metadata": {},
   "outputs": [
    {
     "data": {
      "text/html": [
       "<div>\n",
       "<style scoped>\n",
       "    .dataframe tbody tr th:only-of-type {\n",
       "        vertical-align: middle;\n",
       "    }\n",
       "\n",
       "    .dataframe tbody tr th {\n",
       "        vertical-align: top;\n",
       "    }\n",
       "\n",
       "    .dataframe thead th {\n",
       "        text-align: right;\n",
       "    }\n",
       "</style>\n",
       "<table border=\"1\" class=\"dataframe\">\n",
       "  <thead>\n",
       "    <tr style=\"text-align: right;\">\n",
       "      <th></th>\n",
       "      <th>age</th>\n",
       "      <th>bp</th>\n",
       "      <th>specific_gravity</th>\n",
       "      <th>albumin</th>\n",
       "      <th>sugar</th>\n",
       "      <th>red_blood_cells</th>\n",
       "      <th>pus_cell</th>\n",
       "      <th>pus_cell_clumps</th>\n",
       "      <th>bacteria</th>\n",
       "      <th>blood_glucose</th>\n",
       "      <th>...</th>\n",
       "      <th>packed_cell_volume</th>\n",
       "      <th>white_blood_cell_count</th>\n",
       "      <th>red_blood_cell_count</th>\n",
       "      <th>hypertension</th>\n",
       "      <th>diabetes_mellitus</th>\n",
       "      <th>coronary_artery_disease</th>\n",
       "      <th>appetite</th>\n",
       "      <th>pedal_edema</th>\n",
       "      <th>anemia</th>\n",
       "      <th>class</th>\n",
       "    </tr>\n",
       "  </thead>\n",
       "  <tbody>\n",
       "    <tr>\n",
       "      <th>0</th>\n",
       "      <td>48</td>\n",
       "      <td>80</td>\n",
       "      <td>1.020</td>\n",
       "      <td>1</td>\n",
       "      <td>0</td>\n",
       "      <td>?</td>\n",
       "      <td>normal</td>\n",
       "      <td>notpresent</td>\n",
       "      <td>notpresent</td>\n",
       "      <td>121</td>\n",
       "      <td>...</td>\n",
       "      <td>44</td>\n",
       "      <td>7800</td>\n",
       "      <td>5.2</td>\n",
       "      <td>yes</td>\n",
       "      <td>yes</td>\n",
       "      <td>no</td>\n",
       "      <td>good</td>\n",
       "      <td>no</td>\n",
       "      <td>no</td>\n",
       "      <td>ckd</td>\n",
       "    </tr>\n",
       "    <tr>\n",
       "      <th>1</th>\n",
       "      <td>7</td>\n",
       "      <td>50</td>\n",
       "      <td>1.020</td>\n",
       "      <td>4</td>\n",
       "      <td>0</td>\n",
       "      <td>?</td>\n",
       "      <td>normal</td>\n",
       "      <td>notpresent</td>\n",
       "      <td>notpresent</td>\n",
       "      <td>?</td>\n",
       "      <td>...</td>\n",
       "      <td>38</td>\n",
       "      <td>6000</td>\n",
       "      <td>?</td>\n",
       "      <td>no</td>\n",
       "      <td>no</td>\n",
       "      <td>no</td>\n",
       "      <td>good</td>\n",
       "      <td>no</td>\n",
       "      <td>no</td>\n",
       "      <td>ckd</td>\n",
       "    </tr>\n",
       "    <tr>\n",
       "      <th>2</th>\n",
       "      <td>62</td>\n",
       "      <td>80</td>\n",
       "      <td>1.010</td>\n",
       "      <td>2</td>\n",
       "      <td>3</td>\n",
       "      <td>normal</td>\n",
       "      <td>normal</td>\n",
       "      <td>notpresent</td>\n",
       "      <td>notpresent</td>\n",
       "      <td>423</td>\n",
       "      <td>...</td>\n",
       "      <td>31</td>\n",
       "      <td>7500</td>\n",
       "      <td>?</td>\n",
       "      <td>no</td>\n",
       "      <td>yes</td>\n",
       "      <td>no</td>\n",
       "      <td>poor</td>\n",
       "      <td>no</td>\n",
       "      <td>yes</td>\n",
       "      <td>ckd</td>\n",
       "    </tr>\n",
       "    <tr>\n",
       "      <th>3</th>\n",
       "      <td>48</td>\n",
       "      <td>70</td>\n",
       "      <td>1.005</td>\n",
       "      <td>4</td>\n",
       "      <td>0</td>\n",
       "      <td>normal</td>\n",
       "      <td>abnormal</td>\n",
       "      <td>present</td>\n",
       "      <td>notpresent</td>\n",
       "      <td>117</td>\n",
       "      <td>...</td>\n",
       "      <td>32</td>\n",
       "      <td>6700</td>\n",
       "      <td>3.9</td>\n",
       "      <td>yes</td>\n",
       "      <td>no</td>\n",
       "      <td>no</td>\n",
       "      <td>poor</td>\n",
       "      <td>yes</td>\n",
       "      <td>yes</td>\n",
       "      <td>ckd</td>\n",
       "    </tr>\n",
       "    <tr>\n",
       "      <th>4</th>\n",
       "      <td>51</td>\n",
       "      <td>80</td>\n",
       "      <td>1.010</td>\n",
       "      <td>2</td>\n",
       "      <td>0</td>\n",
       "      <td>normal</td>\n",
       "      <td>normal</td>\n",
       "      <td>notpresent</td>\n",
       "      <td>notpresent</td>\n",
       "      <td>106</td>\n",
       "      <td>...</td>\n",
       "      <td>35</td>\n",
       "      <td>7300</td>\n",
       "      <td>4.6</td>\n",
       "      <td>no</td>\n",
       "      <td>no</td>\n",
       "      <td>no</td>\n",
       "      <td>good</td>\n",
       "      <td>no</td>\n",
       "      <td>no</td>\n",
       "      <td>ckd</td>\n",
       "    </tr>\n",
       "  </tbody>\n",
       "</table>\n",
       "<p>5 rows × 25 columns</p>\n",
       "</div>"
      ],
      "text/plain": [
       "  age  bp specific_gravity albumin sugar red_blood_cells  pus_cell  \\\n",
       "0  48  80            1.020       1     0               ?    normal   \n",
       "1   7  50            1.020       4     0               ?    normal   \n",
       "2  62  80            1.010       2     3          normal    normal   \n",
       "3  48  70            1.005       4     0          normal  abnormal   \n",
       "4  51  80            1.010       2     0          normal    normal   \n",
       "\n",
       "  pus_cell_clumps    bacteria blood_glucose  ... packed_cell_volume  \\\n",
       "0      notpresent  notpresent           121  ...                 44   \n",
       "1      notpresent  notpresent             ?  ...                 38   \n",
       "2      notpresent  notpresent           423  ...                 31   \n",
       "3         present  notpresent           117  ...                 32   \n",
       "4      notpresent  notpresent           106  ...                 35   \n",
       "\n",
       "  white_blood_cell_count red_blood_cell_count hypertension diabetes_mellitus  \\\n",
       "0                   7800                  5.2          yes               yes   \n",
       "1                   6000                    ?           no                no   \n",
       "2                   7500                    ?           no               yes   \n",
       "3                   6700                  3.9          yes                no   \n",
       "4                   7300                  4.6           no                no   \n",
       "\n",
       "  coronary_artery_disease appetite pedal_edema anemia class  \n",
       "0                      no     good          no     no   ckd  \n",
       "1                      no     good          no     no   ckd  \n",
       "2                      no     poor          no    yes   ckd  \n",
       "3                      no     poor         yes    yes   ckd  \n",
       "4                      no     good          no     no   ckd  \n",
       "\n",
       "[5 rows x 25 columns]"
      ]
     },
     "execution_count": 50,
     "metadata": {},
     "output_type": "execute_result"
    }
   ],
   "source": [
    "kd = pa.read_csv('Data Sets/Kidney/chronic_kidney_disease.csv', \n",
    "                 names=['age', 'bp', 'specific_gravity', 'albumin', 'sugar', 'red_blood_cells', 'pus_cell',\n",
    "                        'pus_cell_clumps', 'bacteria', 'blood_glucose', 'blood_urea', 'serum_creatinine', \n",
    "                        'sodium', 'potassium', 'hemoglobin', 'packed_cell_volume', 'white_blood_cell_count',\n",
    "                        'red_blood_cell_count', 'hypertension', 'diabetes_mellitus', 'coronary_artery_disease',\n",
    "                        'appetite', 'pedal_edema', 'anemia', 'class'])\n",
    "\n",
    "kd.loc[kd.loc[:, 'class'] == 'ckd\\t', 'class'] = 'ckd'  # There is an extra tab character on some of the ckd values\n",
    "\n",
    "kd.head()"
   ]
  },
  {
   "cell_type": "code",
   "execution_count": 51,
   "metadata": {},
   "outputs": [],
   "source": [
    "# There are some missing values for hemoglobin\n",
    "\n",
    "kd = kd[kd.hemoglobin != '?']  "
   ]
  },
  {
   "cell_type": "markdown",
   "metadata": {},
   "source": [
    "Note that the goal here is to determine a hemoglobin level that indicates that a patient has *Chronic Kidney Disease*."
   ]
  },
  {
   "cell_type": "markdown",
   "metadata": {},
   "source": [
    "### Logistic Regression (Classification)\n",
    "\n",
    "We first need to develop a model for classification to discuss how error in categorization models is handled. Our first example of a categorization model is a generalization of the *Linear Regression* model we were using above. \n",
    "\n",
    "We will consider two models. The first is based on the linear interpolation we used above, and is what we might consider a *naive* generalization. The second is *Logistic Regression*, which despite its name, is derived first as a classification method.\n",
    "\n",
    "In order to compare our two methods, we will use the *test* set method we introduced above and set aside a portion of our samples to use to train or develop the models and a separate portion to use for testing the models."
   ]
  },
  {
   "cell_type": "code",
   "execution_count": 52,
   "metadata": {},
   "outputs": [],
   "source": [
    "# First convert the data to numerical data in numpy arrays\n",
    "# Note a problem with this data is that the float values for hemoglobin (and other variables) were read as strings\n",
    "# We need to convert them\n",
    "\n",
    "X = np.atleast_2d(np.array([float(h) for h in kd.loc[:, 'hemoglobin']])).transpose()\n",
    "\n",
    "# We need to recode the values for the class to be numeric\n",
    "rename_class = { 'ckd':1, 'notckd':0}  \n",
    "y = np.array([rename_class[c] for c in np.array(kd.loc[:, 'class'])])\n"
   ]
  },
  {
   "cell_type": "code",
   "execution_count": 53,
   "metadata": {},
   "outputs": [
    {
     "data": {
      "image/png": "[encoded data removed]",
      "text/plain": [
       "<Figure size 576x432 with 1 Axes>"
      ]
     },
     "metadata": {
      "needs_background": "light"
     },
     "output_type": "display_data"
    }
   ],
   "source": [
    "plt.figure(figsize = (8, 6))\n",
    "plt.plot(X, y, 'b.');"
   ]
  },
  {
   "cell_type": "markdown",
   "metadata": {},
   "source": [
    "Note that other than the fact that the $y$ values take only 0 or 1 values, this is a similar problem to the regression problem above. So we could try Linear Regression. First we divide the data into testing and training sets."
   ]
  },
  {
   "cell_type": "code",
   "execution_count": 54,
   "metadata": {},
   "outputs": [],
   "source": [
    "# We shuffle the data using a random permutation\n",
    "\n",
    "n = X.shape[0]\n",
    "test = int(0.20*n)            # We will use a test set made up of 20% of the data from our sample\n",
    "perm = rn.permutation(n)   \n",
    "X = X[perm]\n",
    "y = y[perm]\n",
    "X_test = X[:test]       # Then create the test\n",
    "y_test = y[:test]\n",
    "X_train = X[test:]     # and train sets\n",
    "y_train = y[test:]"
   ]
  },
  {
   "cell_type": "code",
   "execution_count": 55,
   "metadata": {},
   "outputs": [
    {
     "data": {
      "text/plain": [
       "(2.2204518115255243, -0.13075906720199967)"
      ]
     },
     "execution_count": 55,
     "metadata": {},
     "output_type": "execute_result"
    }
   ],
   "source": [
    "reg = LinearRegression().fit(X_train, y_train)\n",
    "\n",
    "b, m = reg.intercept_, *reg.coef_\n",
    "b, m"
   ]
  },
  {
   "cell_type": "code",
   "execution_count": 56,
   "metadata": {},
   "outputs": [
    {
     "data": {
      "image/png": "[encoded data removed]",
      "text/plain": [
       "<Figure size 576x432 with 1 Axes>"
      ]
     },
     "metadata": {
      "needs_background": "light"
     },
     "output_type": "display_data"
    }
   ],
   "source": [
    "xhat = np.linspace(2, 18, 100)\n",
    "yhat = m*xhat+b\n",
    "plt.figure(figsize = (8, 6))\n",
    "plt.plot(X_train, y_train, 'b.')\n",
    "plt.plot(xhat, yhat, 'r-');"
   ]
  },
  {
   "cell_type": "code",
   "execution_count": 57,
   "metadata": {},
   "outputs": [
    {
     "data": {
      "image/png": "[encoded data removed]",
      "text/plain": [
       "<Figure size 576x432 with 1 Axes>"
      ]
     },
     "metadata": {
      "needs_background": "light"
     },
     "output_type": "display_data"
    }
   ],
   "source": [
    "# we round the resulting y values to get the nearest value of 1 or 0\n",
    "\n",
    "xhat = np.linspace(2, 18, 100)\n",
    "fix_yhat = {2:1, 1:1, 0:0}\n",
    "yhat = [fix_yhat[h] for h in np.round(m*xhat+b)]\n",
    "plt.figure(figsize = (8, 6))\n",
    "plt.plot(X_train, y_train, 'b.')\n",
    "plt.plot(xhat, yhat, 'r-');"
   ]
  },
  {
   "cell_type": "markdown",
   "metadata": {},
   "source": [
    "The decision boundary is where $y =  mx + b = 0.5$. "
   ]
  },
  {
   "cell_type": "code",
   "execution_count": 58,
   "metadata": {},
   "outputs": [
    {
     "data": {
      "text/plain": [
       "13.157418818747995"
      ]
     },
     "execution_count": 58,
     "metadata": {},
     "output_type": "execute_result"
    }
   ],
   "source": [
    "dec_boundary = (0.5 - b)/m\n",
    "dec_boundary"
   ]
  },
  {
   "cell_type": "markdown",
   "metadata": {},
   "source": [
    "The points to the left of the decision boundary can be classified as Chronic Kidney Disease, those to the right as healthy. However note that there will be some samples that are misclassified. The proportion of the sample (training and testing separately) that is misclassified is the error."
   ]
  },
  {
   "cell_type": "code",
   "execution_count": 59,
   "metadata": {},
   "outputs": [
    {
     "data": {
      "image/png": "[encoded data removed]",
      "text/plain": [
       "<Figure size 576x432 with 1 Axes>"
      ]
     },
     "metadata": {
      "needs_background": "light"
     },
     "output_type": "display_data"
    }
   ],
   "source": [
    "plt.figure(figsize = (8, 6))\n",
    "\n",
    "plt.plot(X_train[(X_train < dec_boundary)[:, 0]], y_train[(X_train < dec_boundary)[:, 0]], 'b.');\n",
    "plt.plot(X_train[(X_train > dec_boundary)[:, 0]], y_train[(X_train > dec_boundary)[:, 0]], 'r.');\n",
    "plt.plot(X_test[(X_test < dec_boundary)[:, 0]], y_test[(X_test < dec_boundary)[:, 0]], 'b+');\n",
    "plt.plot(X_test[(X_test > dec_boundary)[:, 0]], y_test[(X_test > dec_boundary)[:, 0]], 'r+');"
   ]
  },
  {
   "cell_type": "code",
   "execution_count": 60,
   "metadata": {},
   "outputs": [
    {
     "name": "stdout",
     "output_type": "stream",
     "text": [
      "Training Error: 0.07168458781362007\n",
      "Testing Error: 0.057971014492753624\n"
     ]
    }
   ],
   "source": [
    "Error_train = (sum( y_train[(X_train < dec_boundary)[:, 0]] == 0 ) + \n",
    "               sum( y_train[(X_train > dec_boundary)[:, 0]] == 1) )/y_train.shape[0]\n",
    "Error_test = (sum( y_test[(X_test < dec_boundary)[:, 0]] == 0 ) + \n",
    "               sum( y_test[(X_test > dec_boundary)[:, 0]] == 1) )/y_test.shape[0]\n",
    "\n",
    "print('Training Error: {}'.format(Error_train))\n",
    "print('Testing Error: {}'.format(Error_test))"
   ]
  },
  {
   "cell_type": "markdown",
   "metadata": {},
   "source": [
    "#### The Logistic Model\n",
    "\n",
    "Note though that what we have done does not really make a lot of sense. We have used a linear best fit line to try and predict the values of the categorical variable $y$. In this case $y$ only takes values $1$ or $0$ and so it is not to far off, however if we had a categorical variable with 3 or more values coding them as integers may not correspond to their relationship. For one thing they might not even be ordered!\n",
    "\n",
    "What we need is a method of categorization that is built on the categorical problem itself. \n",
    "\n",
    "What we are trying to predict is the probability that a patient has *Chronic Kidney Disease* given a hemoglobin level $x$.\n",
    "\n",
    "$$ p(x) = P(y=1 | x) $$\n",
    "\n",
    "Note that with *Linear Regression* what we have attempted to do is estimate this probability with a linear function:\n",
    "\n",
    "$$ p(x) = P(y=1 | x) = m x + b $$\n",
    "\n",
    "But immediately notice the problem, this returns values bigger than 1 and less than 0 for some choices of $x$.\n",
    "\n",
    "So what we would prefer is to estimate $p(x) = P(y=1 | x) $ with some function that only returns values between 0 and 1 and thus gives a valid probability. We could use the logistic function:\n",
    "\n",
    "$$ p(x) = P(y=1 | x) = \\frac{\\exp(m x + b)}{1 + \\exp(m x + b)} $$\n",
    "\n",
    "You may have seen this function before in modeling population growth with a carrying capacity.\n",
    "\n",
    "So the idea is to find values of $m$ and $b$ that give the best estimate for $p(x)$ that we can find.\n",
    "\n",
    "We will skip for now how these values are actually computed and instead use the scikitlearn function LogisticRegression."
   ]
  },
  {
   "cell_type": "code",
   "execution_count": 61,
   "metadata": {},
   "outputs": [],
   "source": [
    "# Import LogisticRegression\n",
    "from sklearn.linear_model import LogisticRegression"
   ]
  },
  {
   "cell_type": "code",
   "execution_count": 62,
   "metadata": {},
   "outputs": [],
   "source": [
    "# Make an instance of the model and fit it to the training data\n",
    "lgreg = LogisticRegression(solver='lbfgs')\n",
    "lgreg.fit(X_train, y_train);"
   ]
  },
  {
   "cell_type": "code",
   "execution_count": 63,
   "metadata": {},
   "outputs": [
    {
     "data": {
      "text/plain": [
       "(21.676500392358324, -1.6122969890301149)"
      ]
     },
     "execution_count": 63,
     "metadata": {},
     "output_type": "execute_result"
    }
   ],
   "source": [
    "b, m = *lgreg.intercept_, *lgreg.coef_[0]\n",
    "b, m"
   ]
  },
  {
   "cell_type": "code",
   "execution_count": 64,
   "metadata": {},
   "outputs": [
    {
     "data": {
      "image/png": "[encoded data removed]",
      "text/plain": [
       "<Figure size 576x432 with 1 Axes>"
      ]
     },
     "metadata": {
      "needs_background": "light"
     },
     "output_type": "display_data"
    }
   ],
   "source": [
    "plt.figure(figsize = (8, 6))\n",
    "plt.plot(X_train, y_train, 'b.')\n",
    "xx = np.linspace(0, 20, 100)\n",
    "yy = np.exp(m*xx+b)/(1 + np.exp(m*xx+b))\n",
    "plt.plot(xx, yy, 'g-');"
   ]
  },
  {
   "cell_type": "markdown",
   "metadata": {},
   "source": [
    "The decsision boundary happens again where the probability becomes 0.5; although note that we could actually tune the location of the decsision boundary based on the extent to which we want to avoid false positives or false negatives."
   ]
  },
  {
   "cell_type": "code",
   "execution_count": 65,
   "metadata": {},
   "outputs": [
    {
     "data": {
      "text/plain": [
       "13.444483578300254"
      ]
     },
     "execution_count": 65,
     "metadata": {},
     "output_type": "execute_result"
    }
   ],
   "source": [
    "dec_bd = -b/m  # Solving for the logistic function = 0.5 gives - b/m\n",
    "dec_bd"
   ]
  },
  {
   "cell_type": "code",
   "execution_count": 66,
   "metadata": {},
   "outputs": [
    {
     "data": {
      "image/png": "[encoded data removed]",
      "text/plain": [
       "<Figure size 576x432 with 1 Axes>"
      ]
     },
     "metadata": {
      "needs_background": "light"
     },
     "output_type": "display_data"
    }
   ],
   "source": [
    "# Plotting the classification of the training and testing sets.\n",
    "\n",
    "plt.figure(figsize = (8, 6))\n",
    "\n",
    "plt.plot(X_train[(X_train < dec_bd)[:, 0]], y_train[(X_train < dec_bd)[:, 0]], 'b.')\n",
    "plt.plot(X_train[(X_train > dec_bd)[:, 0]], y_train[(X_train > dec_bd)[:, 0]], 'r.')\n",
    "plt.plot(X_test[(X_test < dec_bd)[:, 0]], y_test[(X_test < dec_bd)[:, 0]], 'b+')\n",
    "plt.plot(X_test[(X_test > dec_bd)[:, 0]], y_test[(X_test > dec_bd)[:, 0]], 'r+')\n",
    "plt.plot(xx, yy, 'g-');"
   ]
  },
  {
   "cell_type": "code",
   "execution_count": 67,
   "metadata": {},
   "outputs": [
    {
     "name": "stdout",
     "output_type": "stream",
     "text": [
      "Training Error: 0.08243727598566308\n",
      "Testing Error: 0.07246376811594203\n"
     ]
    }
   ],
   "source": [
    "# Computing the error of the training and testing sets.\n",
    "\n",
    "Error_train = (sum( y_train[(X_train < dec_bd)[:, 0]] == 0 ) + \n",
    "               sum( y_train[(X_train > dec_bd)[:, 0]] == 1) )/y_train.shape[0]\n",
    "Error_test = (sum( y_test[(X_test < dec_bd)[:, 0]] == 0 ) + \n",
    "               sum( y_test[(X_test > dec_bd)[:, 0]] == 1) )/y_test.shape[0]\n",
    "\n",
    "print('Training Error: {}'.format(Error_train))\n",
    "print('Testing Error: {}'.format(Error_test))"
   ]
  },
  {
   "cell_type": "markdown",
   "metadata": {},
   "source": [
    "In this case the error was comparable, and slightly better (although it changes each time you run it). The logistic model is more robust and fluctuates less than the linear regression model. \n",
    "\n",
    "In future weeks we will get into the details of how these models work."
   ]
  },
  {
   "cell_type": "code",
   "execution_count": null,
   "metadata": {},
   "outputs": [],
   "source": []
  }
 ],
 "metadata": {
  "kernelspec": {
   "display_name": "Python 3",
   "language": "python",
   "name": "python3"
  },
  "language_info": {
   "codemirror_mode": {
    "name": "ipython",
    "version": 3
   },
   "file_extension": ".py",
   "mimetype": "text/x-python",
   "name": "python",
   "nbconvert_exporter": "python",
   "pygments_lexer": "ipython3",
   "version": "3.7.3"
  }
 },
 "nbformat": 4,
 "nbformat_minor": 4
}

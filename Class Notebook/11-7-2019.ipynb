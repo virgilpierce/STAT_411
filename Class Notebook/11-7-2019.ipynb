{
 "cells": [
  {
   "cell_type": "markdown",
   "metadata": {},
   "source": [
    "# Toolbox Inventory\n",
    "\n",
    "## Feature Engineering\n",
    "\n",
    "- One-hot encoding\n",
    "- Content Knowledge Is Included\n",
    "\n",
    "## Validation / Error Estimation\n",
    "\n",
    "- Training v Testing\n",
    "- Cross Validation\n",
    "- Bootstrapping\n",
    "\n",
    "## Pre-processing Tools\n",
    "\n",
    "- Singular Value Decomospition, Principal Component Analysis\n",
    "\n",
    "## Tools for Regression\n",
    "\n",
    "- Linear Regression\n",
    "- K-Nearest Neighbors for Regression\n",
    "- Ridge Regression\n",
    "- Lasso Regression\n",
    "- Decsion Trees for Regression\n",
    "- Boosting with Decsion Trees\n",
    "- Random Forests\n",
    "- Neural Networks\n",
    "\n",
    "## Tools for Classification\n",
    "\n",
    "- Logistic Regression\n",
    "- K-Nearest Neighbors for Classification\n",
    "- Linear and Quadratic Discriminant Analysis\n",
    "- Support Vector Machines\n",
    "- Decsion Trees for Classification\n",
    "- Random Forests\n",
    "- Neural Networks"
   ]
  },
  {
   "cell_type": "code",
   "execution_count": null,
   "metadata": {},
   "outputs": [],
   "source": []
  }
 ],
 "metadata": {
  "kernelspec": {
   "display_name": "Python 3",
   "language": "python",
   "name": "python3"
  },
  "language_info": {
   "codemirror_mode": {
    "name": "ipython",
    "version": 3
   },
   "file_extension": ".py",
   "mimetype": "text/x-python",
   "name": "python",
   "nbconvert_exporter": "python",
   "pygments_lexer": "ipython3",
   "version": "3.7.4"
  }
 },
 "nbformat": 4,
 "nbformat_minor": 4
}

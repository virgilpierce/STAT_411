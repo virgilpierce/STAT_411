{
 "cells": [
  {
   "cell_type": "markdown",
   "metadata": {},
   "source": [
    "# Toolbox Inventory\n",
    "\n",
    "## Feature Engineering\n",
    "\n",
    "- One-hot encoding\n",
    "- Content Knowledge Is Included\n",
    "\n",
    "## Validation / Error Estimation\n",
    "\n",
    "- Training v Testing\n",
    "- Cross Validation\n",
    "- Bootstrapping\n",
    "\n",
    "## Pre-processing Tools\n",
    "\n",
    "- Singular Value Decomospition, Principal Component Analysis\n",
    "\n",
    "## Tools for Regression\n",
    "\n",
    "- Linear Regression\n",
    "- K-Nearest Neighbors for Regression\n",
    "- Ridge Regression\n",
    "- Lasso Regression\n",
    "\n",
    "## Tools for Classification\n",
    "\n",
    "- Logistic Regression\n",
    "- K-Nearest Neighbors for Classification\n",
    "- Linear and Quadratic Discriminant Analysis\n",
    "- Support Vector Machines"
   ]
  },
  {
   "cell_type": "markdown",
   "metadata": {},
   "source": [
    "# Decsion Trees, Boosting, and Random Forests\n",
    "\n",
    "\n",
    "## Decsion Trees \n",
    "\n",
    "Today we will learn a new type of model, called *Decision Trees* and then explore a number of models using these algorithms. Decision trees represent a significant departure from previous models. Their primary advantage is that they produce models that are easy to explain to *non-experts* and they are also capable of distilling the most important features in a model.\n",
    "\n",
    "However Decision Trees do not typically perform well on data as a model (again we see this sort of dichotomy between types of models), so we will also explore some techniques for using multiple decision trees as a model. These will have improved performance as models but will not be as easy to interpret.\n",
    "\n",
    "Decsision Trees are especially important models in my work on Student Success as they represent the actual placement process we use at universities to determine what mathematics course students should take and what supports they need. [Here is an example of our placement chart at UNC.](https://www.unco.edu/nhs/mathematical-sciences/placement/results.aspx) You will see very quickly that this is a basic example of a decision tree. With that in mind you can see that they appear in many other places, though perhaps as models that have not been developed algorithmicly, trained on data, or tested.\n",
    "\n",
    "Perhaps the best place to start is with an example:"
   ]
  },
  {
   "cell_type": "code",
   "execution_count": 1,
   "metadata": {},
   "outputs": [],
   "source": [
    "import pandas as pa\n",
    "import matplotlib.pyplot as plt\n",
    "import matplotlib.colors as pltcolor\n",
    "import numpy as np"
   ]
  },
  {
   "cell_type": "code",
   "execution_count": 2,
   "metadata": {},
   "outputs": [
    {
     "ename": "FileNotFoundError",
     "evalue": "[Errno 2] File b'Data Sets/auto-mpg.csv' does not exist: b'Data Sets/auto-mpg.csv'",
     "output_type": "error",
     "traceback": [
      "\u001b[0;31m---------------------------------------------------------------------------\u001b[0m",
      "\u001b[0;31mFileNotFoundError\u001b[0m                         Traceback (most recent call last)",
      "\u001b[0;32m<ipython-input-2-f70f0216f21f>\u001b[0m in \u001b[0;36m<module>\u001b[0;34m\u001b[0m\n\u001b[1;32m      1\u001b[0m mpg = pa.read_csv('Data Sets/auto-mpg.csv', names=['mpg', 'cylinders', 'displacement', 'horsepower', \n\u001b[0;32m----> 2\u001b[0;31m                                                    'weight', 'acceleration', 'model year', 'origin', 'car name'])\n\u001b[0m\u001b[1;32m      3\u001b[0m \u001b[0mmpg\u001b[0m\u001b[0;34m.\u001b[0m\u001b[0mhead\u001b[0m\u001b[0;34m(\u001b[0m\u001b[0;36m10\u001b[0m\u001b[0;34m)\u001b[0m\u001b[0;34m\u001b[0m\u001b[0;34m\u001b[0m\u001b[0m\n",
      "\u001b[0;32m/anaconda3/lib/python3.7/site-packages/pandas/io/parsers.py\u001b[0m in \u001b[0;36mparser_f\u001b[0;34m(filepath_or_buffer, sep, delimiter, header, names, index_col, usecols, squeeze, prefix, mangle_dupe_cols, dtype, engine, converters, true_values, false_values, skipinitialspace, skiprows, skipfooter, nrows, na_values, keep_default_na, na_filter, verbose, skip_blank_lines, parse_dates, infer_datetime_format, keep_date_col, date_parser, dayfirst, cache_dates, iterator, chunksize, compression, thousands, decimal, lineterminator, quotechar, quoting, doublequote, escapechar, comment, encoding, dialect, error_bad_lines, warn_bad_lines, delim_whitespace, low_memory, memory_map, float_precision)\u001b[0m\n\u001b[1;32m    683\u001b[0m         )\n\u001b[1;32m    684\u001b[0m \u001b[0;34m\u001b[0m\u001b[0m\n\u001b[0;32m--> 685\u001b[0;31m         \u001b[0;32mreturn\u001b[0m \u001b[0m_read\u001b[0m\u001b[0;34m(\u001b[0m\u001b[0mfilepath_or_buffer\u001b[0m\u001b[0;34m,\u001b[0m \u001b[0mkwds\u001b[0m\u001b[0;34m)\u001b[0m\u001b[0;34m\u001b[0m\u001b[0;34m\u001b[0m\u001b[0m\n\u001b[0m\u001b[1;32m    686\u001b[0m \u001b[0;34m\u001b[0m\u001b[0m\n\u001b[1;32m    687\u001b[0m     \u001b[0mparser_f\u001b[0m\u001b[0;34m.\u001b[0m\u001b[0m__name__\u001b[0m \u001b[0;34m=\u001b[0m \u001b[0mname\u001b[0m\u001b[0;34m\u001b[0m\u001b[0;34m\u001b[0m\u001b[0m\n",
      "\u001b[0;32m/anaconda3/lib/python3.7/site-packages/pandas/io/parsers.py\u001b[0m in \u001b[0;36m_read\u001b[0;34m(filepath_or_buffer, kwds)\u001b[0m\n\u001b[1;32m    455\u001b[0m \u001b[0;34m\u001b[0m\u001b[0m\n\u001b[1;32m    456\u001b[0m     \u001b[0;31m# Create the parser.\u001b[0m\u001b[0;34m\u001b[0m\u001b[0;34m\u001b[0m\u001b[0;34m\u001b[0m\u001b[0m\n\u001b[0;32m--> 457\u001b[0;31m     \u001b[0mparser\u001b[0m \u001b[0;34m=\u001b[0m \u001b[0mTextFileReader\u001b[0m\u001b[0;34m(\u001b[0m\u001b[0mfp_or_buf\u001b[0m\u001b[0;34m,\u001b[0m \u001b[0;34m**\u001b[0m\u001b[0mkwds\u001b[0m\u001b[0;34m)\u001b[0m\u001b[0;34m\u001b[0m\u001b[0;34m\u001b[0m\u001b[0m\n\u001b[0m\u001b[1;32m    458\u001b[0m \u001b[0;34m\u001b[0m\u001b[0m\n\u001b[1;32m    459\u001b[0m     \u001b[0;32mif\u001b[0m \u001b[0mchunksize\u001b[0m \u001b[0;32mor\u001b[0m \u001b[0miterator\u001b[0m\u001b[0;34m:\u001b[0m\u001b[0;34m\u001b[0m\u001b[0;34m\u001b[0m\u001b[0m\n",
      "\u001b[0;32m/anaconda3/lib/python3.7/site-packages/pandas/io/parsers.py\u001b[0m in \u001b[0;36m__init__\u001b[0;34m(self, f, engine, **kwds)\u001b[0m\n\u001b[1;32m    893\u001b[0m             \u001b[0mself\u001b[0m\u001b[0;34m.\u001b[0m\u001b[0moptions\u001b[0m\u001b[0;34m[\u001b[0m\u001b[0;34m\"has_index_names\"\u001b[0m\u001b[0;34m]\u001b[0m \u001b[0;34m=\u001b[0m \u001b[0mkwds\u001b[0m\u001b[0;34m[\u001b[0m\u001b[0;34m\"has_index_names\"\u001b[0m\u001b[0;34m]\u001b[0m\u001b[0;34m\u001b[0m\u001b[0;34m\u001b[0m\u001b[0m\n\u001b[1;32m    894\u001b[0m \u001b[0;34m\u001b[0m\u001b[0m\n\u001b[0;32m--> 895\u001b[0;31m         \u001b[0mself\u001b[0m\u001b[0;34m.\u001b[0m\u001b[0m_make_engine\u001b[0m\u001b[0;34m(\u001b[0m\u001b[0mself\u001b[0m\u001b[0;34m.\u001b[0m\u001b[0mengine\u001b[0m\u001b[0;34m)\u001b[0m\u001b[0;34m\u001b[0m\u001b[0;34m\u001b[0m\u001b[0m\n\u001b[0m\u001b[1;32m    896\u001b[0m \u001b[0;34m\u001b[0m\u001b[0m\n\u001b[1;32m    897\u001b[0m     \u001b[0;32mdef\u001b[0m \u001b[0mclose\u001b[0m\u001b[0;34m(\u001b[0m\u001b[0mself\u001b[0m\u001b[0;34m)\u001b[0m\u001b[0;34m:\u001b[0m\u001b[0;34m\u001b[0m\u001b[0;34m\u001b[0m\u001b[0m\n",
      "\u001b[0;32m/anaconda3/lib/python3.7/site-packages/pandas/io/parsers.py\u001b[0m in \u001b[0;36m_make_engine\u001b[0;34m(self, engine)\u001b[0m\n\u001b[1;32m   1133\u001b[0m     \u001b[0;32mdef\u001b[0m \u001b[0m_make_engine\u001b[0m\u001b[0;34m(\u001b[0m\u001b[0mself\u001b[0m\u001b[0;34m,\u001b[0m \u001b[0mengine\u001b[0m\u001b[0;34m=\u001b[0m\u001b[0;34m\"c\"\u001b[0m\u001b[0;34m)\u001b[0m\u001b[0;34m:\u001b[0m\u001b[0;34m\u001b[0m\u001b[0;34m\u001b[0m\u001b[0m\n\u001b[1;32m   1134\u001b[0m         \u001b[0;32mif\u001b[0m \u001b[0mengine\u001b[0m \u001b[0;34m==\u001b[0m \u001b[0;34m\"c\"\u001b[0m\u001b[0;34m:\u001b[0m\u001b[0;34m\u001b[0m\u001b[0;34m\u001b[0m\u001b[0m\n\u001b[0;32m-> 1135\u001b[0;31m             \u001b[0mself\u001b[0m\u001b[0;34m.\u001b[0m\u001b[0m_engine\u001b[0m \u001b[0;34m=\u001b[0m \u001b[0mCParserWrapper\u001b[0m\u001b[0;34m(\u001b[0m\u001b[0mself\u001b[0m\u001b[0;34m.\u001b[0m\u001b[0mf\u001b[0m\u001b[0;34m,\u001b[0m \u001b[0;34m**\u001b[0m\u001b[0mself\u001b[0m\u001b[0;34m.\u001b[0m\u001b[0moptions\u001b[0m\u001b[0;34m)\u001b[0m\u001b[0;34m\u001b[0m\u001b[0;34m\u001b[0m\u001b[0m\n\u001b[0m\u001b[1;32m   1136\u001b[0m         \u001b[0;32melse\u001b[0m\u001b[0;34m:\u001b[0m\u001b[0;34m\u001b[0m\u001b[0;34m\u001b[0m\u001b[0m\n\u001b[1;32m   1137\u001b[0m             \u001b[0;32mif\u001b[0m \u001b[0mengine\u001b[0m \u001b[0;34m==\u001b[0m \u001b[0;34m\"python\"\u001b[0m\u001b[0;34m:\u001b[0m\u001b[0;34m\u001b[0m\u001b[0;34m\u001b[0m\u001b[0m\n",
      "\u001b[0;32m/anaconda3/lib/python3.7/site-packages/pandas/io/parsers.py\u001b[0m in \u001b[0;36m__init__\u001b[0;34m(self, src, **kwds)\u001b[0m\n\u001b[1;32m   1915\u001b[0m         \u001b[0mkwds\u001b[0m\u001b[0;34m[\u001b[0m\u001b[0;34m\"usecols\"\u001b[0m\u001b[0;34m]\u001b[0m \u001b[0;34m=\u001b[0m \u001b[0mself\u001b[0m\u001b[0;34m.\u001b[0m\u001b[0musecols\u001b[0m\u001b[0;34m\u001b[0m\u001b[0;34m\u001b[0m\u001b[0m\n\u001b[1;32m   1916\u001b[0m \u001b[0;34m\u001b[0m\u001b[0m\n\u001b[0;32m-> 1917\u001b[0;31m         \u001b[0mself\u001b[0m\u001b[0;34m.\u001b[0m\u001b[0m_reader\u001b[0m \u001b[0;34m=\u001b[0m \u001b[0mparsers\u001b[0m\u001b[0;34m.\u001b[0m\u001b[0mTextReader\u001b[0m\u001b[0;34m(\u001b[0m\u001b[0msrc\u001b[0m\u001b[0;34m,\u001b[0m \u001b[0;34m**\u001b[0m\u001b[0mkwds\u001b[0m\u001b[0;34m)\u001b[0m\u001b[0;34m\u001b[0m\u001b[0;34m\u001b[0m\u001b[0m\n\u001b[0m\u001b[1;32m   1918\u001b[0m         \u001b[0mself\u001b[0m\u001b[0;34m.\u001b[0m\u001b[0munnamed_cols\u001b[0m \u001b[0;34m=\u001b[0m \u001b[0mself\u001b[0m\u001b[0;34m.\u001b[0m\u001b[0m_reader\u001b[0m\u001b[0;34m.\u001b[0m\u001b[0munnamed_cols\u001b[0m\u001b[0;34m\u001b[0m\u001b[0;34m\u001b[0m\u001b[0m\n\u001b[1;32m   1919\u001b[0m \u001b[0;34m\u001b[0m\u001b[0m\n",
      "\u001b[0;32mpandas/_libs/parsers.pyx\u001b[0m in \u001b[0;36mpandas._libs.parsers.TextReader.__cinit__\u001b[0;34m()\u001b[0m\n",
      "\u001b[0;32mpandas/_libs/parsers.pyx\u001b[0m in \u001b[0;36mpandas._libs.parsers.TextReader._setup_parser_source\u001b[0;34m()\u001b[0m\n",
      "\u001b[0;31mFileNotFoundError\u001b[0m: [Errno 2] File b'Data Sets/auto-mpg.csv' does not exist: b'Data Sets/auto-mpg.csv'"
     ]
    }
   ],
   "source": [
    "mpg = pa.read_csv('Data Sets/auto-mpg.csv', names=['mpg', 'cylinders', 'displacement', 'horsepower', \n",
    "                                                   'weight', 'acceleration', 'model year', 'origin', 'car name'])\n",
    "mpg.head(10)"
   ]
  },
  {
   "cell_type": "code",
   "execution_count": null,
   "metadata": {},
   "outputs": [],
   "source": [
    "mpg = mpg[mpg.horsepower!='?']\n",
    "mpg.horsepower = mpg.horsepower.astype('int')"
   ]
  },
  {
   "cell_type": "code",
   "execution_count": null,
   "metadata": {},
   "outputs": [],
   "source": [
    "X = np.array(mpg[['horsepower', 'weight']])\n",
    "y = np.array(mpg['mpg'])"
   ]
  },
  {
   "cell_type": "code",
   "execution_count": null,
   "metadata": {},
   "outputs": [],
   "source": [
    "import numpy.random as rn"
   ]
  },
  {
   "cell_type": "markdown",
   "metadata": {},
   "source": [
    "One note here:  I've realized that we probably should be using a different permutation for each run even across multiple models so for this class I have moved the training/testing set division inside of the plot command. This also means that the fit for the model is in there as well. The function now returns the fitted model. "
   ]
  },
  {
   "cell_type": "code",
   "execution_count": null,
   "metadata": {},
   "outputs": [],
   "source": [
    "# A bit of code for plotting the contour in a regression problem with two predictors\n",
    "# Also prints out the training and testing errors\n",
    "\n",
    "def plot_reg_model(reg, X, y):\n",
    "\n",
    "    # We shuffle the data using a random permutation\n",
    "\n",
    "    n = X.shape[0]\n",
    "    test = int(0.20*n)            # We will use a test set made up of 20% of the data from our sample\n",
    "    perm = rn.permutation(n)   \n",
    "    X = X[perm]\n",
    "    y = y[perm]\n",
    "    X_test = X[:test]       # Then create the test\n",
    "    y_test = y[:test]\n",
    "    X_train = X[test:]     # and train sets\n",
    "    y_train = y[test:]\n",
    "    \n",
    "    reg.fit(X_train, y_train) # Fit the model\n",
    "     \n",
    "    nn = 200\n",
    "    # Plot the decision boundary. For that, we will assign a color to each\n",
    "    # point in the mesh [x_min, m_max]x[y_min, y_max].\n",
    "    x_min, x_max = X[:, 0].min()-0.1, X[:, 0].max()+0.1\n",
    "    y_min, y_max = X[:, 1].min()-0.1, X[:, 1].max()+0.1\n",
    "    xx, yy = np.meshgrid(np.linspace(x_min, x_max, nn),   # Changed the function to use linspace rather than arrange\n",
    "        np.linspace(y_min, y_max, nn))                    # This keeps us from having to adjust h.\n",
    "    Z = reg.predict(np.c_[xx.ravel(), yy.ravel()]) # predict\n",
    "\n",
    "    # Put the result into a color plot\n",
    "    Z = Z.reshape(xx.shape)\n",
    "\n",
    "    plt.figure(figsize=(8, 6))\n",
    "    plt.contour(xx, yy, Z)\n",
    "    \n",
    "    plt.scatter(X_train[:, 0], X_train[:, 1], c=y_train, marker='o')\n",
    "    plt.scatter(X_test[:, 0], X_test[:, 1], c=y_test, marker='+');\n",
    "    \n",
    "    print('Training R2: {}'.format(reg.score(X_train, y_train)))\n",
    "    print('Testing R2: {}'.format(reg.score(X_test, y_test)))\n",
    "    \n",
    "    return reg"
   ]
  },
  {
   "cell_type": "markdown",
   "metadata": {},
   "source": [
    "Check how the existing regression algorithms from our toolbox do on this data:"
   ]
  },
  {
   "cell_type": "code",
   "execution_count": null,
   "metadata": {},
   "outputs": [],
   "source": [
    "from sklearn.linear_model import LinearRegression"
   ]
  },
  {
   "cell_type": "code",
   "execution_count": null,
   "metadata": {},
   "outputs": [],
   "source": [
    "reg = LinearRegression()\n",
    "plot_reg_model(reg, X, y)\n",
    "plt.savefig('14.1.png')"
   ]
  },
  {
   "cell_type": "code",
   "execution_count": null,
   "metadata": {},
   "outputs": [],
   "source": [
    "from sklearn.linear_model import Ridge"
   ]
  },
  {
   "cell_type": "code",
   "execution_count": null,
   "metadata": {},
   "outputs": [],
   "source": [
    "reg = Ridge(alpha=2)\n",
    "plot_reg_model(reg, X, y);\n",
    "plt.savefig('14.2.png')"
   ]
  },
  {
   "cell_type": "code",
   "execution_count": null,
   "metadata": {},
   "outputs": [],
   "source": [
    "from sklearn.linear_model import Lasso"
   ]
  },
  {
   "cell_type": "code",
   "execution_count": null,
   "metadata": {},
   "outputs": [],
   "source": [
    "reg=Lasso(alpha=1)\n",
    "plot_reg_model(reg, X, y);\n",
    "plt.savefig('14.3.png')"
   ]
  },
  {
   "cell_type": "markdown",
   "metadata": {},
   "source": [
    "Interestingly we get slightly better performance from Lasso depsite only using two features."
   ]
  },
  {
   "cell_type": "code",
   "execution_count": null,
   "metadata": {},
   "outputs": [],
   "source": [
    "from sklearn.neighbors import KNeighborsRegressor"
   ]
  },
  {
   "cell_type": "code",
   "execution_count": null,
   "metadata": {},
   "outputs": [],
   "source": [
    "knn = KNeighborsRegressor(n_neighbors=13)\n",
    "plot_reg_model(knn, X, y);\n",
    "plt.savefig('14.4.png')"
   ]
  },
  {
   "cell_type": "markdown",
   "metadata": {},
   "source": [
    "### Regression Trees"
   ]
  },
  {
   "cell_type": "code",
   "execution_count": null,
   "metadata": {},
   "outputs": [],
   "source": [
    "from sklearn.tree import DecisionTreeRegressor"
   ]
  },
  {
   "cell_type": "code",
   "execution_count": null,
   "metadata": {},
   "outputs": [],
   "source": [
    "tree = DecisionTreeRegressor(min_samples_leaf=5)\n",
    "plot_reg_model(tree, X, y);\n",
    "plt.savefig('14.5.png')"
   ]
  },
  {
   "cell_type": "markdown",
   "metadata": {},
   "source": [
    "Below are two tricks for thinking about and visualizing Decision Trees. This first is representing it as the actual tree or decision process. The idea is that starting at the top you follow the rules for a particular datapoint until you reach a leaf. The value you assign from the model in each leaf is the mean of the results that are there.\n",
    "\n",
    "The Tree has been built by choosing a split at each point that decreases the Mean Squared Error on the training data in that node (though the objective function can be modified). This tree picture then explains what we are seeing in the contour plot. The region is being divided into rectangular regions and then the value of the result is being estimated by the mean in each region of the training data.\n",
    "\n",
    "The *min_samples_leaf* parameter sets the model to reject any split of a node that would result in fewer than five samples in one of the leaves. This helps smooth the result (and gives a contour plot that is a little cleaerer for this example. Particularly with regression this parameter will help avoid overfitting the tree. \n",
    "\n",
    "Note that the model, while it performed well on the training data did not perform well on the testing data compared with the other models we have for regression."
   ]
  },
  {
   "cell_type": "code",
   "execution_count": null,
   "metadata": {},
   "outputs": [],
   "source": [
    "from sklearn.tree import export_graphviz\n",
    "import graphviz"
   ]
  },
  {
   "cell_type": "code",
   "execution_count": null,
   "metadata": {},
   "outputs": [],
   "source": [
    "export_graphviz(tree, out_file='tree-1.dot', feature_names=['horsepower', 'weight'])\n",
    "\n",
    "with open('tree-1.dot') as f:\n",
    "    dot_graph = f.read()\n",
    "\n",
    "display( graphviz.Source(dot_graph) )"
   ]
  },
  {
   "cell_type": "markdown",
   "metadata": {},
   "source": [
    "### Classification Tree\n",
    "\n",
    "We can use the same idea for classification. We will choose the value or class of a leaf to the be the majority of its members in the training data. We split nodes that will improve the percentage of the training data that is being correctly classified."
   ]
  },
  {
   "cell_type": "code",
   "execution_count": null,
   "metadata": {},
   "outputs": [],
   "source": [
    "# Read in the major league players data set\n",
    "\n",
    "major = pa.read_csv('Data Sets/Major League Height-Weight.csv')   # creates a pandas Dataframe from a .csv file\n",
    "major = major.rename({'Height(inches)':'Height', 'Weight(pounds)':'Weight'}, axis=1)  \n",
    "major = major.drop(640, axis=0) \n",
    "\n",
    "# We are going to make a dictionary of key:value pairs to recode the Position feature to \n",
    "# 'Pitcher' and 'Not Pitcher'\n",
    "\n",
    "pos_dict = {x:1 for x in list(set(major.Position)) if 'Pitcher' in x}\n",
    "pos_dict2 = {x:0 for x in list(set(major.Position)) if not 'Pitcher' in x}\n",
    "\n",
    "# Using dictionary comprehensions\n",
    "\n",
    "pos_dict.update(pos_dict2) # merge the two dictionaries\n",
    "\n",
    "major_2 = major.copy()   # pandas.dataframe is a mutable object so we use the .copy() command \n",
    "                         # otherwise changes to major_2 will change major\n",
    "    \n",
    "major_2.Position = major_2.Position.map(pos_dict)  # use the dictionary we made to recode the values with .map()\n",
    "\n",
    "major_2.head()"
   ]
  },
  {
   "cell_type": "code",
   "execution_count": null,
   "metadata": {},
   "outputs": [],
   "source": [
    "# A bit of code for plotting the decision boundaries in a categorical problem with two predictors and two values for the result\n",
    "# Also prints out the training and testing errors\n",
    "\n",
    "def plot_cat_model(clf, X, y):\n",
    " \n",
    "    # We shuffle the data using a random permutation\n",
    "\n",
    "    n = X.shape[0]\n",
    "    test = int(0.20*n)            # We will use a test set made up of 20% of the data from our sample\n",
    "    perm = rn.permutation(n)   \n",
    "    X = X[perm]\n",
    "    y = y[perm]\n",
    "    X_test = X[:test]       # Then create the test\n",
    "    y_test = y[:test]\n",
    "    X_train = X[test:]     # and train sets\n",
    "    y_train = y[test:]\n",
    "    \n",
    "    clf.fit(X_train, y_train) # Fit the model\n",
    "\n",
    "    nn = 200\n",
    "    # Plot the decision boundary. For that, we will assign a color to each\n",
    "    # point in the mesh [x_min, m_max]x[y_min, y_max].\n",
    "    x_min, x_max = X[:, 0].min() - 1, X[:, 0].max() + 1\n",
    "    y_min, y_max = X[:, 1].min() - 2, X[:, 1].max() + 2\n",
    "    xx, yy = np.meshgrid(np.linspace(x_min, x_max, nn),\n",
    "        np.linspace(y_min, y_max, nn))\n",
    "    \n",
    "    Z = clf.predict(np.c_[xx.ravel(), yy.ravel()])\n",
    "\n",
    "    # Put the result into a color plot\n",
    "    Z = Z.reshape(xx.shape)\n",
    "\n",
    "    plt.figure(figsize=(8, 6))\n",
    "    cmap_light = pltco.ListedColormap(['#FFAAAA', '#AAFFAA'])\n",
    "    cmap_bold = pltco.ListedColormap(['#FF0000', '#00FF00'])\n",
    "    plt.pcolormesh(xx, yy, Z, cmap=cmap_light);\n",
    "\n",
    "    plt.scatter(X_train[:, 0], X_train[:, 1], c=y_train, cmap=cmap_bold,marker='o')\n",
    "    plt.scatter(X_test[:, 0], X_test[:, 1], c=y_test, cmap=cmap_bold, marker='+');\n",
    "    \n",
    "    print('Training Error: {}'.format(clf.score(X_train, y_train)))\n",
    "    print('Testing Error: {}'.format(clf.score(X_test, y_test)))"
   ]
  },
  {
   "cell_type": "code",
   "execution_count": null,
   "metadata": {},
   "outputs": [],
   "source": [
    "X = np.array(major_2[['Height', 'Weight']])\n",
    "y = np.array(major_2['Position'])"
   ]
  },
  {
   "cell_type": "code",
   "execution_count": null,
   "metadata": {},
   "outputs": [],
   "source": [
    "import matplotlib.colors as pltco\n",
    "from sklearn.tree import DecisionTreeClassifier"
   ]
  },
  {
   "cell_type": "code",
   "execution_count": null,
   "metadata": {},
   "outputs": [],
   "source": [
    "tree = DecisionTreeClassifier(min_samples_leaf=5)\n",
    "plot_cat_model(tree, X, y)\n",
    "plt.savefig('14.6.png')"
   ]
  },
  {
   "cell_type": "code",
   "execution_count": null,
   "metadata": {},
   "outputs": [],
   "source": [
    "export_graphviz(tree, out_file='tree-2.dot', class_names = ['Not Pitcher', 'Pitcher'], feature_names=['Height', 'weight'], \n",
    "               impurity=False, proportion=True, filled=True)\n",
    "\n",
    "with open('tree-2.dot') as f:\n",
    "    dot_graph = f.read()\n",
    "\n",
    "display( graphviz.Source(dot_graph) )"
   ]
  },
  {
   "cell_type": "markdown",
   "metadata": {},
   "source": [
    "### High Dimensional Data and Decision Trees\n",
    "\n",
    "Decision trees are especially useful when using many features as they allow us to visualize the algorithm without having to graph it. Here is the house pricing data with a decision tree applied."
   ]
  },
  {
   "cell_type": "code",
   "execution_count": null,
   "metadata": {},
   "outputs": [],
   "source": [
    "# Consider the following dataset about homes that sold in a city in Iowa\n",
    "\n",
    "hd = pa.read_csv('Data Sets/house-prices/train.csv')\n",
    "\n",
    "hd.head()"
   ]
  },
  {
   "cell_type": "code",
   "execution_count": null,
   "metadata": {},
   "outputs": [],
   "source": [
    "def onehot(df, feature):\n",
    "    '''A function to do one-hot-encoding of a feature from a dataframe. df = dataframe'''\n",
    "\n",
    "    v = list(set(df[feature])) # Make an iterable of the unique values for the feature\n",
    "    \n",
    "    for c in df.index: # cycle through the samples\n",
    "        t = df.loc[c, feature]\n",
    "        \n",
    "        for test in v:\n",
    "            if pa.isna(test):  # nan values are sort of a problem and have to be handled separately\n",
    "                if pa.isna(t):\n",
    "                    df.loc[c, '{}_nan'.format(feature)] = 1\n",
    "                else:\n",
    "                    df.loc[c, '{}_nan'.format(feature)] = 0\n",
    "            else:\n",
    "                if t == test:\n",
    "                    df.loc[c, '{}_{}'.format(feature, test)] = 1  # Makes a new feature with name feature_value\n",
    "                                                              # and codes it as a 1 if that was the value\n",
    "                else:\n",
    "                    df.loc[c, '{}_{}'.format(feature, test)] = 0  # and 0 otherwise\n",
    "            \n",
    "    return df.drop(feature, axis=1) # returns a dataframe with the encoded feature removed"
   ]
  },
  {
   "cell_type": "code",
   "execution_count": null,
   "metadata": {},
   "outputs": [],
   "source": [
    "# We can recode it using a dictionary and .map()\n",
    "Street_dict = {'Grvl':0, 'Pave':1, 0:0, 1:1}  \n",
    "# Note we include the trivial coding of the new values as otherwise if we run this twice\n",
    "# it produces NaN values for the Street feature.\n",
    "hd.Street = hd.Street.map(Street_dict)\n",
    "set(hd.Street)"
   ]
  },
  {
   "cell_type": "code",
   "execution_count": null,
   "metadata": {},
   "outputs": [],
   "source": [
    "hd2 = onehot(hd, 'Alley')\n",
    "hd3 = onehot(onehot(onehot(hd2, 'ExterQual'), 'LotShape'), 'LandContour')\n",
    "hd3.head()"
   ]
  },
  {
   "cell_type": "code",
   "execution_count": null,
   "metadata": {},
   "outputs": [],
   "source": [
    "Utilities_dict = {'AllPub':1, 'NoSeWa':0, 1:1, 0:0}\n",
    "hd3.Utilities = hd3.Utilities.map(Utilities_dict)\n",
    "hd3.head()"
   ]
  },
  {
   "cell_type": "code",
   "execution_count": null,
   "metadata": {},
   "outputs": [],
   "source": [
    "hd4 = onehot(onehot(onehot(onehot(hd3, 'LotConfig'), 'LandSlope'), 'Neighborhood'), 'MSZoning')\n",
    "hd4.head()"
   ]
  },
  {
   "cell_type": "code",
   "execution_count": null,
   "metadata": {},
   "outputs": [],
   "source": [
    "def condition(df, feature1, feature2):\n",
    "    \n",
    "    #This is onehot encoding but for features that represent the same things \n",
    "    # - i.e. where a sample could have two values identified.\n",
    "    \n",
    "    v = set(list(set(df[feature1])) + list(set(df[feature2])))  # Build a list of the possible outputs\n",
    "    \n",
    "    for c in df.index: # cycle through the samples\n",
    "        t1 = df.loc[c, feature1]\n",
    "        t2 = df.loc[c, feature2]\n",
    "        \n",
    "        for test in v:\n",
    "            if (t1==test) or (t2==test):\n",
    "                df.loc[c, '{}_{}'.format(feature1, test)] = 1  # Makes a new feature with name feature_value\n",
    "                                                            # and codes it as a 1 if that was the value\n",
    "            else:\n",
    "                df.loc[c, '{}_{}'.format(feature1, test)] = 0  # and 0 otherwise\n",
    "            \n",
    "    return df.drop([feature1, feature2], axis=1) # returns a dataframe with the encoded feature removed"
   ]
  },
  {
   "cell_type": "code",
   "execution_count": null,
   "metadata": {},
   "outputs": [],
   "source": [
    "hd5 = condition(hd4, 'Condition1', 'Condition2')\n",
    "hd5.head()"
   ]
  },
  {
   "cell_type": "code",
   "execution_count": null,
   "metadata": {},
   "outputs": [],
   "source": [
    "hd6 = onehot(onehot(onehot(onehot(hd5, 'BldgType'), 'HouseStyle'), 'RoofStyle'), 'RoofMatl')\n",
    "hd6.iloc[:5, 9:]"
   ]
  },
  {
   "cell_type": "code",
   "execution_count": null,
   "metadata": {},
   "outputs": [],
   "source": [
    "# Probably enough, lets make a list of all of the features that are not 'object'\n",
    "# (i.e. that are numerical)\n",
    "\n",
    "keep = hd6.columns[hd6.dtypes!='object'][1:]\n",
    "keep"
   ]
  },
  {
   "cell_type": "code",
   "execution_count": null,
   "metadata": {},
   "outputs": [],
   "source": [
    "# Check for NaN\n",
    "\n",
    "for v in keep:\n",
    "    if sum(np.isnan(hd6[v]))!=0:\n",
    "        print(v)"
   ]
  },
  {
   "cell_type": "code",
   "execution_count": null,
   "metadata": {},
   "outputs": [],
   "source": [
    "# MasVnrArea and GarageYrBlt that are NaN probably mean 0 (i.e. no Garage and no Masonry)\n",
    "\n",
    "for k in hd6.index:\n",
    "    if np.isnan(hd6.loc[k, 'MasVnrArea']):\n",
    "        hd6.loc[k, 'MasVnrArea']=0\n",
    "    if np.isnan(hd6.loc[k, 'GarageYrBlt']):\n",
    "        hd6.loc[k, 'GarageYrBlt']=0\n"
   ]
  },
  {
   "cell_type": "code",
   "execution_count": null,
   "metadata": {},
   "outputs": [],
   "source": [
    "keep = list(hd6.columns[hd6.dtypes!='object'][1:])\n",
    "keep.remove('LotFrontage')   # There are some NaNs in LotFrontage. We could try to fill them in with a regression.\n",
    "                             # Or we might check with a content expert and see if they should be 0\n",
    "hd7 = hd6.loc[:, keep]\n",
    "hd7.head()"
   ]
  },
  {
   "cell_type": "code",
   "execution_count": null,
   "metadata": {},
   "outputs": [],
   "source": [
    "# Convert them to Numpy Arrays X for predictors and y for result\n",
    "\n",
    "keep.remove('SalePrice')\n",
    "X = np.array(hd7.loc[:, keep])\n",
    "y = np.array(hd7.loc[:, 'SalePrice'])\n",
    "\n",
    "n = X.shape[0]\n",
    "test = int(0.20*n)            # We will use a test set made up of 20% of the data from our sample\n",
    "perm = rn.permutation(n)   \n",
    "X = X[perm]\n",
    "y = y[perm]\n",
    "X_test = X[:test]       # Then create the test\n",
    "y_test = y[:test]\n",
    "X_train = X[test:]     # and train sets\n",
    "y_train = y[test:]"
   ]
  },
  {
   "cell_type": "code",
   "execution_count": null,
   "metadata": {},
   "outputs": [],
   "source": [
    "tree = DecisionTreeRegressor(min_samples_leaf=5)\n",
    "tree.fit(X_train, y_train)\n",
    "tree.score(X_train, y_train), tree.score(X_test, y_test)"
   ]
  },
  {
   "cell_type": "code",
   "execution_count": null,
   "metadata": {},
   "outputs": [],
   "source": [
    "export_graphviz(tree, out_file='tree-3.dot', feature_names=keep)\n",
    "\n",
    "with open('tree-3.dot') as f:\n",
    "    dot_graph = f.read()\n",
    "\n",
    "display( graphviz.Source(dot_graph) )"
   ]
  },
  {
   "cell_type": "markdown",
   "metadata": {},
   "source": [
    "One of the big uses I have found for decsion trees and related algorithms is in helping to identify features that are important in the regression or classification. Here is a short code snippet for producing a graph of the features by importance."
   ]
  },
  {
   "cell_type": "code",
   "execution_count": null,
   "metadata": {},
   "outputs": [],
   "source": [
    "def plot_feature_importances(model, names, tol=10**-3):\n",
    "    n_features = len(names)\n",
    "    plot_names = []\n",
    "    plot_importances = []\n",
    "    \n",
    "    for k in range(n_features):\n",
    "        if model.feature_importances_[k] > tol:\n",
    "            plot_names += [ names[k] ]\n",
    "            plot_importances += [ model.feature_importances_[k] ]\n",
    "    \n",
    "    n_plot = len(plot_names)\n",
    "    \n",
    "    plt.figure(figsize = (10, 6))\n",
    "    plt.barh(range(n_plot), plot_importances, align = 'center')\n",
    "    plt.yticks(np.arange(n_plot), plot_names)\n",
    "    plt.xlabel('Feature importance')\n",
    "    plt.ylabel('Feature')\n",
    "    plt.ylim(-1, n_plot)"
   ]
  },
  {
   "cell_type": "code",
   "execution_count": null,
   "metadata": {},
   "outputs": [],
   "source": [
    "plot_feature_importances(tree, keep)\n",
    "plt.savefig('14.7.png')"
   ]
  },
  {
   "cell_type": "markdown",
   "metadata": {},
   "source": [
    "For this model, we see that most features ended up being unimportant. It suggests it would be worth retaining the model using only the ones that were captured as important."
   ]
  },
  {
   "cell_type": "code",
   "execution_count": null,
   "metadata": {},
   "outputs": [],
   "source": [
    "\n",
    "C, B, A = np.sort(tree.feature_importances_)[-3:] \n",
    "# numpy.sort is a convenient way to get the smallest values (or largest values) from an array\n",
    "d1, d2, d3 = (np.where(tree.feature_importances_==A)[0][0], np.where(tree.feature_importances_==B)[0][0], \n",
    "              np.where(tree.feature_importances_==C)[0][0])\n",
    "# nump.where(s==A) tells us for which index s gives A.\n",
    "# we should automate the process of checking that they are far apart from each other, \n",
    "# however given the shape of the graph, I am confident they will be.\n",
    "\n",
    "keep[d1], keep[d2], keep[d3]"
   ]
  },
  {
   "cell_type": "markdown",
   "metadata": {},
   "source": [
    "### Discussion of Decision Tree Algorithms\n",
    "\n",
    "Those of you taking the *Graph Theory Course* or the *Algorithms Course* have seen trees before. Note that the decision trees here are a subset of the trees you could build by dividing the samples by splitting until you reach leaves with less than 10 nodes. The subset is much smaller because the splitting has to preserve samples that are close in the feature coordinates being used, however for even a moderatley big dataset it will still be to large to effectively search all possible decision trees for the one that performs the best.\n",
    "\n",
    "So how does the algorithm find the tree from the training data?  It does two tricks to improve the speed over the naive pure search. First we will use a *Greedy* algorithm to grow the tree from one node to several. The second trick is needed if the number of features is large, as this also affects the number of choices the algorithm will have. So instead of considering the best split from all possible features, the algorithm at each step will take a random subset of the features and determine the best split from them.\n",
    "\n",
    "A *Greedy* algorithm is one that makes the best choice for the next step. It is Greedy in the sense that it might overlook choices for the split at the current step that would lead to a better tree later in the process.  In the *Algorithms Course* you saw a number of *Greedy* algorithms in the context of problems that required us to search trees and graphs, the classic one being the Traveling Salesmen problem. The *Greedy* solution to the traveling salesmen problem chooses for its next trip the cheapest (or shortest) edge from its current node.\n",
    "\n",
    "We can get a sense of how a Decision Tree grows by restricting the number of levels (height) with the *max_depth* parameter and setting the random seed with *random_state*. We need to set the random seed because otherwise the randomness in the algorithm will generate a different tree each time."
   ]
  },
  {
   "cell_type": "code",
   "execution_count": null,
   "metadata": {},
   "outputs": [],
   "source": [
    "tree = DecisionTreeRegressor(min_samples_leaf=5, max_depth=1, random_state=123)\n",
    "tree.fit(X_train, y_train)\n",
    "tree.score(X_train, y_train), tree.score(X_test, y_test)"
   ]
  },
  {
   "cell_type": "code",
   "execution_count": null,
   "metadata": {},
   "outputs": [],
   "source": [
    "export_graphviz(tree, out_file='tree-4.dot', feature_names=keep)\n",
    "\n",
    "with open('tree-4.dot') as f:\n",
    "    dot_graph = f.read()\n",
    "\n",
    "display( graphviz.Source(dot_graph) )"
   ]
  },
  {
   "cell_type": "code",
   "execution_count": null,
   "metadata": {},
   "outputs": [],
   "source": [
    "tree = DecisionTreeRegressor(min_samples_leaf=5, max_depth=2, random_state=123)\n",
    "tree.fit(X_train, y_train)\n",
    "tree.score(X_train, y_train), tree.score(X_test, y_test)"
   ]
  },
  {
   "cell_type": "code",
   "execution_count": null,
   "metadata": {},
   "outputs": [],
   "source": [
    "export_graphviz(tree, out_file='tree-5.dot', feature_names=keep)\n",
    "\n",
    "with open('tree-5.dot') as f:\n",
    "    dot_graph = f.read()\n",
    "\n",
    "display( graphviz.Source(dot_graph) )"
   ]
  },
  {
   "cell_type": "code",
   "execution_count": null,
   "metadata": {},
   "outputs": [],
   "source": [
    "tree = DecisionTreeRegressor(min_samples_leaf=5, max_depth=3, random_state=123)\n",
    "tree.fit(X_train, y_train)\n",
    "tree.score(X_train, y_train), tree.score(X_test, y_test)"
   ]
  },
  {
   "cell_type": "code",
   "execution_count": null,
   "metadata": {},
   "outputs": [],
   "source": [
    "export_graphviz(tree, out_file='tree-6.dot', feature_names=keep)\n",
    "\n",
    "with open('tree-6.dot') as f:\n",
    "    dot_graph = f.read()\n",
    "\n",
    "display( graphviz.Source(dot_graph) )"
   ]
  },
  {
   "cell_type": "markdown",
   "metadata": {},
   "source": [
    "Or in the case of classification."
   ]
  },
  {
   "cell_type": "code",
   "execution_count": null,
   "metadata": {},
   "outputs": [],
   "source": [
    "X = np.array(major_2[['Height', 'Weight']])\n",
    "y = np.array(major_2['Position'])"
   ]
  },
  {
   "cell_type": "code",
   "execution_count": null,
   "metadata": {},
   "outputs": [],
   "source": [
    "tree = DecisionTreeClassifier(min_samples_leaf=5, max_depth=1, random_state=123)\n",
    "plot_cat_model(tree, X, y)\n",
    "plt.savefig('14.8.png')"
   ]
  },
  {
   "cell_type": "code",
   "execution_count": null,
   "metadata": {},
   "outputs": [],
   "source": [
    "tree = DecisionTreeClassifier(min_samples_leaf=5, max_depth=2, random_state=123)\n",
    "plot_cat_model(tree, X, y)\n",
    "plt.savefig('14.9.png')"
   ]
  },
  {
   "cell_type": "code",
   "execution_count": null,
   "metadata": {},
   "outputs": [],
   "source": [
    "export_graphviz(tree, out_file='tree-7.dot', class_names = ['Not Pitcher', 'Pitcher'], feature_names=['Height', 'weight'], \n",
    "               impurity=False, proportion=True, filled=True)\n",
    "\n",
    "with open('tree-7.dot') as f:\n",
    "    dot_graph = f.read()\n",
    "\n",
    "display( graphviz.Source(dot_graph) )"
   ]
  },
  {
   "cell_type": "markdown",
   "metadata": {},
   "source": [
    "This turns out to be a nice example, because notice at this level the splits it has selected did not actually change the prediction, but what they did do was improve the quality of some of the classes. There are different objective functions one could use for this splitting, they are listed as defaults in the function help page."
   ]
  },
  {
   "cell_type": "code",
   "execution_count": null,
   "metadata": {},
   "outputs": [],
   "source": [
    "tree = DecisionTreeClassifier(min_samples_leaf=5, max_depth=3, random_state=123)\n",
    "plot_cat_model(tree, X, y)\n",
    "plt.savefig('14.10.png')"
   ]
  },
  {
   "cell_type": "code",
   "execution_count": null,
   "metadata": {},
   "outputs": [],
   "source": [
    "export_graphviz(tree, out_file='tree-8.dot', class_names = ['Not Pitcher', 'Pitcher'], feature_names=['Height', 'weight'], \n",
    "               impurity=False, proportion=True, filled=True)\n",
    "\n",
    "with open('tree-8.dot') as f:\n",
    "    dot_graph = f.read()\n",
    "\n",
    "display( graphviz.Source(dot_graph) )"
   ]
  },
  {
   "cell_type": "markdown",
   "metadata": {},
   "source": [
    "Notice at this level only one subclass has appeared (and hence one new rectangle in the region plot."
   ]
  },
  {
   "cell_type": "markdown",
   "metadata": {},
   "source": [
    "## Extensions of Trees\n",
    "\n",
    "While decision trees are nice in terms of explaining a result, they do not typically perform all that well on testing data. However a couple of generalizations will do a good job of helping decision trees relax on the training data and avoid overfitting which will improve performance on testing data. The result will be a loss of the interpretative power of the algorithm.\n",
    "\n",
    "### Boosting\n",
    "\n",
    "The first extension is called *Boosting*. Boosting applies successive trees to the errors between the current model and a subset of the training data. This is our first example of an *Ensemble* model that uses combinations (in the case of Boosting, linear combinations) of models. This results in models that have:\n",
    "\n",
    "- a number of tuning parameters: giving us the ability to identify the best model for a dataset\n",
    "- applying randomness to smooth out variations\n",
    "- overall a model that retains some flexibility of the component models, but has also been smoothed.\n"
   ]
  },
  {
   "cell_type": "code",
   "execution_count": 183,
   "metadata": {},
   "outputs": [],
   "source": [
    "from sklearn.ensemble import GradientBoostingRegressor"
   ]
  },
  {
   "cell_type": "code",
   "execution_count": 184,
   "metadata": {},
   "outputs": [],
   "source": [
    "# Convert them to Numpy Arrays X for predictors and y for result\n",
    "\n",
    "X = np.array(hd7.loc[:, keep])\n",
    "y = np.array(hd7.loc[:, 'SalePrice'])\n",
    "\n",
    "n = X.shape[0]\n",
    "test = int(0.20*n)            # We will use a test set made up of 20% of the data from our sample\n",
    "perm = rn.permutation(n)   \n",
    "X = X[perm]\n",
    "y = y[perm]\n",
    "X_test = X[:test]       # Then create the test\n",
    "y_test = y[:test]\n",
    "X_train = X[test:]     # and train sets\n",
    "y_train = y[test:]"
   ]
  },
  {
   "cell_type": "code",
   "execution_count": 185,
   "metadata": {},
   "outputs": [
    {
     "data": {
      "text/plain": [
       "(0.9669936852996642, 0.820635365251239)"
      ]
     },
     "execution_count": 185,
     "metadata": {},
     "output_type": "execute_result"
    }
   ],
   "source": [
    "reg = GradientBoostingRegressor(n_estimators=100, learning_rate=0.1)\n",
    "reg.fit(X_train, y_train)\n",
    "reg.score(X_train, y_train), reg.score(X_test, y_test)"
   ]
  },
  {
   "cell_type": "markdown",
   "metadata": {},
   "source": [
    "Of course a big question becomes, what is the right choice of the various parameters. Let's use cross validation to choose the right value of *learning_rate*; note that the Ensemble method itself uses a form of bootstrapping/cross validation in that it trains the boosted trees at each step on a random sample of the training data."
   ]
  },
  {
   "cell_type": "code",
   "execution_count": 186,
   "metadata": {},
   "outputs": [
    {
     "data": {
      "text/html": [
       "<div>\n",
       "<style scoped>\n",
       "    .dataframe tbody tr th:only-of-type {\n",
       "        vertical-align: middle;\n",
       "    }\n",
       "\n",
       "    .dataframe tbody tr th {\n",
       "        vertical-align: top;\n",
       "    }\n",
       "\n",
       "    .dataframe thead th {\n",
       "        text-align: right;\n",
       "    }\n",
       "</style>\n",
       "<table border=\"1\" class=\"dataframe\">\n",
       "  <thead>\n",
       "    <tr style=\"text-align: right;\">\n",
       "      <th></th>\n",
       "      <th>train_0</th>\n",
       "      <th>test_0</th>\n",
       "      <th>train_1</th>\n",
       "      <th>test_1</th>\n",
       "      <th>train_2</th>\n",
       "      <th>test_2</th>\n",
       "      <th>train_3</th>\n",
       "      <th>test_3</th>\n",
       "      <th>train_4</th>\n",
       "      <th>test_4</th>\n",
       "      <th>...</th>\n",
       "      <th>train_20</th>\n",
       "      <th>test_20</th>\n",
       "      <th>train_21</th>\n",
       "      <th>test_21</th>\n",
       "      <th>train_22</th>\n",
       "      <th>test_22</th>\n",
       "      <th>train_23</th>\n",
       "      <th>test_23</th>\n",
       "      <th>train_24</th>\n",
       "      <th>test_24</th>\n",
       "    </tr>\n",
       "  </thead>\n",
       "  <tbody>\n",
       "    <tr>\n",
       "      <td>0</td>\n",
       "      <td>0.707382</td>\n",
       "      <td>0.676637</td>\n",
       "      <td>0.922481</td>\n",
       "      <td>0.871304</td>\n",
       "      <td>0.950779</td>\n",
       "      <td>0.889662</td>\n",
       "      <td>0.960931</td>\n",
       "      <td>0.897842</td>\n",
       "      <td>0.965577</td>\n",
       "      <td>0.897137</td>\n",
       "      <td>...</td>\n",
       "      <td>0.991123</td>\n",
       "      <td>0.872184</td>\n",
       "      <td>0.991212</td>\n",
       "      <td>0.879069</td>\n",
       "      <td>0.993060</td>\n",
       "      <td>0.863578</td>\n",
       "      <td>0.992931</td>\n",
       "      <td>0.875422</td>\n",
       "      <td>0.992713</td>\n",
       "      <td>0.878765</td>\n",
       "    </tr>\n",
       "    <tr>\n",
       "      <td>1</td>\n",
       "      <td>0.707704</td>\n",
       "      <td>0.630357</td>\n",
       "      <td>0.921225</td>\n",
       "      <td>0.815680</td>\n",
       "      <td>0.951237</td>\n",
       "      <td>0.837151</td>\n",
       "      <td>0.960074</td>\n",
       "      <td>0.839635</td>\n",
       "      <td>0.966350</td>\n",
       "      <td>0.853936</td>\n",
       "      <td>...</td>\n",
       "      <td>0.991466</td>\n",
       "      <td>0.854575</td>\n",
       "      <td>0.991156</td>\n",
       "      <td>0.824914</td>\n",
       "      <td>0.991297</td>\n",
       "      <td>0.827704</td>\n",
       "      <td>0.991610</td>\n",
       "      <td>0.820427</td>\n",
       "      <td>0.992225</td>\n",
       "      <td>0.840474</td>\n",
       "    </tr>\n",
       "    <tr>\n",
       "      <td>2</td>\n",
       "      <td>0.697350</td>\n",
       "      <td>0.678079</td>\n",
       "      <td>0.915217</td>\n",
       "      <td>0.870622</td>\n",
       "      <td>0.947065</td>\n",
       "      <td>0.894926</td>\n",
       "      <td>0.957823</td>\n",
       "      <td>0.904107</td>\n",
       "      <td>0.963999</td>\n",
       "      <td>0.904733</td>\n",
       "      <td>...</td>\n",
       "      <td>0.990421</td>\n",
       "      <td>0.900892</td>\n",
       "      <td>0.990379</td>\n",
       "      <td>0.895271</td>\n",
       "      <td>0.990609</td>\n",
       "      <td>0.881612</td>\n",
       "      <td>0.991684</td>\n",
       "      <td>0.884510</td>\n",
       "      <td>0.991380</td>\n",
       "      <td>0.888234</td>\n",
       "    </tr>\n",
       "    <tr>\n",
       "      <td>3</td>\n",
       "      <td>0.704397</td>\n",
       "      <td>0.654268</td>\n",
       "      <td>0.918301</td>\n",
       "      <td>0.860254</td>\n",
       "      <td>0.948063</td>\n",
       "      <td>0.889828</td>\n",
       "      <td>0.957807</td>\n",
       "      <td>0.891822</td>\n",
       "      <td>0.963012</td>\n",
       "      <td>0.901399</td>\n",
       "      <td>...</td>\n",
       "      <td>0.990842</td>\n",
       "      <td>0.898286</td>\n",
       "      <td>0.991230</td>\n",
       "      <td>0.871729</td>\n",
       "      <td>0.991355</td>\n",
       "      <td>0.880042</td>\n",
       "      <td>0.992422</td>\n",
       "      <td>0.870430</td>\n",
       "      <td>0.992372</td>\n",
       "      <td>0.881311</td>\n",
       "    </tr>\n",
       "    <tr>\n",
       "      <td>4</td>\n",
       "      <td>0.707690</td>\n",
       "      <td>0.666489</td>\n",
       "      <td>0.920472</td>\n",
       "      <td>0.860037</td>\n",
       "      <td>0.949732</td>\n",
       "      <td>0.879365</td>\n",
       "      <td>0.957564</td>\n",
       "      <td>0.896262</td>\n",
       "      <td>0.963938</td>\n",
       "      <td>0.886416</td>\n",
       "      <td>...</td>\n",
       "      <td>0.990247</td>\n",
       "      <td>0.880887</td>\n",
       "      <td>0.991117</td>\n",
       "      <td>0.848389</td>\n",
       "      <td>0.991931</td>\n",
       "      <td>0.818972</td>\n",
       "      <td>0.992651</td>\n",
       "      <td>0.880965</td>\n",
       "      <td>0.992985</td>\n",
       "      <td>0.858681</td>\n",
       "    </tr>\n",
       "    <tr>\n",
       "      <td>Mean</td>\n",
       "      <td>0.704905</td>\n",
       "      <td>0.661166</td>\n",
       "      <td>0.919539</td>\n",
       "      <td>0.855579</td>\n",
       "      <td>0.949375</td>\n",
       "      <td>0.878186</td>\n",
       "      <td>0.958840</td>\n",
       "      <td>0.885934</td>\n",
       "      <td>0.964575</td>\n",
       "      <td>0.888724</td>\n",
       "      <td>...</td>\n",
       "      <td>0.990820</td>\n",
       "      <td>0.881365</td>\n",
       "      <td>0.991019</td>\n",
       "      <td>0.863874</td>\n",
       "      <td>0.991650</td>\n",
       "      <td>0.854381</td>\n",
       "      <td>0.992260</td>\n",
       "      <td>0.866351</td>\n",
       "      <td>0.992335</td>\n",
       "      <td>0.869493</td>\n",
       "    </tr>\n",
       "    <tr>\n",
       "      <td>Standard Deviation</td>\n",
       "      <td>0.003976</td>\n",
       "      <td>0.017610</td>\n",
       "      <td>0.002553</td>\n",
       "      <td>0.020529</td>\n",
       "      <td>0.001589</td>\n",
       "      <td>0.021131</td>\n",
       "      <td>0.001387</td>\n",
       "      <td>0.023482</td>\n",
       "      <td>0.001211</td>\n",
       "      <td>0.018457</td>\n",
       "      <td>...</td>\n",
       "      <td>0.000446</td>\n",
       "      <td>0.017145</td>\n",
       "      <td>0.000322</td>\n",
       "      <td>0.024642</td>\n",
       "      <td>0.000820</td>\n",
       "      <td>0.026268</td>\n",
       "      <td>0.000526</td>\n",
       "      <td>0.023457</td>\n",
       "      <td>0.000546</td>\n",
       "      <td>0.017526</td>\n",
       "    </tr>\n",
       "  </tbody>\n",
       "</table>\n",
       "<p>7 rows × 50 columns</p>\n",
       "</div>"
      ],
      "text/plain": [
       "                     train_0    test_0   train_1    test_1   train_2  \\\n",
       "0                   0.707382  0.676637  0.922481  0.871304  0.950779   \n",
       "1                   0.707704  0.630357  0.921225  0.815680  0.951237   \n",
       "2                   0.697350  0.678079  0.915217  0.870622  0.947065   \n",
       "3                   0.704397  0.654268  0.918301  0.860254  0.948063   \n",
       "4                   0.707690  0.666489  0.920472  0.860037  0.949732   \n",
       "Mean                0.704905  0.661166  0.919539  0.855579  0.949375   \n",
       "Standard Deviation  0.003976  0.017610  0.002553  0.020529  0.001589   \n",
       "\n",
       "                      test_2   train_3    test_3   train_4    test_4  ...  \\\n",
       "0                   0.889662  0.960931  0.897842  0.965577  0.897137  ...   \n",
       "1                   0.837151  0.960074  0.839635  0.966350  0.853936  ...   \n",
       "2                   0.894926  0.957823  0.904107  0.963999  0.904733  ...   \n",
       "3                   0.889828  0.957807  0.891822  0.963012  0.901399  ...   \n",
       "4                   0.879365  0.957564  0.896262  0.963938  0.886416  ...   \n",
       "Mean                0.878186  0.958840  0.885934  0.964575  0.888724  ...   \n",
       "Standard Deviation  0.021131  0.001387  0.023482  0.001211  0.018457  ...   \n",
       "\n",
       "                    train_20   test_20  train_21   test_21  train_22  \\\n",
       "0                   0.991123  0.872184  0.991212  0.879069  0.993060   \n",
       "1                   0.991466  0.854575  0.991156  0.824914  0.991297   \n",
       "2                   0.990421  0.900892  0.990379  0.895271  0.990609   \n",
       "3                   0.990842  0.898286  0.991230  0.871729  0.991355   \n",
       "4                   0.990247  0.880887  0.991117  0.848389  0.991931   \n",
       "Mean                0.990820  0.881365  0.991019  0.863874  0.991650   \n",
       "Standard Deviation  0.000446  0.017145  0.000322  0.024642  0.000820   \n",
       "\n",
       "                     test_22  train_23   test_23  train_24   test_24  \n",
       "0                   0.863578  0.992931  0.875422  0.992713  0.878765  \n",
       "1                   0.827704  0.991610  0.820427  0.992225  0.840474  \n",
       "2                   0.881612  0.991684  0.884510  0.991380  0.888234  \n",
       "3                   0.880042  0.992422  0.870430  0.992372  0.881311  \n",
       "4                   0.818972  0.992651  0.880965  0.992985  0.858681  \n",
       "Mean                0.854381  0.992260  0.866351  0.992335  0.869493  \n",
       "Standard Deviation  0.026268  0.000526  0.023457  0.000546  0.017526  \n",
       "\n",
       "[7 rows x 50 columns]"
      ]
     },
     "execution_count": 186,
     "metadata": {},
     "output_type": "execute_result"
    }
   ],
   "source": [
    "# We shuffle the data using a random permutation\n",
    "\n",
    "n = X.shape[0]\n",
    "test = int(0.20*n)            # We will use a test set made up of 20% of the data from our sample\n",
    "perm = rn.permutation(n)   \n",
    "X = X[perm]\n",
    "y = y[perm]\n",
    "\n",
    "tests = 25\n",
    "a = np.linspace(0.01, 0.5, tests)\n",
    "\n",
    "names1 = [ 'train_{}'.format(x) for x in range(tests)]\n",
    "names2 = [ 'test_{}'.format(x) for x in range(tests)]\n",
    "names = []\n",
    "for c in range(tests):\n",
    "    names += [names1[c], names2[c]]\n",
    "\n",
    "\n",
    "R2 = pa.DataFrame( np.array([ [0]*5 ]*2*tests).transpose(), columns = names)\n",
    "# Making a DataFrame to record the R2 values in\n",
    "\n",
    "for k in range(5):\n",
    "    X_test = X[k*test:(k+1)*test]       # Then create the test\n",
    "    y_test = y[k*test:(k+1)*test]\n",
    "    X_train = np.concatenate( (X[:k*test], X[(k+1)*test:]), axis=0)     # and train sets\n",
    "    y_train = np.concatenate( (y[:k*test], y[(k+1)*test:]), axis=0)\n",
    "\n",
    "    for c in range(tests):\n",
    "        reg = GradientBoostingRegressor(n_estimators=100, learning_rate=a[c]).fit(X_train, y_train)\n",
    "        R2.iloc[k, 2*c] = reg.score(X_train, y_train)\n",
    "        R2.iloc[k, 2*c+1] = reg.score(X_test, y_test)\n",
    "\n",
    "R2mean = [0]*2*tests\n",
    "R2std = [0]*2*tests\n",
    "for c in range(2*tests):\n",
    "    R2mean[c] = np.mean(R2.iloc[0:5, c])\n",
    "    R2std[c] = np.std(R2.iloc[0:5, c])\n",
    "    \n",
    "R2 = R2.append( pa.Series(R2mean, index=R2.columns), ignore_index=True )\n",
    "R2 = R2.append( pa.Series(R2std, index=R2.columns), ignore_index=True)\n",
    "R2.index = [0, 1, 2, 3, 4, 'Mean', 'Standard Deviation']\n",
    "R2"
   ]
  },
  {
   "cell_type": "code",
   "execution_count": 187,
   "metadata": {},
   "outputs": [
    {
     "data": {
      "image/png": "[encoded data removed]",
      "text/plain": [
       "<Figure size 432x288 with 1 Axes>"
      ]
     },
     "metadata": {
      "needs_background": "light"
     },
     "output_type": "display_data"
    }
   ],
   "source": [
    "plt.plot(a, R2mean[::2], 'b-')\n",
    "plt.plot(a, R2mean[1::2], 'r-')\n",
    "plt.savefig('14.11.png')"
   ]
  },
  {
   "cell_type": "markdown",
   "metadata": {},
   "source": [
    "Using this we make the best decsion we can from the experiments and then use the entire dataset to fit the model. We can then ask what were the important features used in the model."
   ]
  },
  {
   "cell_type": "code",
   "execution_count": 188,
   "metadata": {},
   "outputs": [
    {
     "data": {
      "image/png": "[encoded data removed]",
      "text/plain": [
       "<Figure size 720x432 with 1 Axes>"
      ]
     },
     "metadata": {
      "needs_background": "light"
     },
     "output_type": "display_data"
    }
   ],
   "source": [
    "reg = GradientBoostingRegressor(n_estimators=100, learning_rate= 0.2).fit(X, y)\n",
    "plot_feature_importances(reg, keep)\n",
    "plt.savefig('14.12.png')"
   ]
  },
  {
   "cell_type": "markdown",
   "metadata": {},
   "source": [
    "### Random Forests\n",
    "\n",
    "In contrast to *Boosting* where the model is built sequentially, *Random Forests* are a type of Ensemble model where individual models are trained on samples of the training data, and are then allowed to vote to give a prediction. The weights of the votes are trained on the full set of training data. This again improves the predictive capability of *Decision Trees* by introducing randomness and some additional tuning parameters into the problem. "
   ]
  },
  {
   "cell_type": "code",
   "execution_count": 189,
   "metadata": {},
   "outputs": [],
   "source": [
    "from sklearn.ensemble import RandomForestClassifier"
   ]
  },
  {
   "cell_type": "code",
   "execution_count": 190,
   "metadata": {},
   "outputs": [],
   "source": [
    "X = np.array(major_2[['Height', 'Weight']])\n",
    "y = np.array(major_2['Position'])"
   ]
  },
  {
   "cell_type": "code",
   "execution_count": 191,
   "metadata": {},
   "outputs": [
    {
     "name": "stdout",
     "output_type": "stream",
     "text": [
      "Training Error: 0.7678355501813785\n",
      "Testing Error: 0.6019417475728155\n"
     ]
    },
    {
     "data": {
      "image/png": "[encoded data removed]",
      "text/plain": [
       "<Figure size 576x432 with 1 Axes>"
      ]
     },
     "metadata": {
      "needs_background": "light"
     },
     "output_type": "display_data"
    }
   ],
   "source": [
    "clf = RandomForestClassifier(n_estimators=10, n_jobs=-1) \n",
    "plot_cat_model(clf, X, y)\n",
    "plt.savefig('14.13.png')"
   ]
  },
  {
   "cell_type": "markdown",
   "metadata": {},
   "source": [
    "Note that because the trees in the forest are built on random samples of the training data, they can be built simmultaneously. Thus the algorithm is parallizable, the *n_jobs* parameter specifics the number of cores to use and -1 means uses all available. The *Boosting* algorithms on the other hand build the next tree based on the results of the previous one and so are not parallizable.\n",
    "\n",
    "Here we see some evidence of overfitting. To address this we need to adjust the parameters in the model. There is the *n_estimators* controlling the number of trees, and then there are the same parameters as for trees that control the size and behavior of the individual decision trees."
   ]
  },
  {
   "cell_type": "code",
   "execution_count": 192,
   "metadata": {},
   "outputs": [
    {
     "name": "stdout",
     "output_type": "stream",
     "text": [
      "Training Error: 0.750906892382104\n",
      "Testing Error: 0.6262135922330098\n"
     ]
    },
    {
     "data": {
      "image/png": "[encoded data removed]",
      "text/plain": [
       "<Figure size 576x432 with 1 Axes>"
      ]
     },
     "metadata": {
      "needs_background": "light"
     },
     "output_type": "display_data"
    }
   ],
   "source": [
    "clf = RandomForestClassifier(n_estimators=20, min_samples_split=10, n_jobs=-1) \n",
    "plot_cat_model(clf, X, y)\n",
    "plt.savefig('14.14.png')"
   ]
  },
  {
   "cell_type": "code",
   "execution_count": 193,
   "metadata": {},
   "outputs": [
    {
     "name": "stdout",
     "output_type": "stream",
     "text": [
      "Training Error: 0.6553808948004837\n",
      "Testing Error: 0.6650485436893204\n"
     ]
    },
    {
     "data": {
      "image/png": "[encoded data removed]",
      "text/plain": [
       "<Figure size 576x432 with 1 Axes>"
      ]
     },
     "metadata": {
      "needs_background": "light"
     },
     "output_type": "display_data"
    }
   ],
   "source": [
    "clf = RandomForestClassifier(n_estimators=50, max_depth=3, n_jobs=-1) \n",
    "plot_cat_model(clf, X, y)\n",
    "plt.savefig('14.15.png')"
   ]
  },
  {
   "cell_type": "markdown",
   "metadata": {},
   "source": [
    "### Another Classification Example with more Features"
   ]
  },
  {
   "cell_type": "code",
   "execution_count": 194,
   "metadata": {},
   "outputs": [
    {
     "data": {
      "text/html": [
       "<div>\n",
       "<style scoped>\n",
       "    .dataframe tbody tr th:only-of-type {\n",
       "        vertical-align: middle;\n",
       "    }\n",
       "\n",
       "    .dataframe tbody tr th {\n",
       "        vertical-align: top;\n",
       "    }\n",
       "\n",
       "    .dataframe thead th {\n",
       "        text-align: right;\n",
       "    }\n",
       "</style>\n",
       "<table border=\"1\" class=\"dataframe\">\n",
       "  <thead>\n",
       "    <tr style=\"text-align: right;\">\n",
       "      <th></th>\n",
       "      <th>Sex</th>\n",
       "      <th>Length</th>\n",
       "      <th>Diameter</th>\n",
       "      <th>Height</th>\n",
       "      <th>Whole_Weight</th>\n",
       "      <th>Shucked_Weight</th>\n",
       "      <th>Viscera_Weight</th>\n",
       "      <th>Shell_Weight</th>\n",
       "      <th>Rings</th>\n",
       "    </tr>\n",
       "  </thead>\n",
       "  <tbody>\n",
       "    <tr>\n",
       "      <td>0</td>\n",
       "      <td>M</td>\n",
       "      <td>0.455</td>\n",
       "      <td>0.365</td>\n",
       "      <td>0.095</td>\n",
       "      <td>0.5140</td>\n",
       "      <td>0.2245</td>\n",
       "      <td>0.1010</td>\n",
       "      <td>0.150</td>\n",
       "      <td>15</td>\n",
       "    </tr>\n",
       "    <tr>\n",
       "      <td>1</td>\n",
       "      <td>M</td>\n",
       "      <td>0.350</td>\n",
       "      <td>0.265</td>\n",
       "      <td>0.090</td>\n",
       "      <td>0.2255</td>\n",
       "      <td>0.0995</td>\n",
       "      <td>0.0485</td>\n",
       "      <td>0.070</td>\n",
       "      <td>7</td>\n",
       "    </tr>\n",
       "    <tr>\n",
       "      <td>2</td>\n",
       "      <td>F</td>\n",
       "      <td>0.530</td>\n",
       "      <td>0.420</td>\n",
       "      <td>0.135</td>\n",
       "      <td>0.6770</td>\n",
       "      <td>0.2565</td>\n",
       "      <td>0.1415</td>\n",
       "      <td>0.210</td>\n",
       "      <td>9</td>\n",
       "    </tr>\n",
       "    <tr>\n",
       "      <td>3</td>\n",
       "      <td>M</td>\n",
       "      <td>0.440</td>\n",
       "      <td>0.365</td>\n",
       "      <td>0.125</td>\n",
       "      <td>0.5160</td>\n",
       "      <td>0.2155</td>\n",
       "      <td>0.1140</td>\n",
       "      <td>0.155</td>\n",
       "      <td>10</td>\n",
       "    </tr>\n",
       "    <tr>\n",
       "      <td>4</td>\n",
       "      <td>I</td>\n",
       "      <td>0.330</td>\n",
       "      <td>0.255</td>\n",
       "      <td>0.080</td>\n",
       "      <td>0.2050</td>\n",
       "      <td>0.0895</td>\n",
       "      <td>0.0395</td>\n",
       "      <td>0.055</td>\n",
       "      <td>7</td>\n",
       "    </tr>\n",
       "  </tbody>\n",
       "</table>\n",
       "</div>"
      ],
      "text/plain": [
       "  Sex  Length  Diameter  Height  Whole_Weight  Shucked_Weight  Viscera_Weight  \\\n",
       "0   M   0.455     0.365   0.095        0.5140          0.2245          0.1010   \n",
       "1   M   0.350     0.265   0.090        0.2255          0.0995          0.0485   \n",
       "2   F   0.530     0.420   0.135        0.6770          0.2565          0.1415   \n",
       "3   M   0.440     0.365   0.125        0.5160          0.2155          0.1140   \n",
       "4   I   0.330     0.255   0.080        0.2050          0.0895          0.0395   \n",
       "\n",
       "   Shell_Weight  Rings  \n",
       "0         0.150     15  \n",
       "1         0.070      7  \n",
       "2         0.210      9  \n",
       "3         0.155     10  \n",
       "4         0.055      7  "
      ]
     },
     "execution_count": 194,
     "metadata": {},
     "output_type": "execute_result"
    }
   ],
   "source": [
    "ab = pa.read_csv('Data Sets/Abalone/abalone.csv', names=['Sex', 'Length', 'Diameter', 'Height', 'Whole_Weight', 'Shucked_Weight',\n",
    "                                                        'Viscera_Weight', 'Shell_Weight', 'Rings'])\n",
    "ab.head()"
   ]
  },
  {
   "cell_type": "code",
   "execution_count": 195,
   "metadata": {},
   "outputs": [
    {
     "data": {
      "text/html": [
       "<div>\n",
       "<style scoped>\n",
       "    .dataframe tbody tr th:only-of-type {\n",
       "        vertical-align: middle;\n",
       "    }\n",
       "\n",
       "    .dataframe tbody tr th {\n",
       "        vertical-align: top;\n",
       "    }\n",
       "\n",
       "    .dataframe thead th {\n",
       "        text-align: right;\n",
       "    }\n",
       "</style>\n",
       "<table border=\"1\" class=\"dataframe\">\n",
       "  <thead>\n",
       "    <tr style=\"text-align: right;\">\n",
       "      <th></th>\n",
       "      <th>Sex</th>\n",
       "      <th>Length</th>\n",
       "      <th>Diameter</th>\n",
       "      <th>Height</th>\n",
       "      <th>Whole_Weight</th>\n",
       "      <th>Shucked_Weight</th>\n",
       "      <th>Viscera_Weight</th>\n",
       "      <th>Shell_Weight</th>\n",
       "      <th>Rings</th>\n",
       "      <th>Male</th>\n",
       "      <th>Female</th>\n",
       "      <th>Infant</th>\n",
       "    </tr>\n",
       "  </thead>\n",
       "  <tbody>\n",
       "    <tr>\n",
       "      <td>0</td>\n",
       "      <td>M</td>\n",
       "      <td>0.455</td>\n",
       "      <td>0.365</td>\n",
       "      <td>0.095</td>\n",
       "      <td>0.5140</td>\n",
       "      <td>0.2245</td>\n",
       "      <td>0.1010</td>\n",
       "      <td>0.150</td>\n",
       "      <td>15</td>\n",
       "      <td>1.0</td>\n",
       "      <td>0.0</td>\n",
       "      <td>0.0</td>\n",
       "    </tr>\n",
       "    <tr>\n",
       "      <td>1</td>\n",
       "      <td>M</td>\n",
       "      <td>0.350</td>\n",
       "      <td>0.265</td>\n",
       "      <td>0.090</td>\n",
       "      <td>0.2255</td>\n",
       "      <td>0.0995</td>\n",
       "      <td>0.0485</td>\n",
       "      <td>0.070</td>\n",
       "      <td>7</td>\n",
       "      <td>1.0</td>\n",
       "      <td>0.0</td>\n",
       "      <td>0.0</td>\n",
       "    </tr>\n",
       "    <tr>\n",
       "      <td>2</td>\n",
       "      <td>F</td>\n",
       "      <td>0.530</td>\n",
       "      <td>0.420</td>\n",
       "      <td>0.135</td>\n",
       "      <td>0.6770</td>\n",
       "      <td>0.2565</td>\n",
       "      <td>0.1415</td>\n",
       "      <td>0.210</td>\n",
       "      <td>9</td>\n",
       "      <td>0.0</td>\n",
       "      <td>1.0</td>\n",
       "      <td>0.0</td>\n",
       "    </tr>\n",
       "    <tr>\n",
       "      <td>3</td>\n",
       "      <td>M</td>\n",
       "      <td>0.440</td>\n",
       "      <td>0.365</td>\n",
       "      <td>0.125</td>\n",
       "      <td>0.5160</td>\n",
       "      <td>0.2155</td>\n",
       "      <td>0.1140</td>\n",
       "      <td>0.155</td>\n",
       "      <td>10</td>\n",
       "      <td>1.0</td>\n",
       "      <td>0.0</td>\n",
       "      <td>0.0</td>\n",
       "    </tr>\n",
       "    <tr>\n",
       "      <td>4</td>\n",
       "      <td>I</td>\n",
       "      <td>0.330</td>\n",
       "      <td>0.255</td>\n",
       "      <td>0.080</td>\n",
       "      <td>0.2050</td>\n",
       "      <td>0.0895</td>\n",
       "      <td>0.0395</td>\n",
       "      <td>0.055</td>\n",
       "      <td>7</td>\n",
       "      <td>0.0</td>\n",
       "      <td>0.0</td>\n",
       "      <td>1.0</td>\n",
       "    </tr>\n",
       "  </tbody>\n",
       "</table>\n",
       "</div>"
      ],
      "text/plain": [
       "  Sex  Length  Diameter  Height  Whole_Weight  Shucked_Weight  Viscera_Weight  \\\n",
       "0   M   0.455     0.365   0.095        0.5140          0.2245          0.1010   \n",
       "1   M   0.350     0.265   0.090        0.2255          0.0995          0.0485   \n",
       "2   F   0.530     0.420   0.135        0.6770          0.2565          0.1415   \n",
       "3   M   0.440     0.365   0.125        0.5160          0.2155          0.1140   \n",
       "4   I   0.330     0.255   0.080        0.2050          0.0895          0.0395   \n",
       "\n",
       "   Shell_Weight  Rings  Male  Female  Infant  \n",
       "0         0.150     15   1.0     0.0     0.0  \n",
       "1         0.070      7   1.0     0.0     0.0  \n",
       "2         0.210      9   0.0     1.0     0.0  \n",
       "3         0.155     10   1.0     0.0     0.0  \n",
       "4         0.055      7   0.0     0.0     1.0  "
      ]
     },
     "execution_count": 195,
     "metadata": {},
     "output_type": "execute_result"
    }
   ],
   "source": [
    "# One hot encoding for the 'Sex' feature\n",
    "\n",
    "for k in ab.index:\n",
    "    if ab.loc[k, 'Sex']=='M':\n",
    "        ab.loc[k, 'Male']=1\n",
    "    else: ab.loc[k, 'Male']=0\n",
    "    if ab.loc[k, 'Sex']=='F':\n",
    "        ab.loc[k, 'Female']=1\n",
    "    else: ab.loc[k, 'Female']=0\n",
    "    if ab.loc[k, 'Sex']=='I':\n",
    "        ab.loc[k, 'Infant']=1\n",
    "    else: ab.loc[k, 'Infant']=0\n",
    "        \n",
    "ab.head()"
   ]
  },
  {
   "cell_type": "markdown",
   "metadata": {},
   "source": [
    "The classification problem into all ring values is hard. We can make it easier by classifying whether the number of rings is bigger than or less than the mean."
   ]
  },
  {
   "cell_type": "code",
   "execution_count": 196,
   "metadata": {},
   "outputs": [],
   "source": [
    "t = ab.Rings.mean()\n",
    "for k in ab.index:\n",
    "    if ab.loc[k, 'Rings'] < t:\n",
    "        ab.loc[k, 'Age'] = 0\n",
    "    else: ab.loc[k, 'Age'] = 1"
   ]
  },
  {
   "cell_type": "code",
   "execution_count": 197,
   "metadata": {},
   "outputs": [],
   "source": [
    "keep = ['Length', 'Diameter', 'Height', 'Whole_Weight', 'Shucked_Weight', \n",
    "         'Viscera_Weight', 'Shell_Weight', 'Male', 'Female', 'Infant']\n",
    "X = np.array( ab[ keep] )\n",
    "y = np.array( ab['Age'])\n"
   ]
  },
  {
   "cell_type": "code",
   "execution_count": 198,
   "metadata": {},
   "outputs": [
    {
     "data": {
      "text/html": [
       "<div>\n",
       "<style scoped>\n",
       "    .dataframe tbody tr th:only-of-type {\n",
       "        vertical-align: middle;\n",
       "    }\n",
       "\n",
       "    .dataframe tbody tr th {\n",
       "        vertical-align: top;\n",
       "    }\n",
       "\n",
       "    .dataframe thead th {\n",
       "        text-align: right;\n",
       "    }\n",
       "</style>\n",
       "<table border=\"1\" class=\"dataframe\">\n",
       "  <thead>\n",
       "    <tr style=\"text-align: right;\">\n",
       "      <th></th>\n",
       "      <th>train_0</th>\n",
       "      <th>test_0</th>\n",
       "      <th>train_1</th>\n",
       "      <th>test_1</th>\n",
       "      <th>train_2</th>\n",
       "      <th>test_2</th>\n",
       "      <th>train_3</th>\n",
       "      <th>test_3</th>\n",
       "      <th>train_4</th>\n",
       "      <th>test_4</th>\n",
       "      <th>...</th>\n",
       "      <th>train_20</th>\n",
       "      <th>test_20</th>\n",
       "      <th>train_21</th>\n",
       "      <th>test_21</th>\n",
       "      <th>train_22</th>\n",
       "      <th>test_22</th>\n",
       "      <th>train_23</th>\n",
       "      <th>test_23</th>\n",
       "      <th>train_24</th>\n",
       "      <th>test_24</th>\n",
       "    </tr>\n",
       "  </thead>\n",
       "  <tbody>\n",
       "    <tr>\n",
       "      <td>0</td>\n",
       "      <td>0.803112</td>\n",
       "      <td>0.797605</td>\n",
       "      <td>0.806104</td>\n",
       "      <td>0.783234</td>\n",
       "      <td>0.799521</td>\n",
       "      <td>0.800000</td>\n",
       "      <td>0.803112</td>\n",
       "      <td>0.801198</td>\n",
       "      <td>0.805506</td>\n",
       "      <td>0.795210</td>\n",
       "      <td>...</td>\n",
       "      <td>0.803411</td>\n",
       "      <td>0.792814</td>\n",
       "      <td>0.809695</td>\n",
       "      <td>0.791617</td>\n",
       "      <td>0.807002</td>\n",
       "      <td>0.779641</td>\n",
       "      <td>0.795931</td>\n",
       "      <td>0.792814</td>\n",
       "      <td>0.802513</td>\n",
       "      <td>0.789222</td>\n",
       "    </tr>\n",
       "    <tr>\n",
       "      <td>1</td>\n",
       "      <td>0.810592</td>\n",
       "      <td>0.777246</td>\n",
       "      <td>0.812089</td>\n",
       "      <td>0.779641</td>\n",
       "      <td>0.815081</td>\n",
       "      <td>0.774850</td>\n",
       "      <td>0.811490</td>\n",
       "      <td>0.768862</td>\n",
       "      <td>0.809096</td>\n",
       "      <td>0.768862</td>\n",
       "      <td>...</td>\n",
       "      <td>0.815380</td>\n",
       "      <td>0.759281</td>\n",
       "      <td>0.817774</td>\n",
       "      <td>0.773653</td>\n",
       "      <td>0.815380</td>\n",
       "      <td>0.761677</td>\n",
       "      <td>0.803112</td>\n",
       "      <td>0.759281</td>\n",
       "      <td>0.811789</td>\n",
       "      <td>0.768862</td>\n",
       "    </tr>\n",
       "    <tr>\n",
       "      <td>2</td>\n",
       "      <td>0.812388</td>\n",
       "      <td>0.800000</td>\n",
       "      <td>0.810293</td>\n",
       "      <td>0.785629</td>\n",
       "      <td>0.808797</td>\n",
       "      <td>0.797605</td>\n",
       "      <td>0.807600</td>\n",
       "      <td>0.786826</td>\n",
       "      <td>0.805506</td>\n",
       "      <td>0.784431</td>\n",
       "      <td>...</td>\n",
       "      <td>0.810293</td>\n",
       "      <td>0.797605</td>\n",
       "      <td>0.812687</td>\n",
       "      <td>0.792814</td>\n",
       "      <td>0.810892</td>\n",
       "      <td>0.782036</td>\n",
       "      <td>0.807899</td>\n",
       "      <td>0.789222</td>\n",
       "      <td>0.809695</td>\n",
       "      <td>0.788024</td>\n",
       "    </tr>\n",
       "    <tr>\n",
       "      <td>3</td>\n",
       "      <td>0.811490</td>\n",
       "      <td>0.805988</td>\n",
       "      <td>0.811490</td>\n",
       "      <td>0.802395</td>\n",
       "      <td>0.807002</td>\n",
       "      <td>0.797605</td>\n",
       "      <td>0.812986</td>\n",
       "      <td>0.805988</td>\n",
       "      <td>0.810892</td>\n",
       "      <td>0.797605</td>\n",
       "      <td>...</td>\n",
       "      <td>0.815380</td>\n",
       "      <td>0.810778</td>\n",
       "      <td>0.807301</td>\n",
       "      <td>0.803593</td>\n",
       "      <td>0.817175</td>\n",
       "      <td>0.807186</td>\n",
       "      <td>0.807002</td>\n",
       "      <td>0.802395</td>\n",
       "      <td>0.807600</td>\n",
       "      <td>0.801198</td>\n",
       "    </tr>\n",
       "    <tr>\n",
       "      <td>4</td>\n",
       "      <td>0.808797</td>\n",
       "      <td>0.782036</td>\n",
       "      <td>0.810293</td>\n",
       "      <td>0.767665</td>\n",
       "      <td>0.807899</td>\n",
       "      <td>0.773653</td>\n",
       "      <td>0.815380</td>\n",
       "      <td>0.772455</td>\n",
       "      <td>0.811490</td>\n",
       "      <td>0.774850</td>\n",
       "      <td>...</td>\n",
       "      <td>0.807899</td>\n",
       "      <td>0.780838</td>\n",
       "      <td>0.808199</td>\n",
       "      <td>0.782036</td>\n",
       "      <td>0.807002</td>\n",
       "      <td>0.774850</td>\n",
       "      <td>0.811789</td>\n",
       "      <td>0.779641</td>\n",
       "      <td>0.810592</td>\n",
       "      <td>0.778443</td>\n",
       "    </tr>\n",
       "    <tr>\n",
       "      <td>Mean</td>\n",
       "      <td>0.809276</td>\n",
       "      <td>0.792575</td>\n",
       "      <td>0.810054</td>\n",
       "      <td>0.783713</td>\n",
       "      <td>0.807660</td>\n",
       "      <td>0.788743</td>\n",
       "      <td>0.810114</td>\n",
       "      <td>0.787066</td>\n",
       "      <td>0.808498</td>\n",
       "      <td>0.784192</td>\n",
       "      <td>...</td>\n",
       "      <td>0.810473</td>\n",
       "      <td>0.788263</td>\n",
       "      <td>0.811131</td>\n",
       "      <td>0.788743</td>\n",
       "      <td>0.811490</td>\n",
       "      <td>0.781078</td>\n",
       "      <td>0.805147</td>\n",
       "      <td>0.784671</td>\n",
       "      <td>0.808438</td>\n",
       "      <td>0.785150</td>\n",
       "    </tr>\n",
       "    <tr>\n",
       "      <td>Standard Deviation</td>\n",
       "      <td>0.003303</td>\n",
       "      <td>0.011013</td>\n",
       "      <td>0.002094</td>\n",
       "      <td>0.011199</td>\n",
       "      <td>0.004962</td>\n",
       "      <td>0.011870</td>\n",
       "      <td>0.004318</td>\n",
       "      <td>0.014850</td>\n",
       "      <td>0.002567</td>\n",
       "      <td>0.011168</td>\n",
       "      <td>...</td>\n",
       "      <td>0.004576</td>\n",
       "      <td>0.017378</td>\n",
       "      <td>0.003792</td>\n",
       "      <td>0.010179</td>\n",
       "      <td>0.004198</td>\n",
       "      <td>0.014831</td>\n",
       "      <td>0.005371</td>\n",
       "      <td>0.014636</td>\n",
       "      <td>0.003264</td>\n",
       "      <td>0.010887</td>\n",
       "    </tr>\n",
       "  </tbody>\n",
       "</table>\n",
       "<p>7 rows × 50 columns</p>\n",
       "</div>"
      ],
      "text/plain": [
       "                     train_0    test_0   train_1    test_1   train_2  \\\n",
       "0                   0.803112  0.797605  0.806104  0.783234  0.799521   \n",
       "1                   0.810592  0.777246  0.812089  0.779641  0.815081   \n",
       "2                   0.812388  0.800000  0.810293  0.785629  0.808797   \n",
       "3                   0.811490  0.805988  0.811490  0.802395  0.807002   \n",
       "4                   0.808797  0.782036  0.810293  0.767665  0.807899   \n",
       "Mean                0.809276  0.792575  0.810054  0.783713  0.807660   \n",
       "Standard Deviation  0.003303  0.011013  0.002094  0.011199  0.004962   \n",
       "\n",
       "                      test_2   train_3    test_3   train_4    test_4  ...  \\\n",
       "0                   0.800000  0.803112  0.801198  0.805506  0.795210  ...   \n",
       "1                   0.774850  0.811490  0.768862  0.809096  0.768862  ...   \n",
       "2                   0.797605  0.807600  0.786826  0.805506  0.784431  ...   \n",
       "3                   0.797605  0.812986  0.805988  0.810892  0.797605  ...   \n",
       "4                   0.773653  0.815380  0.772455  0.811490  0.774850  ...   \n",
       "Mean                0.788743  0.810114  0.787066  0.808498  0.784192  ...   \n",
       "Standard Deviation  0.011870  0.004318  0.014850  0.002567  0.011168  ...   \n",
       "\n",
       "                    train_20   test_20  train_21   test_21  train_22  \\\n",
       "0                   0.803411  0.792814  0.809695  0.791617  0.807002   \n",
       "1                   0.815380  0.759281  0.817774  0.773653  0.815380   \n",
       "2                   0.810293  0.797605  0.812687  0.792814  0.810892   \n",
       "3                   0.815380  0.810778  0.807301  0.803593  0.817175   \n",
       "4                   0.807899  0.780838  0.808199  0.782036  0.807002   \n",
       "Mean                0.810473  0.788263  0.811131  0.788743  0.811490   \n",
       "Standard Deviation  0.004576  0.017378  0.003792  0.010179  0.004198   \n",
       "\n",
       "                     test_22  train_23   test_23  train_24   test_24  \n",
       "0                   0.779641  0.795931  0.792814  0.802513  0.789222  \n",
       "1                   0.761677  0.803112  0.759281  0.811789  0.768862  \n",
       "2                   0.782036  0.807899  0.789222  0.809695  0.788024  \n",
       "3                   0.807186  0.807002  0.802395  0.807600  0.801198  \n",
       "4                   0.774850  0.811789  0.779641  0.810592  0.778443  \n",
       "Mean                0.781078  0.805147  0.784671  0.808438  0.785150  \n",
       "Standard Deviation  0.014831  0.005371  0.014636  0.003264  0.010887  \n",
       "\n",
       "[7 rows x 50 columns]"
      ]
     },
     "execution_count": 198,
     "metadata": {},
     "output_type": "execute_result"
    }
   ],
   "source": [
    "# We shuffle the data using a random permutation\n",
    "\n",
    "n = X.shape[0]\n",
    "test = int(0.20*n)            # We will use a test set made up of 20% of the data from our sample\n",
    "perm = rn.permutation(n)   \n",
    "X = X[perm]\n",
    "y = y[perm]\n",
    "\n",
    "tests = 25\n",
    "step = 5\n",
    "a = np.arange(step, step*(tests+1), step)\n",
    "\n",
    "names1 = [ 'train_{}'.format(x) for x in range(tests)]\n",
    "names2 = [ 'test_{}'.format(x) for x in range(tests)]\n",
    "names = []\n",
    "for c in range(tests):\n",
    "    names += [names1[c], names2[c]]\n",
    "\n",
    "\n",
    "Score = pa.DataFrame( np.array([ [0]*5 ]*2*tests).transpose(), columns = names)\n",
    "# Making a DataFrame to record the R2 values in\n",
    "\n",
    "for k in range(5):\n",
    "    X_test = X[k*test:(k+1)*test]       # Then create the test\n",
    "    y_test = y[k*test:(k+1)*test]\n",
    "    X_train = np.concatenate( (X[:k*test], X[(k+1)*test:]), axis=0)     # and train sets\n",
    "    y_train = np.concatenate( (y[:k*test], y[(k+1)*test:]), axis=0)\n",
    "\n",
    "    for c in range(tests):\n",
    "        clf = RandomForestClassifier(n_estimators = a[k], max_depth=5, n_jobs=-1).fit(X_train, y_train)\n",
    "        Score.iloc[k, 2*c] = clf.score(X_train, y_train)\n",
    "        Score.iloc[k, 2*c+1] = clf.score(X_test, y_test)\n",
    "\n",
    "Score_mean = [0]*2*tests\n",
    "Score_std = [0]*2*tests\n",
    "for c in range(2*tests):\n",
    "    Score_mean[c] = np.mean(Score.iloc[0:5, c])\n",
    "    Score_std[c] = np.std(Score.iloc[0:5, c])\n",
    "    \n",
    "Score = Score.append( pa.Series(Score_mean, index=Score.columns), ignore_index=True )\n",
    "Score = Score.append( pa.Series(Score_std, index=Score.columns), ignore_index=True)\n",
    "Score.index = [0, 1, 2, 3, 4, 'Mean', 'Standard Deviation']\n",
    "Score"
   ]
  },
  {
   "cell_type": "code",
   "execution_count": 200,
   "metadata": {},
   "outputs": [
    {
     "data": {
      "image/png": "[encoded data removed]",
      "text/plain": [
       "<Figure size 432x288 with 1 Axes>"
      ]
     },
     "metadata": {
      "needs_background": "light"
     },
     "output_type": "display_data"
    }
   ],
   "source": [
    "plt.plot(a, Score_mean[::2], 'b-')\n",
    "plt.plot(a, Score_mean[1::2], 'r-');\n",
    "plt.savefig('14.16.png')"
   ]
  },
  {
   "cell_type": "code",
   "execution_count": 202,
   "metadata": {},
   "outputs": [
    {
     "data": {
      "image/png": "[encoded data removed]",
      "text/plain": [
       "<Figure size 720x432 with 1 Axes>"
      ]
     },
     "metadata": {
      "needs_background": "light"
     },
     "output_type": "display_data"
    }
   ],
   "source": [
    "clf = RandomForestClassifier(n_estimators = 55, max_depth=5, n_jobs=-1).fit(X, y)\n",
    "plot_feature_importances(clf, keep)\n",
    "plt.savefig('14.17.png')"
   ]
  },
  {
   "cell_type": "code",
   "execution_count": null,
   "metadata": {},
   "outputs": [],
   "source": []
  }
 ],
 "metadata": {
  "kernelspec": {
   "display_name": "Python 3",
   "language": "python",
   "name": "python3"
  },
  "language_info": {
   "codemirror_mode": {
    "name": "ipython",
    "version": 3
   },
   "file_extension": ".py",
   "mimetype": "text/x-python",
   "name": "python",
   "nbconvert_exporter": "python",
   "pygments_lexer": "ipython3",
   "version": "3.7.4"
  }
 },
 "nbformat": 4,
 "nbformat_minor": 4
}

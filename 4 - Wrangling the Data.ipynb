{
 "cells": [
  {
   "cell_type": "markdown",
   "metadata": {},
   "source": [
    "# Wrangling the Data\n",
    "\n",
    "Real world data has problems. The most obvious, that we have seen multiple times so far is the presence of missing or incomplete data. Invalid or innaccurate data is a somewhat less common and much harder to detect problem (as we have discussed before we need to approach rejecting data with great caution). \n",
    "\n",
    "We will take this class to discuss a broad approach to data and cover some common problems that come up for various types of data. We will end with an introduction to dealing with strings and images, two types of data that Python provides powerful tools for working with.\n",
    "\n",
    "## Formatting the Data\n",
    "\n",
    "Putting aside the issue of Big Data (data that is so large that it cannot be loaded into a pandas.DataFrame all at once), the main goal in formatting the data is to set it up so that it can be represented by a pandas.DataFrame structure. Most of the examples we have seen in class have been delivered as CSV files that are ready to be read into a dataframe. The primary exceptions so far have been the Berlin Airbnb data that arrived as multiple cross referenced CSV files, and the image recognition example whose data was a collection of JPG files.\n",
    "\n",
    "However I would like to build a new exception. Let's consider the collected works of Shakespeare, available here: [Works of Shakespeare](http://shakespeare.mit.edu/). And here as a text file: [Works of Shakespeare](https://ocw.mit.edu/ans7870/6/6.006/s08/lecturenotes/files/t8.shakespeare.txt). This also means that we will be dealing with strings first, which is fine as we have already seen examples of dealing with Numerical Data and Categorical Data. You can also get a zipfile with the works as separate txt files here [Fermibot](https://fermibot.com/analysis-of-shakespeares-work-using-python-3/)\n",
    "\n",
    "We will go through this as an example of what one needs to do in formatting data and also dealing with strings, but of course what happens in any specific example is different. The best I can recomend is that you do as many examples as you can so that you have as broad an experience as possible in solving the problems that come up."
   ]
  },
  {
   "cell_type": "code",
   "execution_count": 61,
   "metadata": {},
   "outputs": [],
   "source": [
    "# Reading in a text file line by line:\n",
    "\n",
    "f = open('Data Sets/t8.shakespeare.txt')\n",
    "\n",
    "f1 = f.readlines()"
   ]
  },
  {
   "cell_type": "code",
   "execution_count": 62,
   "metadata": {},
   "outputs": [
    {
     "data": {
      "text/plain": [
       "['This is the 100th Etext file presented by Project Gutenberg, and\\n',\n",
       " 'is presented in cooperation with World Library, Inc., from their\\n',\n",
       " 'Library of the Future and Shakespeare CDROMS.  Project Gutenberg\\n',\n",
       " 'often releases Etexts that are NOT placed in the Public Domain!!\\n',\n",
       " '\\n']"
      ]
     },
     "execution_count": 62,
     "metadata": {},
     "output_type": "execute_result"
    }
   ],
   "source": [
    "# f1 is a list of each line of the file as a string.\n",
    "# The file has a lot of stuff in addition to Shakespeare's Sonnets and Plays\n",
    "\n",
    "f1[0:5]"
   ]
  },
  {
   "cell_type": "code",
   "execution_count": 63,
   "metadata": {},
   "outputs": [
    {
     "data": {
      "text/plain": [
       "249"
      ]
     },
     "execution_count": 63,
     "metadata": {},
     "output_type": "execute_result"
    }
   ],
   "source": [
    "# Finding the start of the actual works involves searching the first instance of the string \n",
    "# 'by William Shakespeare\\n' (more or less, there are a bunch of extra formatting characters\n",
    "# like numbers and stage directions)\n",
    "\n",
    "# Or in the case of the plays searching for 'ACT I. SCENE 1.\\n'\n",
    "\n",
    "start = f1.index('by William Shakespeare\\n')+1\n",
    "start"
   ]
  },
  {
   "cell_type": "code",
   "execution_count": 64,
   "metadata": {},
   "outputs": [
    {
     "data": {
      "text/plain": [
       "2869"
      ]
     },
     "execution_count": 64,
     "metadata": {},
     "output_type": "execute_result"
    }
   ],
   "source": [
    "# The end of an individual work is given by 'THE END\\n'\n",
    "\n",
    "end = f1.index('THE END\\n')\n",
    "end"
   ]
  },
  {
   "cell_type": "code",
   "execution_count": 65,
   "metadata": {},
   "outputs": [
    {
     "data": {
      "text/plain": [
       "[\"    Where Cupid got new fire; my mistress' eyes.\\n\",\n",
       " '\\n',\n",
       " '\\n',\n",
       " '                     154\\n',\n",
       " '  The little Love-god lying once asleep,\\n',\n",
       " '  Laid by his side his heart-inflaming brand,\\n',\n",
       " '  Whilst many nymphs that vowed chaste life to keep,\\n',\n",
       " '  Came tripping by, but in her maiden hand,\\n',\n",
       " '  The fairest votary took up that fire,\\n',\n",
       " '  Which many legions of true hearts had warmed,\\n',\n",
       " '  And so the general of hot desire,\\n',\n",
       " '  Was sleeping by a virgin hand disarmed.\\n',\n",
       " '  This brand she quenched in a cool well by,\\n',\n",
       " \"  Which from Love's fire took heat perpetual,\\n\",\n",
       " '  Growing a bath and healthful remedy,\\n',\n",
       " \"  For men discased, but I my mistress' thrall,\\n\",\n",
       " '    Came there for cure and this by that I prove,  \\n',\n",
       " \"    Love's fire heats water, water cools not love.\\n\",\n",
       " '\\n']"
      ]
     },
     "execution_count": 65,
     "metadata": {},
     "output_type": "execute_result"
    }
   ],
   "source": [
    "# Pulling out the Sonnets\n",
    "ws = f1[start:end]\n",
    "\n",
    "# Removing them from f1\n",
    "f1 = f1[end+1:]\n",
    "\n",
    "ws[2600:-1]"
   ]
  },
  {
   "cell_type": "code",
   "execution_count": 69,
   "metadata": {},
   "outputs": [
    {
     "ename": "AttributeError",
     "evalue": "'NoneType' object has no attribute 'extend'",
     "output_type": "error",
     "traceback": [
      "\u001b[0;31m---------------------------------------------------------------------------\u001b[0m",
      "\u001b[0;31mAttributeError\u001b[0m                            Traceback (most recent call last)",
      "\u001b[0;32m<ipython-input-69-3df6a79b3e04>\u001b[0m in \u001b[0;36m<module>\u001b[0;34m()\u001b[0m\n\u001b[1;32m      4\u001b[0m     \u001b[0mstart\u001b[0m \u001b[0;34m=\u001b[0m \u001b[0mf1\u001b[0m\u001b[0;34m.\u001b[0m\u001b[0mindex\u001b[0m\u001b[0;34m(\u001b[0m\u001b[0;34m'ACT I. SCENE 1.\\n'\u001b[0m\u001b[0;34m)\u001b[0m\u001b[0;34m\u001b[0m\u001b[0;34m\u001b[0m\u001b[0m\n\u001b[1;32m      5\u001b[0m     \u001b[0mend\u001b[0m \u001b[0;34m=\u001b[0m \u001b[0mf1\u001b[0m\u001b[0;34m.\u001b[0m\u001b[0mindex\u001b[0m\u001b[0;34m(\u001b[0m\u001b[0;34m'THE END\\n'\u001b[0m\u001b[0;34m)\u001b[0m\u001b[0;34m\u001b[0m\u001b[0;34m\u001b[0m\u001b[0m\n\u001b[0;32m----> 6\u001b[0;31m     \u001b[0mws\u001b[0m \u001b[0;34m=\u001b[0m \u001b[0mws\u001b[0m\u001b[0;34m.\u001b[0m\u001b[0mextend\u001b[0m\u001b[0;34m(\u001b[0m\u001b[0mf1\u001b[0m\u001b[0;34m[\u001b[0m\u001b[0mstart\u001b[0m\u001b[0;34m:\u001b[0m\u001b[0mend\u001b[0m\u001b[0;34m]\u001b[0m\u001b[0;34m)\u001b[0m\u001b[0;34m\u001b[0m\u001b[0;34m\u001b[0m\u001b[0m\n\u001b[0m\u001b[1;32m      7\u001b[0m     \u001b[0mf1\u001b[0m \u001b[0;34m=\u001b[0m \u001b[0mf1\u001b[0m\u001b[0;34m[\u001b[0m\u001b[0mend\u001b[0m\u001b[0;34m+\u001b[0m\u001b[0;36m1\u001b[0m\u001b[0;34m:\u001b[0m\u001b[0;34m]\u001b[0m\u001b[0;34m\u001b[0m\u001b[0;34m\u001b[0m\u001b[0m\n",
      "\u001b[0;31mAttributeError\u001b[0m: 'NoneType' object has no attribute 'extend'"
     ]
    }
   ],
   "source": [
    "# Going through the whole collection and stripping out just the works of Shakespeare\n",
    "\n",
    "while 'by William Shakespeare\\n' in f1:\n",
    "    start = f1.index('ACT I. SCENE 1.\\n')\n",
    "    end = f1.index('THE END\\n')\n",
    "    ws = ws.extend(f1[start:end])\n",
    "    f1 = f1[end+1:]"
   ]
  },
  {
   "cell_type": "code",
   "execution_count": 70,
   "metadata": {},
   "outputs": [
    {
     "data": {
      "text/plain": [
       "33074"
      ]
     },
     "execution_count": 70,
     "metadata": {},
     "output_type": "execute_result"
    }
   ],
   "source": [
    "f1.index('ACT I. SCENE 1.\\n')"
   ]
  },
  {
   "cell_type": "code",
   "execution_count": 71,
   "metadata": {},
   "outputs": [
    {
     "data": {
      "text/plain": [
       "4190"
      ]
     },
     "execution_count": 71,
     "metadata": {},
     "output_type": "execute_result"
    }
   ],
   "source": [
    "f1.index('THE END\\n')"
   ]
  },
  {
   "cell_type": "code",
   "execution_count": 72,
   "metadata": {},
   "outputs": [],
   "source": [
    "ws"
   ]
  },
  {
   "cell_type": "code",
   "execution_count": null,
   "metadata": {},
   "outputs": [],
   "source": []
  },
  {
   "cell_type": "code",
   "execution_count": null,
   "metadata": {},
   "outputs": [],
   "source": []
  },
  {
   "cell_type": "markdown",
   "metadata": {},
   "source": [
    "\n",
    "## Dealing with Strings\n",
    "\n",
    "## Dealing with Numerical Data\n",
    "\n",
    "## Dealing with Categorical Data\n",
    "\n",
    "## Dealing with Missing Data\n",
    "\n",
    "## Dealing with Images"
   ]
  },
  {
   "cell_type": "code",
   "execution_count": null,
   "metadata": {},
   "outputs": [],
   "source": []
  }
 ],
 "metadata": {
  "kernelspec": {
   "display_name": "Python 3",
   "language": "python",
   "name": "python3"
  },
  "language_info": {
   "codemirror_mode": {
    "name": "ipython",
    "version": 3
   },
   "file_extension": ".py",
   "mimetype": "text/x-python",
   "name": "python",
   "nbconvert_exporter": "python",
   "pygments_lexer": "ipython3",
   "version": "3.7.3"
  }
 },
 "nbformat": 4,
 "nbformat_minor": 4
}

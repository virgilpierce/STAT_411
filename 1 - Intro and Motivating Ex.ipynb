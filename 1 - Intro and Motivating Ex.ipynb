{
 "cells": [
  {
   "cell_type": "markdown",
   "metadata": {},
   "source": [
    "# Introduction to Fundamentals of Data Science - STAT 411\n",
    "\n",
    "We start with some examples of the kinds of problems we will consider in this class. I am calling these motivating problems because we will return to them again and again as class goes on.\n",
    "\n",
    "Please read the syllabus. We will not take time to go over it entirely here. You should have an email from me with:\n",
    "1. The syllabus as an HTML file,\n",
    "2. A link to the Google Drive for class, and \n",
    "3. A link inviting you to joing the Slack channel for our class.\n",
    "\n",
    "I will not go through the whole syllabus today. Before we get started with the statistics, some preliminaries:\n",
    "\n",
    "## Anaconda, Jupyter, and Python\n",
    "\n",
    "We will be using Jupyter and Python for class. Python is a programing language, Jupyter is a shell for intereacting with it and creating nice files, and Anaconda is a distribution that will install both systems for you and manage most of the packages we need.\n",
    "\n",
    "Some details:\n",
    "- [You will need to download and install Anaconda from this website](https://www.anaconda.com/)\n",
    "- You will then need to go into the package manager under *Environments* and install pandas, seaborn, and scikitlearn. If your Jupyter is updated during class you will need to install these pakcages again.\n",
    "\n",
    "## Github\n",
    "\n",
    "[All of the course materials, including the syllabus, will be in the Github repository for our class, available here](https://github.com/virgilpierce/STAT_411). This is a public repository. There are three ways to use it to get the course files. You can download individual files and folders from it, or you can create a Github account and clone it yourself, and finally you could create a Github account and make a pull request for it. \n",
    "\n",
    "Later in class we will cover how to use Github with your team for versioning control.\n",
    "\n",
    "I will accept, and be grateful for, commit requests from you to fix typos in the course files, or you can add them to the \"issues\" tab in Github. \n",
    "\n",
    "## Python\n",
    "\n",
    "The course will use a lot of Python, however I am not assuming you already know it. We will have example files to start from, and it is generally a speaking an easy yet powerful language to learn."
   ]
  },
  {
   "cell_type": "markdown",
   "metadata": {},
   "source": [
    "### Why Python\n",
    "\n",
    "There is a fair amount of debate about whether Data Science should be taught with Python, R, or some other language. Here is why I am using Python and asking you to use it, however as I say this is not a settled question.\n",
    "\n",
    "- Python is realitvely easy to learn. It is a language for which readability counts,\n",
    "- Python is highly used in Mathematics, Statistics and Science. It is generally more broadly applicable than R,\n",
    "- It is widely used in industry for Data Science and other computations,\n",
    "- It is my assertion that if you learn Data Science with Python, you will easily be able to pick up R if you find yourself in a shop that uses it,\n",
    "- And finally the bulk of my experience with Data Science has been through Python.\n",
    "\n"
   ]
  },
  {
   "cell_type": "markdown",
   "metadata": {},
   "source": [
    "## Some Prelimaries"
   ]
  },
  {
   "cell_type": "code",
   "execution_count": 4,
   "metadata": {},
   "outputs": [],
   "source": [
    "# We will typically need four modules\n",
    "\n",
    "import numpy as np\n",
    "import pandas as pa\n",
    "import matplotlib.pyplot as plt\n",
    "import seaborn as sn"
   ]
  },
  {
   "cell_type": "code",
   "execution_count": 5,
   "metadata": {},
   "outputs": [
    {
     "data": {
      "text/plain": [
       "3.0"
      ]
     },
     "execution_count": 5,
     "metadata": {},
     "output_type": "execute_result"
    }
   ],
   "source": [
    "# If you are new to Python these commands are loading external module files that \n",
    "# contains list of commands we need. The command are accessed by the <name of module>.<name of command>\n",
    "# For example\n",
    "\n",
    "np.sqrt(9)\n",
    "\n",
    "# Pulls the sqrt() function from the numpy package. I am using the alias np for numpy (from the 'as np')\n",
    "# to save myself three letters each time I use a numpy command. "
   ]
  },
  {
   "cell_type": "markdown",
   "metadata": {},
   "source": [
    "Note what happened here:\n",
    "\n",
    "- The \"#\" characters represent comment lines - they are not ready by the interpreter,\n",
    "- In Jupyter the last executed line of a cell is cycled through the print() function and displayed as nice output.\n",
    "\n",
    "### Getting Help\n",
    "\n",
    "First there is inline help from two functions:"
   ]
  },
  {
   "cell_type": "code",
   "execution_count": 10,
   "metadata": {},
   "outputs": [
    {
     "data": {
      "text/plain": [
       "\u001b[0;31mInit signature:\u001b[0m \u001b[0mlist\u001b[0m\u001b[0;34m(\u001b[0m\u001b[0miterable\u001b[0m\u001b[0;34m=\u001b[0m\u001b[0;34m(\u001b[0m\u001b[0;34m)\u001b[0m\u001b[0;34m,\u001b[0m \u001b[0;34m/\u001b[0m\u001b[0;34m)\u001b[0m\u001b[0;34m\u001b[0m\u001b[0;34m\u001b[0m\u001b[0m\n",
       "\u001b[0;31mDocstring:\u001b[0m     \n",
       "Built-in mutable sequence.\n",
       "\n",
       "If no argument is given, the constructor creates a new empty list.\n",
       "The argument must be an iterable if specified.\n",
       "\u001b[0;31mType:\u001b[0m           type\n",
       "\u001b[0;31mSubclasses:\u001b[0m     _HashedSeq, StackSummary, SList, _ImmutableLineList, FormattedText, NodeList, _ExplodedList, Stack, _Accumulator, _ymd, ...\n"
      ]
     },
     "metadata": {},
     "output_type": "display_data"
    }
   ],
   "source": [
    "# Adding a question mark after a command gives us an overview of that command\n",
    "\n",
    "list?"
   ]
  },
  {
   "cell_type": "code",
   "execution_count": 11,
   "metadata": {},
   "outputs": [
    {
     "data": {
      "text/plain": [
       "['append',\n",
       " 'clear',\n",
       " 'copy',\n",
       " 'count',\n",
       " 'extend',\n",
       " 'index',\n",
       " 'insert',\n",
       " 'pop',\n",
       " 'remove',\n",
       " 'reverse',\n",
       " 'sort']"
      ]
     },
     "execution_count": 11,
     "metadata": {},
     "output_type": "execute_result"
    }
   ],
   "source": [
    "# the dir() function lists attributes a function has:\n",
    "# However many of the attributes are so-called system attributes and not very helpful. \n",
    "# I typically ask Python to drop them using a simple list comprehension.\n",
    "\n",
    "[x for x in dir(list) if not '__' in x]\n",
    "\n",
    "# You can read this command in English: [] - make a list; of elements x for each x in \n",
    "# dir(np.sqrt) if x does not contain the string '__'"
   ]
  },
  {
   "cell_type": "markdown",
   "metadata": {},
   "source": [
    "What we get is a list of commands that can apply to a list in Python.\n",
    "\n",
    "Then there is google help. Particularly if you are using one of the packages like seaborn, there is extensive online documentation about how it works. Just look. Most problems can be resolved in a few minutes.\n",
    "\n",
    "I have reference books, but my warning to you is not to spend to much money on them. The online help has more detail, and in my experience the books will never have the right details."
   ]
  }
 ],
 "metadata": {
  "kernelspec": {
   "display_name": "Python 3",
   "language": "python",
   "name": "python3"
  },
  "language_info": {
   "codemirror_mode": {
    "name": "ipython",
    "version": 3
   },
   "file_extension": ".py",
   "mimetype": "text/x-python",
   "name": "python",
   "nbconvert_exporter": "python",
   "pygments_lexer": "ipython3",
   "version": "3.7.3"
  }
 },
 "nbformat": 4,
 "nbformat_minor": 2
}

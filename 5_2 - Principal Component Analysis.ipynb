{
 "cells": [
  {
   "cell_type": "markdown",
   "metadata": {},
   "source": [
    "# Principal Component Analysis\n",
    "\n",
    "In our last class we derived our first model *Linear Regression* by appealing to ideas from Linear Algebra (and Calculus). In the chapter before that we took some time to explore our data particularly looking at graphs and categorical variables trying to identify relations between predictors or relations between predictors and results. We also saw that in some cases adding additional variables helped us explain additional details of our model.\n",
    "\n",
    "You might, at this point, be a little bit unsettled. Particularly if your dataset is one with many features or has categorical features that with one-hot-encoding will become many features. How can we possibly identify all the relationships between features or identify the features that are most important in explaining our model. It is frankly, when we are thinking about a model with 81 features (before one-hot-encoding) a bit overwhelming.\n",
    "\n",
    "What we would like is a method of identifying the most important features in a model, the ones that will go the furthest to explaining our result value. Ideally this is a method that will work automatically without us having to make decisions. Luckily *Linear Algebra* again comes to the rescue with a result called *The Singular Value Decomposition* of a matrix which leads to the *Principal Component Analysis* of the predictors. \n",
    "\n",
    "We will take some time to describe this result here, for those of you who have had Linear Algebra. However at the end of the day this will be one more tool from scikitlearn that we will learn to use and if necessary you can think of it as a black-box (i.e. you put your matrix of predictors into it and it spits out the most important features). If you are interested in further background, I suggest the book *Applied Linear Algebra* by Gilbert Strang which is now available for free on the MIT Open Courseware Website.\n",
    "\n",
    "Now what we will actually get will be **linear combinations of the predictors** ordered by the the ones that explain the largest propotion of the variation between the samples."
   ]
  },
  {
   "cell_type": "markdown",
   "metadata": {},
   "source": [
    "## Eigenvalue Decomposition of Square Matrix\n",
    "\n",
    "We begin our story by going back to what was probably one of the last things you learned about in your Linear Algebra class. Given a square matrix we can define eigenvalue and eigenvector pairs $(\\lambda, v)$ as solutions to the equation:\n",
    "\n",
    "$$ A v = \\lambda v $$\n",
    "\n",
    "Roughly these are vector directions in which $A$ actcs as a scalar. Putting the eigenvectors $v$ as columns of a matrix $Q$ we have:\n",
    "\n",
    "$$ A = Q D Q^{-1} $$\n",
    "\n",
    "where $Q$ is a matrix whose columnns are Eigenvectors; and $D$ is a diagonal matrix of the eigenvectors:\n",
    "\n",
    "$$ D = \\begin{pmatrix} \\lambda_0 & 0 & \\dots \\\\ 0 & \\lambda_1 & 0 & \\dots \\\\ & & \\ddots  \\\\ & & & \\lambda_n \\end{pmatrix} $$\n",
    "\n",
    "In the non-generic cases (i.e. special and rare cases) this decomposition is not possible, but generalizations of it, where $D$ is not diagonal, are. In the case that $A$ is symmetric ($A = A^T$) then this is further specialized to:\n",
    "\n",
    "$$ A = Q D Q^T $$\n",
    "\n",
    "where $Q Q^T = I$. A symmetric matrix also guaruntees that the eigenvalues are real.\n",
    "\n",
    "### Computing Eigenvalues\n",
    "\n",
    "You may have learned some techniques for computing eigenvalues. Usually you first learn that you can find them by solving the equation \n",
    "\n",
    "$$ \\mbox{det}( A - \\lambda I) = 0 $$\n",
    "\n",
    "It turns out that this is generally not a great way compute them as it amounts to solving a polynomial of degree $n$. There are other \n",
    "techniques that are much more effecient especially if what we want are approximate eigenvalues. These are what are implemented in Python's numpy module."
   ]
  },
  {
   "cell_type": "code",
   "execution_count": 1,
   "metadata": {},
   "outputs": [],
   "source": [
    "import numpy as np\n",
    "import numpy.linalg as la"
   ]
  },
  {
   "cell_type": "code",
   "execution_count": 2,
   "metadata": {},
   "outputs": [
    {
     "name": "stdout",
     "output_type": "stream",
     "text": [
      "[[1 1 2]\n",
      " [1 3 1]\n",
      " [2 1 0]] (3, 3)\n"
     ]
    }
   ],
   "source": [
    "# Just to be explicit; let A be a square matrix\n",
    "\n",
    "A = np.array([ [1, 1, 2], [1, 3, 1], [2, 1, 0]])\n",
    "print(A, A.shape)"
   ]
  },
  {
   "cell_type": "code",
   "execution_count": 4,
   "metadata": {},
   "outputs": [
    {
     "name": "stdout",
     "output_type": "stream",
     "text": [
      "[-1.56884961  1.36444806  4.20440155] \n",
      " [[ 0.60350126 -0.6228405  -0.49785133]\n",
      " [ 0.04218655  0.64843974 -0.76009618]\n",
      " [-0.79624527 -0.43771637 -0.41760969]]\n"
     ]
    }
   ],
   "source": [
    "lam, Q = la.eig(A)\n",
    "print(lam, '\\n', Q)"
   ]
  },
  {
   "cell_type": "code",
   "execution_count": 5,
   "metadata": {},
   "outputs": [
    {
     "data": {
      "text/plain": [
       "array([[ 1.00000000e+00,  0.00000000e+00, -5.55111512e-17],\n",
       "       [ 0.00000000e+00,  1.00000000e+00, -2.22044605e-16],\n",
       "       [-5.55111512e-17, -2.22044605e-16,  1.00000000e+00]])"
      ]
     },
     "execution_count": 5,
     "metadata": {},
     "output_type": "execute_result"
    }
   ],
   "source": [
    "Q @ Q.transpose()\n",
    "\n",
    "# note that we get the identity up to a machine 0."
   ]
  },
  {
   "cell_type": "markdown",
   "metadata": {},
   "source": [
    "## Singular Value Decomposition\n",
    "\n",
    "Note though that for us, we are dealing with matrices $X$ that have many more rows than columns (or in the case of image problems many more columns than rows). Essentially square matrices will not happen. However, noting what we learned with *Linear Regression* in the last chapter, it is maybe not a surprise that what we might want to consider is \n",
    "\n",
    "$$ X^T X \\qquad \\mbox{or} \\qquad X X^T $$\n",
    "\n",
    "If $X$ is $n$ by $m$ then $X^T X$ is square $m$ by $m$; while $X X^T$ is square $n$ by $n$. We could then compute their eigenvalue diagonalizations: \n",
    "\n",
    "$$ X^T X = V D_1 V^T $$ \n",
    "\n",
    "and \n",
    "\n",
    "$$ X X^T = U D_2 U^T $$\n",
    "\n",
    "where $V V^T = I_m $ and $ U U^T = I_n$ Note that the two identies are not equal and also that the diagonal matrices have different sizes.\n",
    "\n",
    "The singular value decomposition of $X$ is then:\n",
    "\n",
    "$$ X = U \\Sigma V^T $$\n",
    "\n",
    "The columns of $U$ and $V$ are left- and right-singular vectors and the $\\Sigma$ is a pseudo-diagonal matrix (it is $n$ by $m$ rather than square) of the singular values, which are positive real numbers:\n",
    "\n",
    "$$ \\Sigma = \\begin{pmatrix} s_0 & 0 & \\dots \\\\ 0 & s_1 & \\dots \\\\ \\vdots & \\vdots & \\ddots \\\\ 0 & \\dots & 0 \\end{pmatrix} $$\n",
    "\n",
    "$\\Sigma$ is unique, up to the order of the singular values, however the $U$ and $V$ are not unique. If we order $\\Sigma$ so that $s_0 > s_1 > \\dots > s_m $ then $V$ gives an operation that picks out of $X$ the most important contributions in order. I.e. transforming $X$ by the first $k$ columns of $V$ will give $k$ orthonormal linear combination of the columns of $X$ that produce column vectors that are the $k$ most important in explaining the variation of the entries of $X$. \n",
    "\n",
    "This is a little bit wishy-washy, so lets do a concrete example. \n",
    "\n",
    "### Iris Example"
   ]
  },
  {
   "cell_type": "code",
   "execution_count": 6,
   "metadata": {},
   "outputs": [],
   "source": [
    "import pandas as pa\n",
    "import matplotlib.pyplot as plt\n",
    "import seaborn as sn"
   ]
  },
  {
   "cell_type": "code",
   "execution_count": 7,
   "metadata": {},
   "outputs": [
    {
     "data": {
      "text/html": [
       "<div>\n",
       "<style scoped>\n",
       "    .dataframe tbody tr th:only-of-type {\n",
       "        vertical-align: middle;\n",
       "    }\n",
       "\n",
       "    .dataframe tbody tr th {\n",
       "        vertical-align: top;\n",
       "    }\n",
       "\n",
       "    .dataframe thead th {\n",
       "        text-align: right;\n",
       "    }\n",
       "</style>\n",
       "<table border=\"1\" class=\"dataframe\">\n",
       "  <thead>\n",
       "    <tr style=\"text-align: right;\">\n",
       "      <th></th>\n",
       "      <th>sepal length</th>\n",
       "      <th>sepal width</th>\n",
       "      <th>petal length</th>\n",
       "      <th>petal width</th>\n",
       "      <th>flower type</th>\n",
       "    </tr>\n",
       "  </thead>\n",
       "  <tbody>\n",
       "    <tr>\n",
       "      <td>0</td>\n",
       "      <td>5.1</td>\n",
       "      <td>3.5</td>\n",
       "      <td>1.4</td>\n",
       "      <td>0.2</td>\n",
       "      <td>0</td>\n",
       "    </tr>\n",
       "    <tr>\n",
       "      <td>1</td>\n",
       "      <td>4.9</td>\n",
       "      <td>3.0</td>\n",
       "      <td>1.4</td>\n",
       "      <td>0.2</td>\n",
       "      <td>0</td>\n",
       "    </tr>\n",
       "    <tr>\n",
       "      <td>2</td>\n",
       "      <td>4.7</td>\n",
       "      <td>3.2</td>\n",
       "      <td>1.3</td>\n",
       "      <td>0.2</td>\n",
       "      <td>0</td>\n",
       "    </tr>\n",
       "    <tr>\n",
       "      <td>3</td>\n",
       "      <td>4.6</td>\n",
       "      <td>3.1</td>\n",
       "      <td>1.5</td>\n",
       "      <td>0.2</td>\n",
       "      <td>0</td>\n",
       "    </tr>\n",
       "    <tr>\n",
       "      <td>4</td>\n",
       "      <td>5.0</td>\n",
       "      <td>3.6</td>\n",
       "      <td>1.4</td>\n",
       "      <td>0.2</td>\n",
       "      <td>0</td>\n",
       "    </tr>\n",
       "  </tbody>\n",
       "</table>\n",
       "</div>"
      ],
      "text/plain": [
       "   sepal length  sepal width  petal length  petal width  flower type\n",
       "0           5.1          3.5           1.4          0.2            0\n",
       "1           4.9          3.0           1.4          0.2            0\n",
       "2           4.7          3.2           1.3          0.2            0\n",
       "3           4.6          3.1           1.5          0.2            0\n",
       "4           5.0          3.6           1.4          0.2            0"
      ]
     },
     "execution_count": 7,
     "metadata": {},
     "output_type": "execute_result"
    }
   ],
   "source": [
    "ird = pa.read_csv('Data Sets/iris.csv')\n",
    "ird.head()"
   ]
  },
  {
   "cell_type": "markdown",
   "metadata": {},
   "source": [
    "This is a collection of data giving the dimensions of the sepals and petals of three species of irises. The task is to predict the species from these values. It is relatively small for our class with only 150 samples and 5 features (4 predictors and 1 result) however it fullfills the important part of being largely non-square with more samples than predictors."
   ]
  },
  {
   "cell_type": "code",
   "execution_count": 8,
   "metadata": {},
   "outputs": [
    {
     "data": {
      "text/plain": [
       "(150, 5)"
      ]
     },
     "execution_count": 8,
     "metadata": {},
     "output_type": "execute_result"
    }
   ],
   "source": [
    "ird.shape"
   ]
  },
  {
   "cell_type": "code",
   "execution_count": 9,
   "metadata": {},
   "outputs": [],
   "source": [
    "# Build a matrix of the predictors and results\n",
    "\n",
    "X = np.array(ird.iloc[:, 0:4])\n",
    "y = np.array(ird.iloc[:, 4])"
   ]
  },
  {
   "cell_type": "code",
   "execution_count": 10,
   "metadata": {},
   "outputs": [
    {
     "data": {
      "image/png": "[encoded data removed]",
      "text/plain": [
       "<Figure size 432x288 with 1 Axes>"
      ]
     },
     "metadata": {
      "needs_background": "light"
     },
     "output_type": "display_data"
    }
   ],
   "source": [
    "# We can check how the predictors do at classifying flower types by graphing individual pairs for example Sepal_Length and Sepal_Width\n",
    "\n",
    "plt.plot(X[y==0, 0], X[y==0, 1], 'r.')\n",
    "plt.plot(X[y==1, 0], X[y==1, 1], 'g.')\n",
    "plt.plot(X[y==2, 0], X[y==2, 1], 'b.');"
   ]
  },
  {
   "cell_type": "markdown",
   "metadata": {},
   "source": [
    "On the one hand this is pretty good, and in fact it is clear that these two variables could easily be used to classify the flower type as 0 and not 0 with minimal error. However we have four variables and maybe by combining all 4 and taking the two best predictors we can do better."
   ]
  },
  {
   "cell_type": "code",
   "execution_count": 12,
   "metadata": {},
   "outputs": [
    {
     "data": {
      "text/plain": [
       "((150, 150), (4,), (4, 4))"
      ]
     },
     "execution_count": 12,
     "metadata": {},
     "output_type": "execute_result"
    }
   ],
   "source": [
    "u, s, vt = la.svd(X, full_matrices=True)\n",
    "u.shape, s.shape, vt.shape"
   ]
  },
  {
   "cell_type": "code",
   "execution_count": 13,
   "metadata": {},
   "outputs": [
    {
     "name": "stdout",
     "output_type": "stream",
     "text": [
      "[95.95066751 17.72295328  3.46929666  1.87891236]\n"
     ]
    }
   ],
   "source": [
    "print(s)"
   ]
  },
  {
   "cell_type": "code",
   "execution_count": 14,
   "metadata": {},
   "outputs": [
    {
     "data": {
      "text/plain": [
       "array([[95.95066751,  0.        ,  0.        ,  0.        ],\n",
       "       [ 0.        , 17.72295328,  0.        ,  0.        ],\n",
       "       [ 0.        ,  0.        ,  3.46929666,  0.        ],\n",
       "       [ 0.        ,  0.        ,  0.        ,  1.87891236],\n",
       "       [ 0.        ,  0.        ,  0.        ,  0.        ],\n",
       "       [ 0.        ,  0.        ,  0.        ,  0.        ],\n",
       "       [ 0.        ,  0.        ,  0.        ,  0.        ],\n",
       "       [ 0.        ,  0.        ,  0.        ,  0.        ],\n",
       "       [ 0.        ,  0.        ,  0.        ,  0.        ],\n",
       "       [ 0.        ,  0.        ,  0.        ,  0.        ]])"
      ]
     },
     "execution_count": 14,
     "metadata": {},
     "output_type": "execute_result"
    }
   ],
   "source": [
    "# We can build sigma from s\n",
    "sigma = np.append(np.diag(s), np.zeros((150-4, 4)), axis=0 )\n",
    "sigma[:10, :]"
   ]
  },
  {
   "cell_type": "code",
   "execution_count": 15,
   "metadata": {},
   "outputs": [
    {
     "name": "stdout",
     "output_type": "stream",
     "text": [
      "[[ 1.77635684e-15  1.02140518e-14  7.77156117e-15  4.38538095e-15]\n",
      " [ 0.00000000e+00  0.00000000e+00  6.21724894e-15  1.27675648e-15]\n",
      " [ 0.00000000e+00  1.77635684e-15  0.00000000e+00 -8.32667268e-16]\n",
      " [ 0.00000000e+00  1.33226763e-15  0.00000000e+00 -4.99600361e-16]\n",
      " [ 0.00000000e+00  1.77635684e-15  2.22044605e-16 -5.55111512e-17]\n",
      " [ 8.88178420e-16  2.66453526e-15  8.88178420e-16  2.22044605e-16]\n",
      " [-8.88178420e-16  1.33226763e-15  8.88178420e-16  2.77555756e-16]\n",
      " [ 8.88178420e-16  1.33226763e-15  4.44089210e-16 -5.55111512e-17]\n",
      " [ 0.00000000e+00  1.33226763e-15  0.00000000e+00 -5.55111512e-17]\n",
      " [ 0.00000000e+00  8.88178420e-16  0.00000000e+00 -2.77555756e-17]]\n"
     ]
    }
   ],
   "source": [
    "print( (u @ sigma @ vt - X)[0:10, :] )\n",
    "# Check that u, sigma, and vt reconstruct X"
   ]
  },
  {
   "cell_type": "code",
   "execution_count": 16,
   "metadata": {},
   "outputs": [],
   "source": [
    "v = vt.transpose()\n",
    "\n",
    "# The columns of v given, in descending order, the most important factors explaining the variations in X"
   ]
  },
  {
   "cell_type": "code",
   "execution_count": 17,
   "metadata": {},
   "outputs": [],
   "source": [
    "# Take the two most important factors and build a new X\n",
    "\n",
    "X2 = X @ v[:, 0:2]"
   ]
  },
  {
   "cell_type": "code",
   "execution_count": 18,
   "metadata": {},
   "outputs": [
    {
     "data": {
      "image/png": "[encoded data removed]",
      "text/plain": [
       "<Figure size 432x288 with 1 Axes>"
      ]
     },
     "metadata": {
      "needs_background": "light"
     },
     "output_type": "display_data"
    }
   ],
   "source": [
    "# We can check how the predictors do at classifying flower types by graphing individual pairs for example Sepal_Length and Sepal_Width\n",
    "\n",
    "plt.plot(X2[y==0, 0], X2[y==0, 1], 'r.')\n",
    "plt.plot(X2[y==1, 0], X2[y==1, 1], 'g.')\n",
    "plt.plot(X2[y==2, 0], X2[y==2, 1], 'b.');"
   ]
  },
  {
   "cell_type": "markdown",
   "metadata": {},
   "source": [
    "The size of the singular values actually identifies how important the new feature is. The more rapidly they decay the better the early features do at explaining the variations in the data.\n",
    "\n",
    "#### Principal Component Analysis\n",
    "\n",
    "Scikitlearn contains a variation on this method called Principal Component Analysis that does the computation here, but also normalizes the results in a way that is better suited for data analysis and varies the routines and approximations to run as effeciently as possible on the data you use. It also has some attached functions that can be used to illustrate how well the method has worked.\n",
    "\n"
   ]
  },
  {
   "cell_type": "code",
   "execution_count": 19,
   "metadata": {},
   "outputs": [],
   "source": [
    "from sklearn.decomposition import PCA"
   ]
  },
  {
   "cell_type": "code",
   "execution_count": 20,
   "metadata": {},
   "outputs": [],
   "source": [
    "pca = PCA(n_components=2) # Use PCA to identify the two most important components\n",
    "\n",
    "# component here means a linear combination of the features\n",
    "\n",
    "Xpca = pca.fit_transform(X);"
   ]
  },
  {
   "cell_type": "code",
   "execution_count": 21,
   "metadata": {},
   "outputs": [
    {
     "data": {
      "image/png": "[encoded data removed]",
      "text/plain": [
       "<Figure size 432x288 with 1 Axes>"
      ]
     },
     "metadata": {
      "needs_background": "light"
     },
     "output_type": "display_data"
    }
   ],
   "source": [
    "# We can check how the predictors do at classifying flower types by graphing individual pairs for example Sepal_Length and Sepal_Width\n",
    "\n",
    "plt.plot(Xpca[y==0, 0], Xpca[y==0, 1], 'r.')\n",
    "plt.plot(Xpca[y==1, 0], Xpca[y==1, 1], 'g.')\n",
    "plt.plot(Xpca[y==2, 0], Xpca[y==2, 1], 'b.');"
   ]
  },
  {
   "cell_type": "code",
   "execution_count": 22,
   "metadata": {},
   "outputs": [
    {
     "name": "stdout",
     "output_type": "stream",
     "text": [
      "[0.92461621 0.05301557]\n"
     ]
    }
   ],
   "source": [
    "# The explained variance quantifies the propotion of the variation in the values of X that have been explained by each component\n",
    "\n",
    "print(pca.explained_variance_ratio_)"
   ]
  },
  {
   "cell_type": "markdown",
   "metadata": {},
   "source": [
    "Note that PCA is our first example of an unsupervised learning method (it works independently of the result values and rather tries to organize the predictors).\n",
    "\n",
    "### Use in a Model\n",
    "\n",
    "So fine this looks better, but is it actually producing a better model. So first of all it is unlikely to produce a better model if we use all of the features. The power of PCA is in identifying new features that will let us build a model faster. Let's compare using the logistic model on the data above using just the first two features and then using the first two principle components."
   ]
  },
  {
   "cell_type": "code",
   "execution_count": 24,
   "metadata": {},
   "outputs": [],
   "source": [
    "# We shuffle the data using a random permutation\n",
    "import numpy.random as rn\n",
    "n = X.shape[0]\n",
    "test = int(0.20*n)            # We will use a test set made up of 20% of the data from our sample\n",
    "perm = rn.permutation(n)   \n",
    "X = X[perm]\n",
    "y = y[perm]\n",
    "X_test = X[:test]       # Then create the test\n",
    "y_test = y[:test]\n",
    "X_train = X[test:]     # and train sets\n",
    "y_train = y[test:]"
   ]
  },
  {
   "cell_type": "code",
   "execution_count": 25,
   "metadata": {},
   "outputs": [],
   "source": [
    "from sklearn.linear_model import LogisticRegression"
   ]
  },
  {
   "cell_type": "code",
   "execution_count": 26,
   "metadata": {},
   "outputs": [
    {
     "data": {
      "text/plain": [
       "(0.8083333333333333, 0.7333333333333333)"
      ]
     },
     "execution_count": 26,
     "metadata": {},
     "output_type": "execute_result"
    }
   ],
   "source": [
    "cat1 = LogisticRegression(solver='lbfgs', multi_class='auto').fit(X_train[:, 0:2], y_train)\n",
    "cat1.score(X_train[:, 0:2], y_train), cat1.score(X_test[:, 0:2], y_test)"
   ]
  },
  {
   "cell_type": "code",
   "execution_count": 27,
   "metadata": {},
   "outputs": [],
   "source": [
    "import matplotlib.colors as pltco # A package to help with coloring plots"
   ]
  },
  {
   "cell_type": "code",
   "execution_count": 28,
   "metadata": {},
   "outputs": [],
   "source": [
    "# A bit of code for plotting the decision boundaries in a categorical problem with two predictors and three values for the result\n",
    "def plot_cat_model(clf, X_train, y_train, X_test, y_test):\n",
    "\n",
    "    h = .02 # Mesh size  \n",
    "    # Plot the decision boundary. For that, we will assign a color to each\n",
    "    # point in the mesh [x_min, m_max]x[y_min, y_max].\n",
    "    x_min, x_max = X_train[:, 0].min() - 1, X_train[:, 0].max() + 1\n",
    "    y_min, y_max = X_train[:, 1].min() - 1, X_train[:, 1].max() + 1\n",
    "    xx, yy = np.meshgrid(np.arange(x_min, x_max, h),\n",
    "        np.arange(y_min, y_max, h))\n",
    "    Z = clf.predict(np.c_[xx.ravel(), yy.ravel()])\n",
    "\n",
    "    # Put the result into a color plot\n",
    "    Z = Z.reshape(xx.shape)\n",
    "\n",
    "    plt.figure(figsize=(8, 6))\n",
    "    cmap_light = pltco.ListedColormap(['#FFAAAA', '#AAFFAA', '#AAAAFF'])\n",
    "    cmap_bold = pltco.ListedColormap(['#FF0000', '#00FF00', '#0000FF'])\n",
    "    plt.pcolormesh(xx, yy, Z, cmap=cmap_light);\n",
    "\n",
    "    plt.scatter(X_train[:, 0], X_train[:, 1], c=y_train, cmap=cmap_bold,marker='o')\n",
    "    plt.scatter(X_test[:, 0], X_test[:, 1], c=y_test, cmap=cmap_bold, marker='+');"
   ]
  },
  {
   "cell_type": "code",
   "execution_count": 29,
   "metadata": {},
   "outputs": [
    {
     "data": {
      "image/png": "[encoded data removed]",
      "text/plain": [
       "<Figure size 576x432 with 1 Axes>"
      ]
     },
     "metadata": {
      "needs_background": "light"
     },
     "output_type": "display_data"
    }
   ],
   "source": [
    "plot_cat_model(cat1, X_train, y_train, X_test, y_test)"
   ]
  },
  {
   "cell_type": "code",
   "execution_count": 30,
   "metadata": {},
   "outputs": [],
   "source": [
    "# Compute the first two principle components\n",
    "\n",
    "pca = PCA(n_components=2)\n",
    "Xpca_train = pca.fit_transform(X_train)\n",
    "Xpca_test = pca.transform(X_test)"
   ]
  },
  {
   "cell_type": "code",
   "execution_count": 31,
   "metadata": {},
   "outputs": [
    {
     "data": {
      "text/plain": [
       "(0.975, 0.8666666666666667)"
      ]
     },
     "execution_count": 31,
     "metadata": {},
     "output_type": "execute_result"
    }
   ],
   "source": [
    "# Train a new logistic model\n",
    "\n",
    "cat2 = LogisticRegression(solver='lbfgs', multi_class='auto').fit(Xpca_train, y_train)\n",
    "cat2.score(Xpca_train, y_train), cat2.score(Xpca_test, y_test)"
   ]
  },
  {
   "cell_type": "code",
   "execution_count": 32,
   "metadata": {},
   "outputs": [
    {
     "data": {
      "image/png": "[encoded data removed]",
      "text/plain": [
       "<Figure size 576x432 with 1 Axes>"
      ]
     },
     "metadata": {
      "needs_background": "light"
     },
     "output_type": "display_data"
    }
   ],
   "source": [
    "plot_cat_model(cat2, Xpca_train, y_train, Xpca_test, y_test)"
   ]
  },
  {
   "cell_type": "markdown",
   "metadata": {},
   "source": [
    "### Warning\n",
    "\n",
    "It is worth ending with a warning. PCA does not always lead us to a model with good results. You should think of it as one more tool in our toolbox. It is worth using it to try and identify the important characteristics, but\n",
    "\n",
    "1. It is not the only method for doing that; and\n",
    "2. It will not always produce an improved model.\n",
    "3. For Linear Regression it is not likely to improve things as that is already using linear combinations of the factors."
   ]
  },
  {
   "cell_type": "code",
   "execution_count": null,
   "metadata": {},
   "outputs": [],
   "source": []
  }
 ],
 "metadata": {
  "kernelspec": {
   "display_name": "Python 3",
   "language": "python",
   "name": "python3"
  },
  "language_info": {
   "codemirror_mode": {
    "name": "ipython",
    "version": 3
   },
   "file_extension": ".py",
   "mimetype": "text/x-python",
   "name": "python",
   "nbconvert_exporter": "python",
   "pygments_lexer": "ipython3",
   "version": "3.7.4"
  }
 },
 "nbformat": 4,
 "nbformat_minor": 4
}
